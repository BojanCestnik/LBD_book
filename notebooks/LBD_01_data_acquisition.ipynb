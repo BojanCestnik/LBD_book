{
 "cells": [
  {
   "attachments": {},
   "cell_type": "markdown",
   "metadata": {},
   "source": [
    "# 1. Data Acquisition Module\n",
    "\n",
    "This module is responsible for acquiring and loading the text data from various sources like text files, CSV files, or APIs."
   ]
  },
  {
   "cell_type": "code",
   "execution_count": 3,
   "metadata": {},
   "outputs": [],
   "source": [
    "import os\n",
    "import pandas as pd\n",
    "import requests\n",
    "from bs4 import BeautifulSoup\n",
    "from typing import List, Dict, Any\n",
    "import logging"
   ]
  },
  {
   "attachments": {},
   "cell_type": "markdown",
   "metadata": {},
   "source": [
    "Function load_data_from_file takes a file path as input and checks whether the file exists. \n",
    "If the file does not exist, a FileNotFoundError is raised. \n",
    "Otherwise, the function reads the content of the file line by line using the readlines() method and returns \n",
    "a list of strings containing the text data. The function uses the 'utf-8' encoding to handle various character sets.\n",
    "\n"
   ]
  },
  {
   "cell_type": "code",
   "execution_count": 4,
   "metadata": {},
   "outputs": [],
   "source": [
    "def load_data_from_file(file_path: str) -> List[str]:\n",
    "    \"\"\"\n",
    "    Load text data from a file.\n",
    "    :param file_path: str, the path to the text file\n",
    "    :return: List[str], a list of strings containing the text data\n",
    "    \"\"\"\n",
    "    if not os.path.exists(file_path):\n",
    "        raise FileNotFoundError(f\"The file '{file_path}' does not exist.\")\n",
    "        \n",
    "    # with open(file_path, 'r', encoding='utf-8') as file:\n",
    "    with open(file_path, 'r') as file:\n",
    "        data = file.readlines()\n",
    "\n",
    "    logging.info(f'Loaded {len(data)} lines from \"{file_path}\".')\n",
    "\n",
    "    # ascii_data = data.encode('ascii', errors='replace').decode('ascii')\n",
    "        \n",
    "    return data\n",
    "\n"
   ]
  },
  {
   "cell_type": "code",
   "execution_count": null,
   "metadata": {},
   "outputs": [],
   "source": [
    "def convert_file_to_ascii_encoding(input_filename: str, output_filename: str):\n",
    "    \"\"\"\n",
    "    Read the contents of a file and save it with ASCII encoding.\n",
    "    \n",
    "    Parameters:\n",
    "    - input_filename (str): The name of the file to be read.\n",
    "    - output_filename (str): The name of the file where the ASCII-encoded content should be saved.\n",
    "    \"\"\"\n",
    "    with open(input_filename, 'r') as file:\n",
    "        contents = file.read()\n",
    "\n",
    "    # Convert to ASCII and handle non-ASCII characters using 'replace' error strategy\n",
    "    ascii_contents = contents.encode('ascii', errors='replace').decode('ascii')\n",
    "\n",
    "    with open(output_filename, 'w', encoding='ascii') as file:\n",
    "        file.write(ascii_contents)"
   ]
  },
  {
   "attachments": {},
   "cell_type": "markdown",
   "metadata": {},
   "source": [
    "This function load_data_from_csv takes a file path and a column name as input. \n",
    "It checks whether the file exists, and if the file does not exist, a FileNotFoundError is raised. \n",
    "The function then reads the CSV file into a pandas DataFrame using the read_csv() method with 'utf-8' encoding. \n",
    "If the specified column name does not exist in the DataFrame, a ValueError is raised. \n",
    "Otherwise, the function extracts the data from the specified column and converts it into a list of strings using the tolist() method. \n",
    "Finally, the list of strings containing the text data is returned.\n",
    "\n"
   ]
  },
  {
   "cell_type": "code",
   "execution_count": 5,
   "metadata": {},
   "outputs": [],
   "source": [
    "def load_data_from_csv(file_path: str, column_name: str) -> List[str]:\n",
    "    \"\"\"\n",
    "    Load text data from a specific column in a CSV file.\n",
    "    :param file_path: str, the path to the CSV file\n",
    "    :param column_name: str, the name of the column containing the text data\n",
    "    :return: List[str], a list of strings containing the text data\n",
    "    \"\"\"\n",
    "    if not os.path.exists(file_path):\n",
    "        raise FileNotFoundError(f\"The file '{file_path}' does not exist.\")\n",
    "    \n",
    "    df = pd.read_csv(file_path, encoding='utf-8')\n",
    "    \n",
    "    if column_name not in df.columns:\n",
    "        raise ValueError(f\"The column '{column_name}' does not exist in the CSV file.\")\n",
    "        \n",
    "    data = df[column_name].tolist()\n",
    "    \n",
    "    return data\n",
    "\n"
   ]
  },
  {
   "attachments": {},
   "cell_type": "markdown",
   "metadata": {},
   "source": [
    "This function load_data_from_web takes a URL as input and attempts to fetch the web page using the requests.get() method. \n",
    "If the request fails, a ValueError is raised with the corresponding error message. \n",
    "Otherwise, the function proceeds to parse the HTML content of the web page using BeautifulSoup with the 'html.parser' parser.\n",
    "\n",
    "The function then finds all the paragraph elements (\\<p\\>) in the parsed HTML using the find_all() method. \n",
    "It extracts the text content of each paragraph element using the get_text() method and stores it in a list. \n",
    "Finally, the function returns the list of strings containing the text data.\n",
    "\n"
   ]
  },
  {
   "cell_type": "code",
   "execution_count": 6,
   "metadata": {},
   "outputs": [],
   "source": [
    "# TODO\n",
    "def load_data_from_web(url: str) -> List[str]:\n",
    "    \"\"\"\n",
    "    Scrape text data from a web page.\n",
    "    :param url: str, the URL of the web page\n",
    "    :return: List[str], a list of strings containing the text data\n",
    "    \"\"\"\n",
    "    try:\n",
    "        response = requests.get(url)\n",
    "        response.raise_for_status()\n",
    "    except requests.exceptions.RequestException as e:\n",
    "        raise ValueError(f\"Failed to load data from URL '{url}': {e}\")\n",
    "    \n",
    "    soup = BeautifulSoup(response.content, 'html.parser')\n",
    "    paragraphs = soup.find_all('p')\n",
    "    \n",
    "    data = [paragraph.get_text() for paragraph in paragraphs]\n",
    "    \n",
    "    return data\n",
    "\n"
   ]
  },
  {
   "attachments": {},
   "cell_type": "markdown",
   "metadata": {},
   "source": [
    "This function load_data_from_api takes an API endpoint URL and a dictionary of parameters as input. \n",
    "It attempts to fetch data from the API using the requests.get() method with the provided parameters. \n",
    "If the request fails, a ValueError is raised with the corresponding error message. \n",
    "Otherwise, the function proceeds to parse the JSON content of the API response using the response.json() method.\n",
    "\n",
    "The function then processes the JSON data to extract the text data. \n",
    "The specific processing required depends on the structure of the JSON data returned by the API. \n",
    "In this example, it is assumed that the JSON data contains a key called \"results\" that holds a list of dictionaries, \n",
    "each containing a key \"text\" with the text data. \n",
    "The function iterates through the list of dictionaries and extracts the text data, storing it in a list. \n",
    "Finally, the function returns the list of strings containing the text data. Note that this is just an example, \n",
    "and you may need to modify the processing logic based on the specific API you are using.\n",
    "\n"
   ]
  },
  {
   "cell_type": "code",
   "execution_count": 7,
   "metadata": {},
   "outputs": [],
   "source": [
    "# TODO\n",
    "def load_data_from_api(api_endpoint: str, params: Dict[str, Any]) -> List[str]:\n",
    "    \"\"\"\n",
    "    Retrieve text data from an API endpoint.\n",
    "    :param api_endpoint: str, the URL of the API endpoint\n",
    "    :param params: Dict[str, Any], a dictionary of parameters to be sent in the API request\n",
    "    :return: List[str], a list of strings containing the text data\n",
    "    \"\"\"\n",
    "    try:\n",
    "        response = requests.get(api_endpoint, params=params)\n",
    "        response.raise_for_status()\n",
    "    except requests.exceptions.RequestException as e:\n",
    "        raise ValueError(f\"Failed to load data from API endpoint '{api_endpoint}': {e}\")\n",
    "    \n",
    "    json_data = response.json()\n",
    "\n",
    "    # Process the JSON data to extract the text data. The specific processing depends\n",
    "    # on the structure of the JSON data returned by the API. This is just an example.\n",
    "    data = [item[\"text\"] for item in json_data[\"results\"]]\n",
    "    \n",
    "    return data"
   ]
  },
  {
   "cell_type": "markdown",
   "metadata": {},
   "source": [
    "This function load_data_from_pubmed takes an API endpoint URL and a dictionary of parameters as input. \n",
    "It attempts to fetch data from the API using the requests.get() method with the provided parameters. \n",
    "If the request fails, a ValueError is raised with the corresponding error message. \n",
    "Otherwise, the function proceeds to parse the JSON content of the API response using the response.json() method.\n",
    "\n",
    "The function then processes the JSON data to extract the text data. \n",
    "The specific processing required depends on the structure of the JSON data returned by the API. \n",
    "In this example, it is assumed that the JSON data contains a key called \"results\" that holds a list of dictionaries, \n",
    "each containing a key \"text\" with the text data. \n",
    "The function iterates through the list of dictionaries and extracts the text data, storing it in a list. \n",
    "Finally, the function returns the list of strings containing the text data. Note that this is just an example, \n",
    "and you may need to modify the processing logic based on the specific API you are using.\n"
   ]
  },
  {
   "cell_type": "code",
   "execution_count": 8,
   "metadata": {},
   "outputs": [],
   "source": [
    "# TODO\n",
    "def load_data_from_pubmed(api_endpoint: str, params: Dict[str, Any]) -> List[str]:\n",
    "    \"\"\"\n",
    "    Retrieve text data from PubMed.\n",
    "    :param api_endpoint: str, the URL of the API endpoint\n",
    "    :param params: Dict[str, Any], a dictionary of parameters to be sent in the API request\n",
    "    :return: List[str], a list of strings containing the text data\n",
    "    \"\"\"\n",
    "    try:\n",
    "        response = requests.get(api_endpoint, params=params)\n",
    "        response.raise_for_status()\n",
    "    except requests.exceptions.RequestException as e:\n",
    "        raise ValueError(f\"Failed to load data from API endpoint '{api_endpoint}': {e}\")\n",
    "    \n",
    "    json_data = response.json()\n",
    "\n",
    "    # Process the JSON data to extract the text data. The specific processing depends\n",
    "    # on the structure of the JSON data returned by the API. This is just an example.\n",
    "    data = [item[\"text\"] for item in json_data[\"results\"]]\n",
    "    \n",
    "    return data"
   ]
  },
  {
   "cell_type": "code",
   "execution_count": null,
   "metadata": {},
   "outputs": [],
   "source": []
  }
 ],
 "metadata": {
  "kernelspec": {
   "display_name": "Python 3",
   "language": "python",
   "name": "python3"
  },
  "language_info": {
   "codemirror_mode": {
    "name": "ipython",
    "version": 3
   },
   "file_extension": ".py",
   "mimetype": "text/x-python",
   "name": "python",
   "nbconvert_exporter": "python",
   "pygments_lexer": "ipython3",
   "version": "3.7.9"
  },
  "orig_nbformat": 4
 },
 "nbformat": 4,
 "nbformat_minor": 2
}
