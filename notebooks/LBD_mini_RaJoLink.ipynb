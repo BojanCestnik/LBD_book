{
 "cells": [
  {
   "cell_type": "markdown",
   "metadata": {},
   "source": [
    "# RaJoLink workflow demo based on Python Script Modules for LBD Text Mining Analysis\n",
    "\n",
    "RaJoLink is a method developed for **open** literature-based discovery (LBD). In contrast to Swanson's `ABC` model, RaJoLink focuses on a semi-automatic identification of candidates ($a$) that could be related to an investigated phenomenon ($c$). This selection is based on the identification of **rare terms** from the literature on $c$. At the heart of the RaJoLink strategy is the rational, unavoidable assumption that if literatures of multiple rare terms share a term in common, then that term becomes a candidate for term $a$.\n",
    "\n",
    "The **RaJoLink** method comprises three main steps: **Ra**, **Jo**, and **Link**, which focus on rare terms, joint terms and linking terms, respectively. The Ra step searches the literature on phenomenon $C$ for unique or rare terms. The Jo step reviews articles related to these rare terms, and identifies joint terms (candidates for $a$) that appear in them, suggesting the hypothesis that $C$ is related to $A$. The Link step then looks for $b$-terms that bridge the literature on a selected $a$-term and $c$-term; $b$-terms are the candidates that can potentially explain the link.\n",
    "\n",
    "The identification of rare terms in the Ra step is based on the statistical principle of outliers. Just as outliers in data can lead to significant discoveries, rare terms in the literature can pave the way for innovative connections. A term is considered rare if it occurs in $n$ or fewer data sets, where $n$ is adjustable depending on the experiment or context.\n",
    "\n",
    "While Swanson's ABC model connects two disjoint literatures with term $b$, RaJoLink uses rare terms to generate term $a$, which bridges the literature with selected rare terms.\n",
    "\n",
    "Note that in this particular implementation, the search for b-terms is limited to the [MeSH](https://www.nlm.nih.gov/mesh/meshhome.html) words for Enzymes and Coenzymes [D08] and Amino Acids, Peptides, and Proteins [D12], as selected by the domain expert.\n",
    "\n",
    "\n",
    "\n",
    "Hyperparameters for training the model follow the same pattern as Word2Vec. FastText supports the following parameters from the original word2vec:\n",
    "\n",
    "- model: Training architecture. Allowed values: `cbow`, `skipgram` (Default `cbow`)\n",
    "- vector_size: Dimensionality of vector embeddings to be learnt (Default 100)\n",
    "- alpha: Initial learning rate (Default 0.025)\n",
    "- window: Context window size (Default 5)\n",
    "- min_count: Ignore words with number of occurrences below this (Default 5)\n",
    "- loss: Training objective. Allowed values: `ns`, `hs`, `softmax` (Default `ns`)\n",
    "- sample: Threshold for downsampling higher-frequency words (Default 0.001)\n",
    "- negative: Number of negative words to sample, for `ns` (Default 5)\n",
    "- epochs: Number of epochs (Default 5)\n",
    "- sorted_vocab: Sort vocab by descending frequency (Default 1)\n",
    "- threads: Number of threads to use (Default 12)\n",
    "\n",
    "\n",
    "In addition, fastText has three additional parameters:\n",
    "\n",
    "- min_n: min length of char ngrams (Default 3)\n",
    "- max_n: max length of char ngrams (Default 6)\n",
    "- bucket: number of buckets used for hashing ngrams (Default 2000000)"
   ]
  },
  {
   "cell_type": "markdown",
   "metadata": {},
   "source": [
    "Import LBD components from the framework notebooks. The purpose of the **import_ipynb** library is to enable the direct import of Jupyter Notebooks as modules, allowing code, functions, and classes defined in a notebook to be easily reused in other notebooks or python scripts."
   ]
  },
  {
   "cell_type": "code",
   "execution_count": 1,
   "metadata": {},
   "outputs": [],
   "source": [
    "import logging\n",
    "\n",
    "# Initialize logging with a basic configuration\n",
    "logging.basicConfig(level=logging.INFO,\n",
    "                    format='%(asctime)s: %(levelname)s - %(message)s',\n",
    "                    datefmt='%Y-%m-%d %H:%M:%S')\n",
    "\n",
    "# logging.debug('This is a debug message')\n",
    "# logging.info('This is an info message')\n",
    "# logging.warning('This is a warning message')\n",
    "# logging.error('This is an error message')\n",
    "# logging.critical('This is a critical message')"
   ]
  },
  {
   "cell_type": "code",
   "execution_count": 2,
   "metadata": {},
   "outputs": [
    {
     "name": "stdout",
     "output_type": "stream",
     "text": [
      "importing Jupyter notebook from LBD_01_data_acquisition.ipynb\n",
      "importing Jupyter notebook from LBD_02_data_preprocessing.ipynb\n"
     ]
    },
    {
     "name": "stderr",
     "output_type": "stream",
     "text": [
      "[nltk_data] Downloading package stopwords to\n",
      "[nltk_data]     C:\\Users\\bojan\\AppData\\Roaming\\nltk_data...\n",
      "[nltk_data]   Package stopwords is already up-to-date!\n",
      "[nltk_data] Downloading package wordnet to\n",
      "[nltk_data]     C:\\Users\\bojan\\AppData\\Roaming\\nltk_data...\n",
      "[nltk_data]   Package wordnet is already up-to-date!\n"
     ]
    },
    {
     "name": "stdout",
     "output_type": "stream",
     "text": [
      "importing Jupyter notebook from LBD_03_feature_extraction.ipynb\n",
      "importing Jupyter notebook from LBD_04_text_mining.ipynb\n",
      "importing Jupyter notebook from LBD_05_results_analysis.ipynb\n",
      "importing Jupyter notebook from LBD_06_visualization.ipynb\n"
     ]
    }
   ],
   "source": [
    "import import_ipynb\n",
    "import LBD_01_data_acquisition\n",
    "import LBD_02_data_preprocessing\n",
    "import LBD_03_feature_extraction\n",
    "import LBD_04_text_mining\n",
    "import LBD_05_results_analysis\n",
    "import LBD_06_visualization"
   ]
  },
  {
   "cell_type": "markdown",
   "metadata": {},
   "source": [
    "Import additional python libraries."
   ]
  },
  {
   "cell_type": "code",
   "execution_count": 3,
   "metadata": {},
   "outputs": [],
   "source": [
    "import nltk\n",
    "import numpy as np\n",
    "import itertools\n",
    "import pandas as pd\n",
    "# import pickle\n",
    "# import json\n",
    "import spacy\n",
    "from typing import List, Dict"
   ]
  },
  {
   "cell_type": "code",
   "execution_count": 4,
   "metadata": {},
   "outputs": [],
   "source": [
    "# Uncomment just for the first time download of en_core_web_md\n",
    "#!python -m spacy download en_core_web_md \n",
    "\n",
    "nlpr = spacy.load(\"en_core_web_md\")\n"
   ]
  },
  {
   "cell_type": "markdown",
   "metadata": {},
   "source": [
    "# Step Ra"
   ]
  },
  {
   "cell_type": "code",
   "execution_count": 5,
   "metadata": {},
   "outputs": [],
   "source": [
    "# converting file to ascii helper\n",
    "# LBD_01_data_acquisition.convert_file_to_ascii_encoding('input/214Texts.txt', 'input/214Texts_1.txt')"
   ]
  },
  {
   "cell_type": "markdown",
   "metadata": {},
   "source": [
    "Define the name of the domain $C$ and load the responding text from the file. The expected file format is as follows:\n",
    "\n",
    "1. The file is encoded in ascii or utf-8 standard.\n",
    "2. Each line in the file represents one document. The words in each document are separated by spaces. Each document has a different length.\n",
    "3. The first word in each line is the **unique id**, followed by a semicolon. Normally **pmid** (pubmed id) can be used for this purpose.\n",
    "4. The second word in each line can optionally stand for a predefined domain (or class) of the document. In this case, the second word is preceded by **!**. For example, if the file contains documents that originate from two domains, e.g. *migraine* and *magnesium*, the second word in each line is either **!migraine** or **!magnesium**.\n",
    "5. If the second word is not preceded by **!**, it is considered the first word of the document. In this case, the **!NA** (**not applicable** or **not available**) domain is assigned to the document."
   ]
  },
  {
   "cell_type": "code",
   "execution_count": 8,
   "metadata": {},
   "outputs": [
    {
     "name": "stderr",
     "output_type": "stream",
     "text": [
      "2024-08-11 10:07:34: INFO - Loaded 214 lines from \"input/214Texts.txt\".\n"
     ]
    },
    {
     "data": {
      "text/plain": [
       "['16911972: Assessing young children can be difficult, particularly when one considers the type of test behavior required for a psychological evaluation (Culbertson & Willis, 1993). Young children who are referred for a developmental evaluation because they appear to have features of autism can be particularly challenging, given their limited social interaction and communication skills (Marcus, Lansing, & Schopler, 1993; National Research Council, 2001). Many features and behavior problems can further interfere with the accurate assessment of a young child?s cognitive abilities, including difficulty maintaining attention, overactivity, sensory issues, and poor compliance, particularly in an unfamiliar setting. Young children with autism can be easily frustrated, and may not appear ?eager to please? due to their social difficulties or limited understanding of what is being asked of them. It is critical to identify cognitive strengths and weaknesses and developmental delays in the young child suspected of an autism spectrum disorder (ASD) as part of the initial diagnostic workup and to assist with treatment planning. With preschoolers, IQ scores are more limited in their predictive value. It is therefore important to consider what skills may be ?emerging? and that the child may be more capable than they are able to demonstrate during the assessment session. However, it is often this inconsistency in behavior that interferes with the learning process in these children. The process of administering a standardized psychological test can therefore give the clinician a great deal of information about the child?s abilities as well as their behavioral difficulties. While experienced clinicians can identify the behaviors associated with an autism spectrum disorder in very young children, it is more difficult to make distinctions between a diagnosis of Autistic Disorder or Pervasive Developmental Disorder-Not Otherwise Specified (PDD-NOS) (Lord & Risi, 1998; National Research Council, 2001). A proportion of the children identified with ASD before age three may not meet criteria for DSM-IV Autistic Disorder at later follow-up but are highly likely to meet criteria for PDD-NOS, a less severe form of autism (Cox et al., 1999; Lord, 1995; Stone et al., 1999). Children under age four may not show significant evidence of repetitive and stereotyped behaviors, and restricted patterns of interest, as required to meet the cutoff for autism on the Autism Diagnostic Interview-Revised (ADI-R; (Lord, Rutter, & Le Couteur, 1994) or according to DSM-IV criteria (Lord, 1995). In one study of two year-olds suspected of having autism (Lord & Risi, 2000), use of one of two instruments that rely on the clinician?s ratings of the child, the Autism Diagnostic Observation Schedule (ADOS; (Lord et al., 2000) or the Childhood Autism Rating Scale (Schopler, Reichler, & Rochen Renner, 1988) instead of the ADI-R alone, allowed inclusion of children who appeared to meet the social and communication criteria for autism but did not yet show significant evidence of restricted or repetitive behaviors. A follow-up assessment confirmed the diagnosis of autistic disorder in the vast majority of these children. Published studies of young children with ASD have used the Bayley Scales of Infant Development to assess cognitive skills (e.g., (Eaves & Ho, 2004; Lord, 1995; Stone et al., 1999). The advantage of the Bayley Scales is that they can provide an age-appropriate estimate of IQ in young children. The disadvantage is that it is not possible to obtain separate standardized scores for nonverbal and verbal skills (although one can obtain a ?mental age? based on the number of items passed from the Language Mental Scale). It is common for young children suspected of having an ASD to exhibit uneven cognitive abilities, particularly when one considers that the most common initial concern for parents is limited language skills (De Giacomo & Fombonne, 1998). The Mullen Scales of Early Learning (Mullen, 1995) may serve as an alternative for evaluating young children suspected of an ASD (Filipek et al., 1999). The Mullen Scales can be administered to infants and children up to 68 months of age. T scores, percentile ranks, and age equivalents can be computed for the five scales separately (Gross Motor, Visual Reception, Fine Motor, Expressive Language, and Receptive Language). Assessment of the young child?s nonverbal ability level is important for estimating overall developmental level as well as possibly predicting outcome. Children with autism who have greater nonverbal delays are less likely to develop functional language at age 5, as are children with relatively strong nonverbal skills but significantly weak receptive and expressive language skills (for review, see Lord, Risi, & Pickles, 2004). Although clinicians often find it difficult to evaluate IQ in young children with ASD, the assessment process has not been systematically examined. In the current research study, specific, overt behaviors during cognitive assessment were coded in young children with a diagnosis of ASD and age-matched typically developing children. The goals of the present study were (1) to assess differences in testing behaviors between the groups and (2) to examine how testing behaviors were related to the level of performance on the Mullen Scales. Top? Abstract? Methods? Results? Discussion? References? Methods Participants The participants were 22 children with a diagnosis of ASD and 20 age-matched healthy, typically developing children (TYP). Children in both groups were tested as part of the initial assessment procedure to determine eligibility for participation in a longitudinal MRI study. The children ranged in age from 16 to 43 months (see Table 1). The groups did not differ significantly in terms of chronological age. The examiners were not blind to the identity of the children. All children in the ASD group were tested by a licensed clinical neuropsychologist experienced in assessment and diagnosis of ASD in young children (N.A.). The children in the TYP group were either tested by this examiner or a trained research assistant under her supervision. Diagnosis of ASD was established using a best estimate approach. The ADI-R (Lord et al., 1994) was administered to the child?s primary caregiver. The Vineland Scales of Adaptive Behavior (Sparrow, Balla, & Cicchetti, 1984) were administered to the primary caregiver for 15 of the 22 children with ASD (Table 1). At a separate appointment, each child was administered the Mullen Scales of Early Learning (Mullen, 1995) followed by the ADOS (Lord et al., 2000). Examiner reliability in administration and scoring of the ADI-R and ADOS was established prior to initiation of the study. Children were included in this group if they met criteria for autism on the ADI-R and the criteria for autism or ASD on the ADOS. Children who had another diagnosable medical condition that might affect brain development, a visual, auditory, or motor impairment, and/or who were born preterm, were excluded from the study. Children in the TYP group were recruited from the community. Children with a known developmental disorder or delay, medical condition, and/or who were born preterm, were excluded from the study. Procedure The Mullen Scales of Early Learning (Mullen, 1995) was administered in the standardized format. All was assessments were completed in the same laboratory setting and videotaped for further analysis. The child?s primary caregiver sat in a chair behind the child during the assessment. The child and the examiner sat at a child size testing table. If the child left his/her seat during the assessment, he/she was encouraged to return to his/her seat. If this proved too difficult, some of the assessment was conducted on the floor until the child eventually returned to the table. Coding Procedures Videotaped test sessions were coded for both off task and on task behaviors in 10-second intervals. Behaviors were counted per interval, regardless of duration or how many times they occurred per interval. For example, if a child looked away, looked back at the test item, and then looked away during the same 10-second interval, ?looking away? would be counted once during that interval. If a behavior continued for more than one interval, it was scored in each interval. Coding definitions are listed in Table 2. The coder was blind to the diagnostic category of the children. The coder achieved at least 85% reliability on a subset of tapes with two research assistants who had developed the coding scheme. Top? Abstract? Methods? Results? Discussion? References? Results As expected, the children in the ASD group obtained significantly lower T-scores on all scales compared to the children in the TYP group, who on average scored within the expected range for their age (ps < .0001; see Table 1). The children in the ASD group performed relatively better on the Fine Motor scale and relatively worse on the Receptive Language scale. A T-score of 20 is the minimum score and represents a score three or more standard deviations below the mean or an IQ of approximately 55. A substantial number of participants in the ASD group (N=16 or 73%) received one or more T-scores of 20. The performance range for the children in the ASD group is therefore better demonstrated by their age-equivalent scores (see Table 1). The length of time spent in the test session was significantly shorter for the children in the ASD group than the children in the TYP group (F (1, 40) = 13.14, p = 0.001, partial eta squared = .25; Table 3). Due to this difference, the proportion of time spent in off task and on task behaviors were computed. It was sometimes necessary for the children to take a short break during the assessment. The groups were not significantly different in terms of the proportion of total time spent on a break (see Table 3). The children in the ASD group spent a significantly smaller proportion of total time engaged in the assessment than the children in the TYP group (F (1, 40) = 7.52, p = .009, partial eta squared = .16). The children in the ASD group spent a greater proportion of time out of position than the children in the TYP group (F (1, 40) = 7.01, p = .012, partial eta squared = .15). The children in the ASD group spent a significantly greater proportion of time whining and crying (F (1, 40) = 14.67, p = .0001, partial eta squared = .27) than the children in the TYP group. As shown in Table 4, a greater proportion of time spent engaged in the assessment was significantly related to higher scores on each of the Mullen Scales. A greater proportion of time spent out of position or whining/crying was significantly correlated with lower scores on almost all of the Mullen Scales. The proportion of time spent looking away was not correlated with performance on the Mullen Scales. Given that the children in the ASD group obtained significantly lower scores on the Mullen Scales, tended to spend a smaller proportion of time engaged in the assessment, and a greater proportion of time in off task behaviors, one may question the meaning of the scores obtained on the Mullen Scales for the ASD group. A series of exploratory analysis of covariance tests were conducted and the group differences in Mullen performance remained when the proportion of off-task behaviors were held constant. Correlations between the T-scores on the Mullen and standard scores on the Vineland Scales of Adaptive Behavior (available for 15 of the ASD participants) were computed (Table 5). Expressive language scores on the Mullen were strongly correlated with the Communication and Socialization scale scores on the Vineland. Receptive language scores on the Mullen were correlated with Communication scale scores on the Vineland. The relative distance from the normal mean was also similar across these standard scores (i.e., approximately 2.5 standard deviations below the mean on average). Top? Abstract? Methods? Results? Discussion? References? Discussion The results supported the hypothesis that during a standardized cognitive assessment, young children with ASD spend proportionally more time exhibiting off task behaviors than typically developing children and proportionally less time engaged with the assessment. The assessment sessions for the children in the ASD group were significantly shorter in duration. This may have been due to the reduced number of items administered (i.e., developmental delays lead to reaching the ceiling items sooner). This difference may also reflect the increased frequency of off task behaviors exhibited by these children. When a young child is less engaged, out of position, and whining and crying, the examiner may try to move through the assessment a bit more quickly in order to complete the assessment before the child can no longer put forth adequate effort, particularly when other tests are required during the assessment appointment. The scores obtained on the Mullen Scales were positively correlated with level of engagement and negatively correlated with off task behaviors. It is unlikely, however, that these behavioral regulation problems are entirely responsible for the observed developmental delays. Some difficulties may appear by the end of the first year of life in children later diagnosed with ASD, such as limited social attention and social behavior (Maestro et al., 2002; Osterling & Dawson, 1994; Werner, Dawson, Osterling, & Dinno, 2000). Early difficulty with joint social attention that is characteristic of children with autism is hypothesized to affect the development of their early language skills. It appears likely that those children who have more difficulty engaging with others and regulating their emotions are less likely to benefit from the early opportunities to develop language and cognitive skills. Young children with ASD have difficulty with imitation skills that do not appear to be accounted for by lack of social cooperation or attention to task (Rogers, Hepburn, Stackhouse, & Wehner, 2003). In order to direct the child to the requested activity, some items on the Mullen require the child to imitate the examiner (e.g., stacking blocks in a particular way, sorting items that match). These items were often difficult for the younger children with ASD who had not yet developed functional language and tended to lead to more off task behaviors. Pointing for purposes other than requesting is also difficult for young children with ASD (Leekam, L?pez, & Moore, 2000; Sigman, Mundy, Sherman, & Ungerer, 1986). This proved challenging on certain items, such as the Receptive Language scale items that require the child to point to the line drawing that goes with a word and the items on the Visual Reception scale that require pointing to two items that match. Clinicians may also wonder how to interpret T-scores that fall at or below 20. Although age-equivalent scores can be misleading and cumbersome, in the case of testing young children with ASD age-equivalent scores may be more useful for obtaining an estimate of the child?s current ability level. For low functioning children, this strategy may also prove helpful for assessing progress in six-month intervals following the introduction of early intervention programs. Motivation can affect test results; therefore it is important to enhance motivation as much as possible in young children without affecting standardized procedures of the assessment (Koegel, Koegel, & Smith, 1997). Useful strategies include the use of reinforcement procedures, a picture schedule, scheduling the assessment at a time of day that will not interfere with the child?s nap time or meal times. When young children refuse to attempt test items it can be difficult to determine their current level of functioning. Results from a study of neuropsychological task performance among preschoolers indicated that test refusals typically reflect a child?s poor underlying skills and/or an attempt to avoid failure, rather than noncompliant or oppositional behavior (M?ntynen, Poikkeus, Ahonen, Aro, & Korkman, 2001). When children in the present study engaged in off task behavior, the examiner redirected the child back to the test item while being careful to not break rapport with the child. In all cases, the examiner continued administration of test items in order to reach a valid ceiling level. Anecdotally, the examiner asked the parent in each case if he/she felt the child was able to adequately demonstrate his/her abilities. In some cases, the parent indicated that the child had some skills that they may not have been able to demonstrate adequately under the constraints of the task (e.g., naming real objects more easily than objects represented by line drawings). Most parents indicated that the skills assessed by the test items and their child?s performance during the assessment was consistent with their current developmental level. It was helpful to discuss the session with the parent in this manner after all of the assessment was completed, particularly in those cases where the child had difficulty maintaining attention and cooperation with the examiner. A group of typically developing children was used for comparison purposes in the present study to provide a type of ?normative? range expected for children tested under these circumstances and because they were easily available at the time of the study. Future studies may consider including a group of language delayed children who do not appear to have ASD to determine if the level of off task behavior observed in this study is specific to ASD or is more consistent with developmental delay. It is important to note that specific diagnostic certainty is not typically possible until a child is 4 or 5 years of age (Lord & Risi, 1998). However, it is expected that the majority of these children will meet criteria for autistic disorder when evaluated with the ADI-R and ADOS after age 4 and a subset will meet criteria for PDD-NOS. Future studies with larger samples and a longitudinal design may determine if certain behavioral characteristics during the psychological evaluation process may be indicators of better response to early intervention and/or better prognosis. Some have questioned the appropriateness of traditional tests with young children (Neisworth & Bagnato, 2004). Reasons cited for young children being ?untestable? include behavior that is at odds with test requirements, lack of language, poor motor skills, and a lack of attention and other self-control behaviors. However, experienced clinicians typically find that few young children with autism are untestable (Ozonoff, Goodlin-Jones, & Solomon, 2005). Alternatives to a direct assessment are parent observations and reports, curriculum-based assessments by teachers and providers, play-based assessments, observations of behavior at home or in the preschool. Among the children with ASD, expressive and receptive language scores on the Mullen Scales were significantly correlated with the Vineland Communication and Socialization Scales. It is surprising that scores on other scales were not related to scores on the Vineland. This may reflect the different skills emphasized by the tests (Magiati & Howlin, 2001), as well as the use of direct observations vs. parent report. Rather than being mutually exclusive, a combination of approaches is recommended for an accurate assessment of ASD (Filipek et al., 1999; National Research Council, 2001; Ozonoff et al., 2005). Overall, the Mullen Scales of Early Learning provided a format conducive for evaluating motor and visuomotor skills, language comprehension, and communication skills. Children with autism typically have the greatest difficulty on tests with more social and language demands and relatively less difficulty with nonverbal tests with minimal speed and motor demands (Joseph, Tager-Flusberg, & Lord, 2002; National Research Council, 2001). Nonverbal IQ scores therefore appear more stable in school age children and may be a more accurate estimate of ability in very young children with ASD. As the young child experiences early intervention services, cognitive skills should be reevaluated to measure response to treatment and to get a better sense of the child?s level of functioning. By anticipating potential problems and preparing for the evaluation, the examiner is also more likely to complete a successful evaluation (Marcus et al., 1993). \\n',\n",
       " '16835068: Autism is a serious neurodevelopmental disorder characterized by impairments in social interaction, abnormalities in verbal and nonverbal communication, and restricted, stereotyped interests and behaviors (American Psychiatric Association 1994). Although a large proportion of individuals with autism manifest abnormal development from birth, a subset of at least 20?30% experience a regression with onset between 18 and 24 months of age after a period of apparently normal development (Lainhart et al. 2002). Autistic disorder is the most severe form of autism spectrum disorders (ASDs), which include Asperger?s syndrome and pervasive developmental disorders (PDDs) not otherwise specified. Approximately 70% of individuals with autistic disorder have some degree of mental retardation, and about half are nonverbal or have very impaired speech. Seizures are present by adolescence in about 30% of children with ASD, and between 5 and 10% of autism cases occur in association with other serious medical conditions such as fragile X, tuberous sclerosis, and Angelman?s syndrome (Fombonne 2003). Gastrointestinal problems and sleep disturbances are also thought to be common comorbidities; however, population-based prevalence estimates for these conditions are currently lacking. Males are four times as likely as females to have autism, but this ratio approaches one among individuals with severe cognitive impairment (Gillberg and Wing 1999). Most individuals with autism cannot live independently as adults (Rapin 1999). Over the past 20 years, the prevalence of autism has reportedly risen, with much public debate surrounding the reasons for this increase. Early reports estimated prevalence at 4?5 per 10,000 births (Fombonne 1999). Data published in the last few years suggest that autistic disorder occurs in at least 1?2 per 1,000 births, and the prevalence of the broader autism spectrum may be as high as 4?6 per 1,000 (Chakrabarti and Fombonne 2005; Yeargin-Allsopp et al. 2003). The causes and contributing factors for autism are poorly understood. The number of children with a diagnosis of autism as determined by the California Department of Developmental Services (DDS) has been rising continuously for over a decade (California DDS 2003). Although diagnostic changes and improvements in detection probably contribute to this increase (Chakrabarti and Fombonne 2005; Croen et al. 2002), a true rise in incidence may also be occurring (Blaxill et al. 2003). Evidence for genetic causes is strong, yet concordance in monozygotic twins suggests that a minimum of 40% of autism cases are likely to have an environmental cause. No single gene has yet been specifically linked to autism with replicability, but the disorder is believed to be polygenic. A few specific environmental factors are associated with autistic behaviors?prenatal exposures to thalidomide (Rodier and Hyman 1998), valproic acid (Christianson et al. 1994), or rubella (Chess et al. 1978)?but these are likely to play a negligible role, if any, in incident cases in Western countries over the last decade or so. Mechanisms of pathogenesis have yet to be delineated. Contrary to early beliefs that autism resulted from bad parent?child interactions (Bettelheim 1967), it is now widely accepted that aberrant brain development underlies autism pathogenesis (Bauman and Kemper 2003; Courchesne et al. 1988; Piven et al. 1990; Rodier et al. 1997). Autopsy studies demonstrate structural changes in the brain, and imaging and electrophysiology investigations reveal neurophysiologic differences in information processing between children with autism and those with typical development (Dawson et al. 2002; Maziade et al. 2000; McPartland et al. 2004; Rapin and Dunn 2003; Rosenhall et al. 2003). Neuroimmunomodulatory factors may also play a role (Silva et al. 2004; Vargas et al. 2005). Cytokine profiles, lymphocyte activation, and other immunologic parameters differ between individuals with and without autism (Ashwood and Van de Water 2004a, 2004b; Croonenberghs et al. 2002). Distributions of neuropeptides and neurotrophins at birth appeared to be altered among children who later developed autism (Nelson et al. 2001). Results from twin and family studies suggest a strong genetic contribution to the etiology of autism. Beginning with the classic work by Folstein and Rutter (1977), data from three population-based twin studies have demonstrated a higher concordance rate among monozygotic compared with dizygotic twins (Cook 1998). Strong familial aggregation of autism has also been demonstrated. The sibling recurrence risk (i.e., the probability of developing autism given a person?s sibling is autistic) has been estimated at 2?14% (Jorde et al. 1990; Ritvo et al. 1989; Smalley et al. 1988), a 10- to 20-fold increase over the general population prevalence. A family history of social deficits, language abnormalities, and psychiatric disorders has also been observed in case?control and clinic-based studies (Folstein and Rutter 1988; Piven and Palmer 1999). Autism co-occurs with several known genetic disorders, such as tuberous sclerosis (Smalley 1998), Angelman syndrome (Steffenburg et al. 1996), phenylketonuria, Joubert syndrome (Ozonoff et al. 1999), and M?bius syndrome (Johansson et al. 2001), and chromosomal abnormalities such as fragile X syndrome (Reiss and Freund 1990). More than 90% of autism cases, however, have none of the above syndromes. Linkage, association, and cytogenetic studies have been conducted. Numerous candidate genes for autism have been suggested based on their functional role, location within candidate chromosome regions, and positive associations with the disease (Korvatska et al. 2002). Replication of findings has been elusive (Wassink et al. 2004), probably because of the polygenic etiology, heterogeneity of the phenotype, and, assuming a role for gene?environment interaction, variation in exposure distributions across populations. An epigenetic mechanism related to Rett syndrome is also plausible (Samaco et al. 2005). Genomewide scans to identify regions marked by differing gene expression are considered key at this stage. One such scan hints at the possible genetic basis for the well-established sex ratio of four males to one female (Stone et al. 2004). A comparison of tuberous sclerosis patients with and without autism demonstrated 31 genes for which expression differed (Tang et al. 2004); because both groups shared the tuberous sclerosis diagnosis, the differentially expressed genes may be related to autism, although they are not necessarily causal. It is plausible that a substantial proportion of autism cases could be due to multiple genes interacting with one or more environmental factors (Cederlund and Gillberg 2004; Glasson et al. 2004). Neuroanatomic and epidemiologic investigations support a prenatal or early postnatal origin. Courchesne et al. (1988) observed cerebellar abnormalities consistent with abnormalities in cell migration between the third and fifth month of gestation. Magnetic resonance imaging studies point to migrational errors that result in disorganized columns of the cerebral cortex (Casanova et al. 2002). Anthropometric indicators, such as brain size and growth trajectory (Herbert 2005), suggest overall cerebral volume to be larger in mid-childhood, with growth that accelerates early and then decelerates, although this phenotype may apply to only a subset of cases. Neuroimaging studies indicate involvement of specific brain regions, including the amygdala, hippocampus, and corpus callosum (Brambilla et al. 2003; Schumann et al. 2004). Studies of environmental factors also relate to the prenatal origin of autism. Chess et al. (1978) reported that, within a cohort of about 250 children with congenital rubella, 7% were later diagnosed with autism. A case?control study using both maternal reports and medical records of illnesses during pregnancy showed relative risks of 4.1 for influenza and 3.3 for rubella (Deykin and MacMahon 1979). Daily maternal smoking during early pregnancy was reported to be linked to autism in a large case?control epidemiology study (odds ratio = 1.4; 95% confidence interval, 1.1?1.8) (Hultman et al. 2002), although in our estimation, these analyses may have inappropriately adjusted for potentially intermediate variables. The link between autism and early in utero exposure to thalidomide places the timing of the insult coincident with neural tube closure in the fourth to fifth week of gestation (Rodier and Hyman 1998). Case reports of autism in children gestationally exposed to valproic acid (Christianson et al. 1994; Rodier et al. 1997; Williams et al. 2001) are concordant with experimental animal studies (Ingram et al. 2000). A small number of cases of autism after maternal infection with cytomegalovirus (Markowitz 1983; Stubbs et al. 1984), measles or mumps (Deykin and MacMahon 1979), or herpes (Ritvo et al. 1990) as well as one case each of syphilis and toxoplasmosis (Rutter and Bartak 1971) have been reported. Taken together, the literature suggests a prominent genetic component involving multiple gene loci, but also a likely contribution from both chemical and microbial agents. It is likely that further understanding will require consideration of critical windows during gestation and possibly early infancy, as well as interactions between genetic or epigenetic predisposition and environmental factors. CHARGE Study Aims In light of the enormous gap in our understanding of the causes of both autism and developmental delay (DD), a large epidemiologic study was initiated in 2002. The Childhood Autism Risk from Genetics and the Environment (CHARGE) study is addressing a wide spectrum of environmental exposures, endogenous susceptibility factors, and the interplay between these two (CHARGE 2006). To structure the search for etiologic factors, we are beginning with known neurodevelopmental toxicants and hints from the immunologic evidence. Additionally, physiologic differences that might provide clues about susceptibility and mechanisms are being examined through characterization of metabolic, immunologic, and gene expression profiles, as well as genetic polymorphisms. Figure 1 shows five broad classes of exposures of interest: pesticides, metals, persistent pollutants with known or suspected neurodevelopmental or immunologic toxicity, medications and other treatments, and infections. Exposures from both the prenatal and early childhood periods are being investigated, with data primarily from three sources: a) extensive interviews with parents; b) laboratory analysis of xenobiotics in blood, urine, and hair specimens; and c) prenatal, labor and delivery, neonatal, and pediatric medical records. CHARGE study specimens are analyzed for immunologic, cell activation, xenobiotic, lipomic, and genomic markers in laboratories of the University of California?Davis (UC Davis) Center for Children?s Environmental Health (CCEH) (Table 1). Metals have been assayed in blood samples from > 300 index children, with a focus on mercury, lead, arsenic, cadmium, and manganese. Immunologic profiles are being characterized, including cellular responses to bacterial antigenic stimulation, general immunoglobulins, and production of chemokines and cytokines. Already, preliminary results have demonstrated significant differences between children with autism and children from the general population in leptin concentrations (Ashwood P, Kwong C, Hansen R, Hertz-Picciotto I, Croen L, Krakowiak P, et al., unpublished observations). A detailed lipomics screen is being applied to the plasma from the first few hundred children. Affymetrix GeneChip microarrays (Affymetrix, Santa Clara, CA) have been generated from an initial sample of children and analyzed to determine whether a genomic fingerprint for autism can be identified; results will be replicated on a further set. Brominated flame retardants are being measured in 80?100 children, and metabolites of pyrethroid pesticides will be evaluated in urine specimens. The CHARGE study also benefits from CCEH hypothesis-driven experimental research on animal models for autism in mice and non-human primates and in vitro investigations of immune and neurogenic cells aimed at uncovering molecular mechanisms. A common database coordinates the archival, retrieval, and analysis of samples, and the combination of population-based epidemiology with state-of-the-art molecular and cellular methods provides a powerful basis for interdisciplinary collaborative research. With future funding, the CHARGE study will undertake targeted evaluation of candidate genes, such as those responsible for regulation of xenobiotic metabolizing enzymes, cell signaling in both neurons and immune cells, and immune cell activation. Currently, the study is also characterizing phenotypic variation within the autism case group and relating these phenotypes to the exposures and physiologic profiles of interest. For example, we have begun to compare immune function in regressive autism (children who have lost previously acquired social or language skills) with those with early onset (children who never acquired those skills). Other phenotypic subtypes include, for example, high versus low cognitive function and presence versus absence of gastrointestinal symptoms, macrocephaly, and sleep disturbances. Design and Subject Recruitment The CHARGE study appears to be the first large-scale, population-based epidemiologic investigation focusing primarily on environmental exposures, as well as their interactions with genes, as underlying causes for autism. It uses the case?control design, which provides the most efficient sampling for studies of conditions that are rare or of multifactorial etiology. A further advantage is the focus on a specific outcome, which translates into close scrutiny of diagnoses and rigorous measurement for the most highly suspect risk factors. The CHARGE study population is sampled from three strata: children with autism (full-syndrome autism, not those with a ?spectrum disorder?), children with DD but not autism, and children selected from the general population without regard for developmental characteristics. All participating children (currently > 500, with an ultimate goal of between 1,000 and 2,000) meet the following criteria: a) between the ages of 24 and 60 months, b) living with at least one biologic parent, c) having a parent who speaks English or Spanish, d) born in California, and e) residing in the catchment areas of a specified list of regional centers (RCs) in California. No further exclusions are made based on genetics or family phenotype. Children with autism and children with mental retardation or DD are identified through RCs that contract with the California DDS to determine eligibility and coordinate services for persons with developmental disabilities. Eligibility in the DDS/RC system does not depend on citizenship or financial status. Thus, the system is widely used across socioeconomic levels and racial/ethnic groups. Referrals are from pediatricians, other clinical providers, schools, friends, and family members. The DDS/RC system is mandated to provide services for individuals with autism, as well as for those with other PDDs who have mental retardation (IQ < 70) or are substantially handicapped. One investigation estimated that 75?80% of the total population of children with an autism diagnosis in the state were enrolled in the DDS system (Croen et al. 2002). Among preschoolers, the figure may be lower, with fewer mild cases. Additionally, this proportion may decline with recent changes to eligibility requirements that emphasize the extent of disability. Children with Asperger?s or PDDs not otherwise specified without mental retardation are not generally eligible for DDS/RC services and therefore are not actively recruited into the CHARGE study. Potential cases of autism for the CHARGE study are defined as those who are eligible for services based on a DDS/RC diagnosis of autism. Families with a child who has received a diagnosis but is not in the RC system are also invited. The second study group, children with DD, is likewise drawn from those determined eligible for services based on a diagnosis of mental retardation or DD. Children 0?3 years of age who are at risk for DD or disability can receive RC services under the Early Start program and are also eligible to be in the second CHARGE study group. The DD children must meet the above inclusion criteria but are not age- or sex-matched to the children with autism. Staff of the RCs contact parents of children with autism or DD, provide them an information packet, and explain how they can participate in the CHARGE study. For those who are interested, permission is obtained for the study staff to telephone the families and schedule appointments. The children then undergo further testing (see below) to confirm their diagnoses. The third group consists of children from the general population identified from state birth files. Throughout the study, we generate random samples of children meeting the study eligibility criteria according to their birth certificate information. This group is frequency-matched to the age, sex, and broad residential RC catchment area distribution of the autism cases. Using names and social security numbers in birth certificate files, study personnel attempt to locate current contact information and then initiate a recruitment effort. Data collection protocols. Participation involves assessments of cognitive and social development, a medical examination, biologic specimen collection, and completion of an exposure interview and several self-administered questionnaires. Other components include maternal and child medical records review and abstractions. Table 2 summarizes the protocols, other than specimen and medical record collection. CHARGE study children are assessed at the UC Davis Medical Investigations of Neurodevelopmental Disorders (MIND) Institute; a small percentage were seen at the UCLA Neuropsychiatric Institute. Standardized clinical assessments are administered to confirm the child?s diagnostic group. Autism cases are assessed using diagnostic tools widely accepted for research: the Autism Diagnostic Interview?Revised (ADI-R) (Le Couteur et al. 2003; Lord et al. 1994, 1997) and the Autism Diagnostic Observation Schedules (ADOS) (Lord et al. 2000, 2003). The ADI-R is a standardized, semistructured 2- to 3-hr interview with caregivers of individuals with autism or PDDs. It yields summary scores in the following domains: qualitative impairments in reciprocal social interaction, communication, and repetitive behaviors and stereotyped patterns. Published values for interrater reliability are good, with kappa values ranging between 0.62 and 0.89 (Lord et al. 2003). The ADOS is a semistructured, standardized assessment of children in which the examiner observes the social interaction, communication, play, and imaginative use of materials. The ADOS requires approximately 30 min and includes four possible modules; the examiner chooses the one that best matches the expressive language level of the individual child to prevent a relatively low level of language ability from impeding accurate measurement. Diagnostic algorithms are available for autism or for broader ASDs/PDDs (Lord et al. 2003). The ADOS provides measures in the following domains: reciprocal social interactions, communication, stereotyped behaviors and restricted interests, and play. All kappa values for interrater reliability exceeded 0.60. All CHARGE clinical assessment personnel are trained and have attained research reliability on the ADI-R and the ADOS. Cognitive function is measured in all children (those with autism or DD and the general population controls) using the Mullen Scales of Early Learning (MSEL) (Mullen 1995). The MSEL is a standardized developmental test of children 3?60 months of age. The MSEL consists of five subscales: gross motor, fine motor, visual reception, expressive language, and receptive language. The MSEL allows for separate standard verbal and nonverbal summary scores to be constructed. The five MSEL scales demonstrate satisfactory internal consistency (0.75?0.83), internal reliability (0.91), test?retest reliability (0.71?0.96), and inter-rater reliability (0.91?0.99) (Mullen 1995). Adaptive function is assessed by parental interview using the Vineland Adaptive Behavior Scales (VABS) (Sparrow et al. 1984). The VABS is the most widely used instrument for assessment of adaptive behavior across the lifespan and covers the domains of socialization (interpersonal relationships, play and leisure time, and coping skills), daily living skills (personal, domestic, and community skills), motor skills (gross and fine motor), and communication (receptive, expressive, and written communication), with developmentally ordered skills for each area. The scale is norm referenced, and recent supplemental norms have been published for individuals with autism (Carter et al. 1998). Psychometric properties of the instrument include excellent internal consistency (0.90?0.98), test?retest reliability (r = 0.78?0.92), and interrater reliability (r = 0.87 for young children). Before the clinic visit, the parent is mailed the consent form to review and several self-administered forms to complete, including the Aberrant Behavior Checklist, a standardized checklist constructed to rate inappropriate and maladaptive behaviors in developmentally delayed individuals (Aman and Singh 1994); Multiple Language Questionnaire to determine what languages are used at home; Child Development Questionnaire (CDQ), consisting of 31 questions regarding acquisition and loss of language and skills, a subset of the Early Development Questionnaire (Ozonoff et al. 2005) to examine loss of developmental skills; and structured questionnaires about gastrointestinal symptoms and sleep habits of the child (developed de novo). Parents are also sent a list of autoimmune diseases with a description of each, so that they can prepare to respond to questions about family history of these disorders during the clinic visit. All instruments and forms are administered in either English or Spanish, depending on the language in which the parent or child feels most comfortable. The CHARGE study employs trained bilingual/bicultural staff for every phase of the study. At the clinic, the psychometric assessments are administered, a family medical history with an emphasis on mental health and autoimmune disorders is taken, and a family characteristics questionnaire is used to document developmental and other aspects of the broader phenotype in immediate family members. Physical and neurologic exams are completed; dysmorphology and growth or neurologic abnormalities are recorded. Finally, blood specimens are collected at the end of the clinic visit. The parent is asked to bring in urine specimens for the child and immediate family members. For families of children recruited from the nonautistic groups, the protocol is essentially identical, except that the ADI-R and ADOS are not routinely administered. The Social Communication Questionnaire (SCQ) was developed from the ADI-R to screen children for evidence of features of ASDs. If the score on the SCQ is above 15, the ADI-R and ADOS are administered on a second visit. Final autism case status is defined as meeting criteria on the communication, social, and repetitive behavior domains of the ADI-R and scoring at or above the total cutoff for autistic disorder on the ADOS module 1 or 2. Analyses will be conducted for cases meeting criteria for autistic disorder, as well as for a broader definition of impairment encompassing ASDs. A similar approach will be used for mental retardation/DD: Children obtaining an MSEL composite score of < 69 and a VABS composite score of < 70 will be classified as meeting strict criteria for DD. Separate from the clinic visit, we conduct a telephone interview with the primary caregiver regarding periconceptional, prenatal, and early childhood exposures and experiences. The interview of approximately 1 hr 40 min covers the following areas: demographics; mother?s medical history; mother?s reproductive and pregnancy history; index pregnancy, including use of reproductive technology for conception; maternal illnesses and medications during index pregnancy; metals, diet, and household product use; child?s illnesses and medications; maternal lifestyle information; residential history; and occupational history of the mother and father. An index time period is defined as 3 months before pregnancy to the end of pregnancy or, if the child was breast-fed, until weaning. Information on medications, metals, household products, and the occupational and residential histories focuses on this index period. Blood and urine specimens are collected from the index child, parents, and siblings. For any family member from whom blood is not obtained, an attempt is made to collect buccal swabs for DNA extraction. Hair specimens are collected from the index child and from the mother if her hair is long enough to potentially contain information about exposures during the pregnancy or lactation period. If the parent saved locks from the child?s first haircut, we request a few strands. Additionally, neonatal blood spots from the index child will be obtained from the newborn screening specimen archive maintained by the Genetic Disease Branch of the California Department of Health Services (Richmond, CA). Medical records are procured and abstracted for information about procedures, medications and other treatments, and conditions at birth of the index child. Obstetric/gynecology/prenatal clinic and mental health provider records are obtained for the mother. Similarly, labor and delivery, neonatal, pediatric, and specialty clinic medical records are procured. Dental records are sought for the confirmation of mercury amalgams. The study complies with all applicable requirements regarding human subjects and is approved by the institutional review boards for the State of California and the University of California. Informed consent is obtained before collection of any data. Preliminary data on participants and their diagnoses. Full recruitment into the CHARGE study began in late 2003. More than 520 children and their families have enrolled in the CHARGE study at the time of this writing. This includes > 360 recruited because of an RC diagnosis of autism, > 50 with an RC diagnosis of DD (recruitment began later for this group), and > 120 from the general population. By the end of the first 5 years of funding, we expect to have a total of approximately 650?700 children enrolled. Among contacted families of children with autism, 20% were ineligible, 22% refused, and 58% agreed to participate. Among general population families with whom we made contact, 22% were ineligible, 41% refused, and 36% agreed to join the study. Among children with a diagnosis of autism recruited from RCs, after assessment by CHARGE study personnel, 64% met criteria on both the ADOS and ADI-R. Among those 3 or 4 years of age who are California DDS eligible based on their diagnosis of autism, 64% meet criteria on both instruments, another 9% meet criteria on the ADOS alone, and a further 14% on the ADI-R alone, for a total of 87%. Additionally, among the remainder, 6% meet criteria for ASD based on both examinations (scores at least 7 on ADOS module 1 or at least 8 on ADOS module 2, and meets cutoff in ADI-R for section D and either section A or B, and falls within 2 points on the other section of A or B); another 5% meet criteria for ASD based on either ADI-R alone or ADOS alone. Fewer than 2% would not be classified as being on the spectrum. Among those recruited through RCs with a diagnosis of DD, the percentage that showed delay in both adaptive and cognitive domains was 64%, with another 6% that met the cutoff on at least one of the tests. Among those who entered the study with a diagnosis of DD, 3% met criteria for autism and another 8% met criteria for ASD. Another phenotypic distinction we are investigating is early-onset versus regressive autism, as defined by the language and social regression questions on the ADI-R and the CDQ. Using a broad definition of regression that includes loss of previously attained language and/or social skills (Ozonoff et al. 2005), close to 50% of the CHARGE children with a confirmed diagnosis of autism had regression. Finally, Table 3 provides basic demographic information about the CHARGE study sample, based on data from the birth certificate. This table also provides comparison information about the pool of births from which we recruit the general population controls. Compared with this pool, mothers who participate are older, more highly educated, and more likely to have private health insurance. Participant mothers of general population controls are also more likely to have been born in the United States. The children were more likely to be twins. In further work, the autistic and DD participants will be compared with their respective pools. Community partnership. A community advisory council (CAC) was formed early in the development of this project to maximize participation in the research by parents, clinicians, service providers, advocacy organizations, and RC and DDS staff. Parental suggestions regarding the collection of specimens and information from younger siblings of affected children were incorporated into the study design. The CAC meets regularly to hear updates on study progress and provide input. CAC members have given critical advice on data collection instruments, ways to make the clinical protocol as child-friendly and special-needs?friendly as possible, and strategies to enhance recruitment. Discussion The CHARGE study is building an infrastructure that will support multiple investigations of autism and related neurodevelopmental disorders. The psychometric evaluations and clinical examinations combined with extensive exposure information and biologic specimens represent rich resources for research on etiology and phenotypic expression of these disorders and make possible the comprehensive approach needed to advance understanding of autism and DD. In our clinical assessments of > 300 children identified with autism in the California DDS system, we have confirmed the diagnosis in 87%, suggesting that the large increases in DDS system clients with autism over the last decade or two is unlikely to be due to overdiagnosis in younger cohorts. Although several large birth cohort studies recently initiated or in progress will be able to examine factors that predict autism, the number of cases of autism in the CHARGE study may be comparable with what is expected in birth cohorts of 100,000 (i.e., we have enrolled > 360 children with autism and are continuing recruitment). In contrast with large cohort studies with dispersed populations, we are able to confirm diagnoses using standardized instruments administered by a small, well-trained clinical assessment team. Additionally, in cohort studies attempting to address a wide range of health and developmental outcomes, the exposures and factors measured will not necessarily have been chosen for relevance to autism. The specimen bank is currently being used by several laboratories that are part of the UC Davis CCEH. In this first stage, xenobiotic and biochemical profiles of children with autism are being compared with those of unaffected children, and comparisons are being made between different autism phenotypes. As distinguishing features emerge, the second stage will be to determine whether any differences in biomarkers were present at birth, using the neonatal blood spots where possible. Data and specimens will be made available to qualified researchers with targeted, worthwhile hypotheses not being addressed by CCEH and CHARGE investigators. Limitations of this study must be recognized. Much of the information will be gathered retrospectively. The only biologic specimens prospectively collected (i.e., before diagnosis) are the newborn blood spots and, for some children, baby hair locks. Similarly, questionnaires on use of pesticides and other household products will be retrospective and hence subject to reporting/recall bias. Thus, the large birth cohort studies under way or in preparation will complement the CHARGE study by providing fully prospective data, although they are subject to the limitations described above. Nevertheless, in the CHARGE study, medical records will yield prospectively recorded data on treatments, illnesses, and prescription medications. Other unbiased, relevant sources of information on xenobiotics include blood measurements that represent cumulative exposures for persistent compounds and California?s Pesticide Use Reporting system, which documents commercial pesticide applications that can be linked to participant residences during critical time windows. Conclusion Although sporadic studies have identified specific environmental factors that have been associated with autism, no previous effort has attempted to address the broad spectrum of environmental factors that may, in combination with genetic susceptibility, affect development and severity of this condition in the population. The CHARGE study is charting new territory in the investigation of etiologic factors for autism and DD. The goal of the CHARGE study is to understand causes of autism and DD, both genetic and environmental, in order to reduce their incidence in the future. The design combines a large population-based sample of children with different patterns of development; standardized diagnostic assessments of autism, cognitive development, and adaptive behavior by trained assessors; medical and neurologic examinations; detailed reviews of medical records; and an extensive set of questionnaires describing phenotypic characteristics and environmental exposures from preconception through early childhood. Currently, it is unique in its emphasis on environmental factors and its tight linkage with state-of-the-art laboratories of the UC Davis CCEH that enable us to address biologic markers of xenobiotic exposures, immunologic responses, and gene expression. Other features include active community involvement, an ethnically diverse pool of participants, and inclusion of developmentally delayed children in addition to general population controls. Finally, the collaboration by CHARGE study investigators with other population-based autism epidemiologic efforts currently under way, such as the national Centers for Autism and Developmental Disabilities Research and Epidemiology (CADDRE) study, will create valuable opportunities for replication and perhaps data pooling. \\n',\n",
       " '16816240: Increased brain size is one of the most consistent neurobiologic findings in autism,1-2 and appears to be associated with cortical grey matter enlargement involving mostly the frontal and temporal lobes.3 While increase in cerebral and lobar size have been reported, the exact pathophysiology of these volumetric alterations remains to be determined.3,4 Cortical and lobar grey matter volumes are correlated with brain surface and cortical thickness, as observed in normal population and in individuals with neuropsychiatric disorders.5 Hence, an increase in cortical volume in autism could be related to an increase in either its surface area, its thickness or both.4,5 A recent preliminary investigation of the gyrification patterns in autism revealed an increase in cortical folding in the frontal lobe suggesting a possible increase in total cerebral surface area.4 In light of these observations, this study was conducted to examine cortical thickness in a group of children with autism. Methods Subjects were 17 boys with autism and 14 healthy male controls between 8 and 12 years of age. The diagnosis of autism was established through the administration of the Autism Diagnostic Interview-Revised (ADI-R) and the Autism Diagnostic Observation Schedule (ADOS). Children with secondary autism such as tuberous sclerosis were excluded. Control subjects were screened by face-to face interview, and individuals with family history of any neuropsychiatric disorder, such as autism, learning disability, affective disorders, and schizophrenia, were not included. Potential subjects with a history of birth asphyxia, head injury, or a seizure disorder were excluded. All control subjects had a full scale IQ (FSIQ)>70 and no learning disability as assessed by the Wide Range Achievement Test-R. Exclusions were based on history and physical examination as well as laboratory testing when indicated. The WISC-III was administered to measure FSIQ, verbal IQ, and performance IQ (PIQ). Methodology of the study was approved by the Institutional Review Board. Written informed consent was obtained from parents and assent was obtained from all children. Scans were obtained on a GE 1.5 Tesla Signa scanner. A T1-weighted SPGR sequence was first acquired with the following parameters: slice thickness=1.5mm, slice numbers=124; TE 5ms; TR 25ms; flip angle 40, NEX 1; FOV 24cm; matrix 256?192. Proton density and T2-weighted images were then obtained with the following parameters: slice thickness=5mm; TE 17ms for PD or 102ms for T2; TR 2500ms; NEX 1; FOV 24cm; matrix 256?192. MRI data were identified by scan number to retain blindness, and analyzed using Brain research: Analysis of images, Networks and Systems software7 (BRAINS) while applying previously published methodologies of cortical thickness and total brain volume (TBV) measurements.6,7 The initial step of surface analysis in BRAINS is the creation of a triangle-based isosurface using the parametric center of the cortex as the outer boundary of the brain. Cortical thickness is calculated from vectors that are normal to each triangular surface, and the shortest distance to the 50% grey matter and 50% white matter is defined as the thickness.6 All measurements from autistic subjects were compared with controls using Student?s t- test. Pearson?s correlations coefficients were used to examine the relationships between TBV, IQ measures and cortical thickness. Spearman?s rho correlation coefficients were used to examine the associations between ADI-R and ADOS scores with cortical thickness Results No age differences were observed between the autistic (M=10.5?1.5 years; range:8.1- 12.9 years) and control groups (M=10.7?1.4 years; range:8.9-13.0 years). However, the autistic sample had a lower FSIQ (M=90.7?18.4; range:64-128) when compared with controls (M=110.9?12.2; range 91-130)(t=-3.498; df =29; p<0.005). Children with autism had a mean score of 55.9 on the ADI-R (SD= 9.6; range 41-67) and 15.6 on the ADOS (SD=2.7; range 11-19). Differences in cortical thickness were found between the two groups and results are summarized in Table 1. No differences in TBV or in any of the global volumetric measures were observed between the two groups (Table 1). No association was found between TBV and IQ measures in either the autistic group or controls. Similarly, no relationship was found between cortical thickness and IQ measures in either group except for PIQ in the autistic group (rho= -0.500; p=0.041). Additionally, no significant correlations were found between cortical thickness and clinical features as measured by ADI-R and ADOS items. Discussion To our knowledge, this is the first neuroimaging investigation reporting abnormal cortical thickness in autism, which is consistent with evidence from neuropathological studies describing areas of increased cortical thickness.8 Findings here were most obvious in the temporal lobe, which is concordant with several investigations reporting various anomalies in this structure in autism including decreased size of the left planum temporal, bilateral reduction of temporal perfusion, and abnormal activation of the superior temporal sulcus in response to vocal sounds.9,10 In the present investigation, gyral thickness was increased compared to the sulcal one in both patients and controls which is consistent with normal human brain cytoarchitecture.5,7 This regional differentiation is important since sulcal and gyral areas have distinct histologic and neurochemical characteristics with different functional specializations.7 Findings are also in support of the aberrant cerebral connectivity observed in this disorder11 since convolutional maturation and cortical architecture are interrelated4,5,7 and are important markers of cerebral development and neuronal connections.4,5,7 In fact, neural pathways trajectories differ depending on their localization with tangential orientation and long connections in sulcal regions in contrast to vertical and shorter paths in gyral areas.7 Hence, surface architecture as determined by a complex gyrification process may reflect on the development of the underlying neural circuitry.4,5,7 Cortical thickness findings of the current study should be considered with caution taking in consideration the preliminary nature of this investigation and the inability to control for all confounding factors such as TBV and IQ measures due to the small sample size. Additionally, the lack of relationship between IQ and TBV observed here is consistent with several investigations examining the association of cognitive functioning and volumetric measurements1,2 but is not concordant with evidence from developmental studies of healthy and intellectually disabled individuals indicating the existence of positive correlations between brain size and IQ.12 Finally, the non-significant increase in TBV in the patient group when compared with controls is inconsistent with several previous reports of brain enlargement in children with autism,1-3 and could be related to the small sample size or to the possible age-related changes observed in this disorder.1,3 Larger studies examining cortical architecture as well as TBV and their relationships with cognitive measures and clinical features are warranted before final conclusions can be made. \\n',\n",
       " '16770606: Autism is a neurodevelopmental disorder characterized by severe impairment in social interaction and communication, as well as repetitive behavior. Autism is part of a spectrum of disorders denoted autism spectrum disorders (ASD), which in addition to autism, include Asperger syndrome, childhood disintegrative disorder, and pervasive developmental disorder not otherwise specified (PDD-NOS). Onset of this disorder is typically before 3?years of age. The incidence of autism is estimated at approximately one in 1,000 individuals, with an increased incidence in males [1?3]. Incidences of approximately two to three in 1,000 are reported when a broader diagnosis includes the entire spectrum of pervasive developmental disorders [2, 4]. Evidence indicates that this disease has a strong genetic component. Twin studies have shown that monozygote twins have a higher recurrence rate than dizygotic twins. While the actual percentages have varied, recurrence rates have been measured as high as 95% in monozygote twins and 23% in dizygotic twins [5?7]. Despite this strong evidence for a genetic component, the inheritance appears to be complex, with estimates that more than 15 genes may be involved in its inheritance [8, 9], with different families carrying different combinations of contributing genes. The genes may act independently or interactively, adding to the complexity of determining the genetic contribution to this disorder. There are two approaches to identifying genetic contributors to disease. The first is a genome wide search in which linkage or association analysis is used to identify regions of the genome that may contain autism susceptibility genes. The second is the candidate gene approach, which investigates a specific gene or genes for involvement in autism risk. In the candidate gene approach, genes are chosen for study based on either what is known about the gene?s function, its location (for example in a recognized linkage peak), or a combination of both. Several candidates are hypothesized to be involved in autism; however, no single candidate gene has consistently emerged as involved in autism risk. One candidate pathway that is hypothesized to be involved in autism is the GABAergic system. Hussman [10] suggested that autism is the result of an imbalance of the excitatory glutamatergic and inhibitory GABAergic pathways, resulting in overstimulation in the brain and inability to filter out excess stimuli from environmental and intrinsic sources. This theory is supported by multiple lines of evidence. First, histological, biochemical, and molecular approaches have demonstrated altered levels and distribution of GABA and GABA receptors in peripheral blood and plasma, as well as in the brain, including decreased GABA-A receptors and benzodiazepine binding sites in the hippocampal formation [11?13]. There are also reported alterations in GABAergic neurons, as demonstrated by the increased packing density of GABAergic interneurons in the CA3 and CA1 subfields, and by the decreased numbers and reduced size of cerebellar GABAergic Purkinje cells [14, 15]. In addition, duplications and isodicentric chromosomes in the region containing the three clustered GABA receptor subunits GABRB3, GABRA5, and GABRG3 on chromosome 15q have been associated with autism [16, 17]. As well, evidence for both linkage and allelic association have been reported for this same GABA gene cluster, although the findings have not been consistent across datasets [18?22]. Investigation of association of GABA receptor subunits outside of the chromosome 15 region has been limited [23]. Lastly, mutations have been reported in multiple GABA receptor genes in families with epilepsy [24]. Given the high comorbidity of autism with epilepsy and seizures, these data suggest that a similar molecular etiology could exist between the disorders. Signaling in the GABAergic system is mediated by receptors for the neurotransmitter GABA. There are 19 known GABA receptor subunits arranged in clusters throughout the genome. Functional pentamers formed by various combinations of these subunits result in receptors of varying properties and sensitivities. The amounts and functional capabilities of individual receptor subunits that form a specific pentamer can affect the amount and quality of signaling in different parts of the brain. Previously published work from our laboratory analyzed 14 autosomal GABA receptor genes on four different chromosomes, using 70 SNPs in a Caucasian dataset of 470 families. This analysis revealed allelic association to rs1912960 (p=0.01) within gamma-aminobutyric acid (GABA) A receptor, alpha-4 (GABRA4) on chromosome 4 [23] and a significant interaction with rs2351299 within the neighboring gene gamma-aminobutyric acid (GABA) A receptor, beta-1 (GABRB1). Despite similar prevalence rates between Caucasian and African-Americans [25, 26], autism studies in African-Americans are rare. Risk alleles may be different between ethnic groups or the same risk alleles may have differential effects in each ethnic group, warranting studies in multiple groups. Evidence that phenotypic factors, including indicators of language development, may be more severe in African-Americans, compared to non-Hispanic Caucasians, [27] is consistent with these possibilities and underscores the need to investigate autism in different ethnic groups. In this study, we present a validation of our previous report in an independent dataset of 54 African-American families, as well as confirmation of our previous results in an expanded Caucasian sample of 557 autism families. Materials and methods Samples All families were drawn from a large multisite study of autism genetics conducted in the southeastern United States. These families are recruited through the Center for Human Genetics (CHG) at Duke University Medical Center (DUMC), the University of South Carolina, and the Center for Human Genetic Research at Vanderbilt (N=54 African-American and 557 Non-Hispanic Caucasian families) through support groups, advertisements, and clinical and educational settings. All sites recruited, enrolled, and sampled individuals with autism and family members, per study protocols approved by their respective institutional review boards (IRBs). Written informed consent was obtained from parents and from children who were able to give informed consent. Families were enrolled based on probands meeting the following core inclusion criteria of: (1) probands ranging from three to 21?years of age; (2) a presumptive clinical diagnosis of autism; and (3) an expert clinical diagnosis of autism using DSM-IV criteria [28], supported by the Autism Diagnostic Interview-Revised (ADI-R) [29] and in some cases, the Autism Diagnostic Observation Schedule (ADOS) [30]. Our original ascertainment protocol relied on clinical expertise and the ADI-R. The ADOS was subsequently added as a required diagnostic method, and families that were missing ADOS assessments were updated as available. To assure valid ADI-R results, all participants who met current diagnostic criteria for autism were included only if they had a minimal developmental level of 18?months, as extrapolated from the Vineland Adaptive Behavior Scale score [31], or had an IQ equivalent greater than 35 based on scores from a standardized measure of cognitive ability such as an the Wechsler Scale of Intelligence for Children?4th edition [32], Differential Abilities Scale [33], Mullen Scales of Early Learning [34] or Leiter Intelligence Scale-Revised [35]. IQ data was derived from medical records or direct assessment. Exclusion criteria for participation in the larger genetics study included: severe sensory problems (e.g., visual impairment or hearing loss), significant motor impairments (e.g., failure to sit by 12?months, or walk by 24?months), or identified metabolic, genetic, or progressive neurological disorders, based on screening by clinical staff. Additional samples are from the Autism Genetic Research Exchange (AGRE). These individuals were qualified using similar methods including ADI-R, ADOS, VABS, and a standardized measure of IQ. Thirty-nine African-American families were used in an initial GABA receptor screen. Follow-up analysis of significant findings was performed in 54 African-American families. Analysis of the extended Caucasian dataset included 557 non-Hispanic Caucasian families. One-hundred and five new non-Hispanic Caucasian families were added to the analysis (18 families previously analyzed by Ma et al. [23] were newly identified as Hispanic, and were omitted from the current study in an effort decrease heterogeneity in the Caucasian dataset). Classification of history of seizure activity in autism patients was based on question 92 from the ADI-R, which queries for both current and lifetime presence of convulsions, seizures, and epilepsy. Caregiver responses to question 92 are coded to indicate no seizure activity, seizure activity with no definitive diagnosis of epilepsy, and seizures with a definite diagnosis of epilepsy. Using lifetime ratings, two groups of families were defined: those in which no seizure activity was reported, and those in which seizure activity was present in at least one autism patient. In addition, question 92 allows for coding of febrile seizures. Families with only febrile seizures were classified as negative for seizure activity and not included in the seizure subset analysis. Both families with positive and negative history of seizure activity were included in our overall dataset. This resulted in a dataset of 41 Caucasian families with a positive history for seizures. Molecular analyses and genotyping The analysis of 14 GABA receptor subunit genes was performed in 39 African-American families as previously described [23]. Briefly, between three and seven intronic, UTR and synonymous coding SNPs within each gene were identified from Applied Biosystems (ABI, Foster City, CA, USA) Assay on Demand (AoD) products, resulting in 70 SNPs within 14 GABA receptor genes on four autosomes. Genes analyzed were: GABRA1, GABRA6, GABRB2, GABRG2, and GABRP from chromosome 5; GABRA2, GABRA4, GABRB1, and GABRG1 from chromosome 4; GABRB3, GABRA5, and GABRG3 from chromosome 15; and GABRR1 and GABRR2 from chromosome 6. Additional SNPs within GABRA4 and GABRB1 were analyzed in the extended African-American (N=54) and Caucasian (N=557) datasets to expand the coverage of variation across this region. Thirty-five SNPs, representative of different linkage disequilibrium (LD) blocks across the two genes (20 in GABRA4 and 15 in GABRB1), were genotyped (Fig.?1). SNP?s for genotyping were selected from online databases (University of California Santa Cruz http://genome.ucsc.edu and NCBI dbSNP http://www.ncbi.nlm.nih.gov/entrez/query.fcgi?db=snp) and from resequencing of exons and surrounding areas of both GABRB1 and GABRA4 genes. SNP genotyping was performed using Taqman allelic discrimination assays (Applied Biosystems). DNA was extracted from whole blood according to established protocols [36], and 3?ng of genomic DNA was used per reaction. Amplification was performed on GeneAmp PCR Systems 9700 thermocyclers, with cycling conditions as recommended by Applied Biosystems. Fluorescence was measured using Applied Biosystem?s 7900. Genotype discrimination was conducted using ABI Prism SDS 2.1 software. Quality control, to ensure accurate genotyping, involved two different CEPH DNAs in quadruplicate on each 384 well plate, as well as the presence of samples which were replicated elsewhere in the sample list. Additionally, ?95% genotyping efficiency is required. Statistical analysis To ensure genotyping quality, Pedcheck was run for detection of Mendelian inheritance inconsistency. One affected and one unaffected individual from each family were selected randomly for tests of Hardy?Weinberg equilibrium (HWE), which was assessed using exact tests from the Genetic Data Analysis program [37]. Pairwise LD between markers was calculated using graphical overview of linkage disequilibrium (GOLD) [38] in the parents of autism cases for both the African-American and Caucasian samples. LD was evaluated in parents to increase the available sample size for analysis and comparison between the two ethnic groups. The pedigree disequilibrium test (PDT) and its extension the genotypic pedigree disequilibrium test (genoPDT) [39, 40] were used to test for association to autism susceptibility. The EMDR [23, 41], an extension of the MDR [42, 43], was used to test for potential gene?gene interaction, to identify specific locus combinations of interest for further investigation and validation of previous results. EMDR analysis was performed using seven SNPs, the four in GABRA4 found to show significant allelic or genotypic association in the Caucasian sample-set, and the three in GABRB1 found to be significant in the seizure subgroup. One-, two-, and three-way analysis was performed on the Caucasian dataset. For case-control pairs used in EMDR, the proband (or most completely genotyped affected child) from each multiplex and triad family was selected (n=470 total) as a case. Controls were generated using the untransmitted alleles from parental genotypes. In this study, a cross-validation option was not utilized. The sample size of the African-American dataset is too small to provide power for EMDR analysis, not allowing us to test for validation of the interaction seen in the paper of Ma et al. within the African-American dataset. The haplotype family-based association test (HBAT; [44]) was used for haplotype association analysis using the significant SNPs in GABRA4. Results Allelic association studies of 70 SNPs across the 14 GABA receptor subunit genes in the 39 African-American screen set of families, revealed association in rs2280073 (GABRA4; p=0.0053) and hcv2119841 (GABRB1; p=0.0343), the same two genes identified through allelic association and interaction analysis in the Caucasian dataset [23]. Genotypic association analysis revealed the same GABRA4 SNP, rs2280073 (p=0.0262), and marginal significance within GABRP, rs1862242 (p=0.0471). The remaining SNPs showed no significant association (data not shown). Analysis of the screening SNPs and newly identified SNPs within GABRA4 and GABRB1 in the Caucasian population (N=557), and within the extended African-American population (N=54) (Table?1), revealed new SNPs with significant association. In the Caucasian dataset, rs1912960, also significant in the study of Ma et al. (p=0.012), showed significant allelic association (p=0.0073). Additional significant SNPs were identified in GABRA4 as well, rs17599165 (p=0.0015) and rs17599416 (p=0.0040). Genotypic association was also seen in these SNPs (p=0.0046, 0.0009, and 0.0043, respectively), as well as in a fourth SNP, also in GABRA4 (rs7660336, p=0.0368). In the African-American dataset, rs2280073 (p=0.0287), identified in the smaller African-American dataset above, and rs16859788 (p=0.0253), were found to be associated with the allele based test. Genotypic association was also identified in rs16859788 (p=0.0412). No SNPs within GABRB1 were found to be associated with autism in either ethnic group. The majority of pairwise r2 values between the significant SNPs were less than 0.3, in both ethnic groups (Table?2). However, a few SNPs have values between 0.3 and 0.35. SNPs, rs17599165, and rs17599416 have r2 values of 0.709 in African-Americans and 0.853 in Caucasians, and rs7660336 and rs2280073 have a pairwise r2 of 0.907 in Caucasians and 0.905 in African-Americans. Allele frequencies are similar, yet not identical between the two groups. One SNP, however, did have large differences in minor allele frequencies (MAFs) between the two groups, with a MAF of 0.24 in African-Americans but only 0.001 in Caucasians (Table?2). Haplotype analysis, using the four SNPs with significant allelic or genotypic association in the Caucasian families, revealed a significant global test (p=0.014) in the Caucasian population, further supporting the involvement of these SNPs or another variant on the haplotype background. The haplotype composed of all risk alleles trends towards significance with autism as a risk haplotype (p=0.0763), while the haplotype of all protective alleles resulted in being highly significantly protective (p=0.0006; Table?3) Subsetting of the GABRA4 and GABRB1 data to analyze all families with positive history for seizures revealed no association to GABRA4. However, three SNPs within GABRB1 were found to be both allelically and genotypically associated with autism: rs2351299 (p=0.0163 and p=0.0189 for PDT and genoPDT, respectively), rs4482737 (p=0.0339 and p=0.0339), and rs3832300 (p=0.0253 and p=0.0357). These three SNPs all had pairwise r2 values less than 0.1 (data not shown). In the Caucasian population, EMDR verified the single locus effect identified through PDT analysis in rs1912960 (p=0.024), and identified two different significant two-locus gene?gene effects between GABRA4 and GABRB1, rs1912960 with rs2351299 (p=0.004), and rs17599416 with rs2351299 (p=0.014). Several three locus effects were also significant [rs7660336, rs1912960, and rs2351299 (p=0.012); rs17599165, rs1912960, and rs2351299 (p=0.012); rs1912960, rs17599416, and rs2351299 (p=0.038); and rs7660336, rs17599416, and rs2351299 (p=0.047)] (Table?4). Discussion We have confirmed the involvement of GABRA4 in autism through identification of significantly associated SNPs within an independent African-American population. Furthermore, we have strengthened our original findings, including identification of additional associated SNPs and a significant interaction between GABRA4 and GABRB1 and in an extended dataset (N=557) of Caucasian autism families. The AA dataset contains only 54 families, and in general power can be a problem in small sample sets if an effect is not seen. However, for the GABRA4 gene, we did find significant results in the AA dataset. Furthermore, studies in small datasets such as the AA dataset can also be less robust than in larger datasets. However, the fact that we find the same gene, GABRA4, significant in two different ethnic groups is supportive of the role of GABRA4 in autism risk. The identification of two different two-way interactions between GABRA4 and GABRB1 provides additional evidence of the complex interaction of these two genes in autism. The rs1912960 (GABRA4) with rs2351299 (GABRB1) interaction is between the same two SNPs previously reported in the study of Ma et al., and is still significant in our larger dataset. A second significant two-way interaction was found, also including rs2351299 in GABRB1 as well as rs17599416 in GABRA4, further supporting that interactions between these two genes are involved in autism risk. Although rs2351299 does not have a significant PDT result, it is found in both significant interaction pairs, and in each of the significant three-way interactions. The MDR approach used in these analyses is specifically designed to detect interaction effects both in the presence and absence of main effects. It is possible that both of the two-way interactions are being identified due to LD between the two GABRA4 SNPs (rs1912960 and rs17599416). There is significant correlation between the two SNPs, although the r2 value (Table?2) between them is not large (0.32). Given that these do not appear to be causative variants, it is likely that the true variant, yet to be identified, is in LD with these GABRA4 SNPs. Examination of interaction in the independent dataset of African-American families was not possible due to the limited sample size. We also identified variants within GABRB1 as associated within the autistic population with seizures. One of these variants, rs2351299, also shows a significant interaction with SNPs in GABRA4 (Table?4). While no effect was seen in GABRA4 for the seizure subset, the sample size may be too small to conclusively determine its role in seizure status in autism. However, the enhanced findings in GABRB1 in the seizure subset implicate GABRB1 as a contributor to genetic risk in these patients. Despite the identification of GABRA4 in both ethnic groups, different SNPs were found to be associated. The identification of distinct SNPs within these populations may indicate differences in allele frequency and linkage disequilibrium within the two racial groups, differences in the haplotypic background in which identical causative variations originated, or differences in the causative variation. SNP rs16859788 for example, which is significant in the African-American group, shows little variation in the Caucasian dataset, therefore, providing no power for detection of an effect in this group. Other SNPs, however, show similar allele frequencies between the two populations. Some differences in LD do exist between the two ethnic groups as well; however, the majority of the differences are small. The largest differences in LD are in pairwise values with rs16859788, which appear to mostly be due to the fact that the SNP is practically monoallelic in the Caucasian population. The Caucasian dataset suggests that there is a significant association of SNP haplotypes with autism risk, while the African-American set does not. However, this difference may be due to the small size of the African-American dataset. Therefore, while it appears that minor allele frequency differences can account for the lack of association of rs16859788 in the Caucasian dataset, additional studies are needed to determine whether the other differences in results between the two ethnic groups are due to sample size differences, differential LD with the causative variation in the two populations, or are population-specific risk alleles. While we have identified several associated SNPs, we do not predict any of the ones in GABRA4 to have functional consequences; therefore, it is unlikely that these are primary variants leading to the autism susceptibility. One of the SNPs identified in GABRB1 in the seizure subset, however, is in the 3? untranslated region (UTR). Given that multiple GABA receptor subunits combine in varying combinations to form a functional GABA receptor, even minor changes in levels of a particular subunit may alter the makeup of receptors within a particular cell type, and alter the GABAergic signaling. Therefore, variations within potential regulatory regions, such as untranslated regions and promoters, could play an important role. It will be important to look at potential changes that may result from this and other potential GABRB1 UTR variations, as well as sequence coding and potential regulatory regions to identify the primary variation, or variations leading to altered autism susceptibility. In summary, these data show that the GABA receptors are implicated in the etiology of autism in two different ethnic populations and suggest seizures as a stratifying phenotype. Furthermore, these results support our earlier findings, indicating GABRA4 and GABRB1 as genes contributing to autism susceptibility, independently, in the case of GABRA4, and through complex interactions with each other. \\n',\n",
       " '16722615: Disease name and synonyms X-linked alpha thalassaemia mental retardation (ATR-X) syndrome. Definition/diagnostic criteria Since the identification of the causative gene (ATRX) and the advent of procedures to confirm the diagnosis by molecular means, it has become clear that there are few sine qua non diagnostic features. Generally, however, affected individuals have moderate to profound learning difficulties associated with a severe expressive language disorder (95% of cases have severe to profound mental retardation (MR)). Most cases (>90%) will have a characteristic and recognisable facial gestalt during infancy. Some degree of genital abnormality is common (80%). Many affected individuals (90%) will have haematological signs of alpha thalassaemia. Other features include: skeletal abnormalities (90%), microcephaly (75%), short stature (65%), seizures (30%), cardiac defects (20%), renal/urinary abnormalities (15%). Epidemiology The prevalence of ATR-X in the general population is unknown. So far, 168 patients have been reported. An estimate for the prevalence is <1-9/1,000,000. Clinical description Psychomotor retardation and central nervous system Most cases of ATR-X syndrome have global developmental delay. However, even in less severely affected cases, where general performance may be classified as in the moderate level, expressive language is usually very limited. In early childhood generalised hypotonia is common and all milestones are delayed. More severely affected patients do not walk until later in childhood and some never ambulate. Most have no speech, although an increasing number of individuals are being identified who use a few words or signs. The most severe cases may only have situational understanding, and most are dependent on others for almost all daily activities. More recent reports, however, point to a wider spectrum of intellectual handicap than previously thought. A mutation in the ATRX gene has recently been identified in family originally described by Carpenter and colleagues [1]. All affected males had moderate MR and exhibited expressive language delay, though no psychometric evaluation was available. Guerrini and colleagues reported a mutation in an Italian family with four affected male cousins, one had profound MR, whereas the others had an intellectual quotient (IQ) of 41, 56 and 58 [2]. The basis for this marked variation is unknown. Generally, affected individuals continue to acquire new skills, though a brief period of neurological deterioration has been reported in three cases. In one report, electroencephalogram (EEG) changes were consistent with encephalitis [3]. The family originally reported by Holmes and Gang [4] was subsequently shown to have an ATRX mutation [5]. The reported family consisted of an infant and two maternal uncles with microcephaly, large fontanel, hypotonic face with short nose and anteverted nares, epicanthus, club foot deformity, and retarded psychomotor development. All three affected males from this family died in childhood and the death of one was attributed to encephalitis. With age, affected individuals often develop a tendency toward spasticity. One report described a family with an ATRX mutation where affected members had spastic paraplegia from birth [6]. Seizures occur in approximately one third of cases and most frequently are clonic/tonic or myoclonic in nature. A number of parents have reported jerking movements, which are not associated with epileptiform activity on EEG. Assessment of vision and hearing is difficult. Vision usually appears normal, although two patients have been reported as blind. Optic atrophy or pale discs are commonly noted, as are refractive errors (especially myopia). Sensorineural deafness and alpha thalassaemia were previously considered as features that distinguishes ATR-X syndrome from the allelic condition Juberg-Marsidi syndrome [7]. However, of the 13 cases with a documented sensorineural hearing deficit, seven had alpha thalassaemia suggesting the two conditions are part of a single continuum. Although the head circumference is usually normal at birth, post-natal microcephaly usually develops. Macrocephaly has not been reported. Computed tomography (CT) and magnetic resonance imaging (MRI) do not generally reveal remarkable findings, although mild cerebral atrophy may be seen. In two cases, partial or complete agenesis of the corpus callosum was reported. Autopsy reports were available for only three cases. The brain was small in each; in two cases the morphology was normal, but in the remaining case the right temporal gyri were indistinct and there was hypoplasia of the cerebral white matter. Behavioural phenotype No systematic study of behaviour has been carried out for ATR-X syndrome. Consequently, most reports of behavioural characteristics are anecdotal. Nevertheless, a thumbnail sketch of the mannerisms of this condition is slowly emerging [8,9] and may be useful for diagnosis. The subjects are usually described by their parents as content and of a happy disposition. Affected individuals exhibit a wide range of emotions that are usually appropriate to their circumstances. There have been reports, however, of unprovoked emotional outbursts with sustained laughing or crying. There may be emotional fluctuation with sudden switches between almost manic-like excitement or agitation, and withdrawal and depression. In several instances, the episodes of crying have been thought to be associated with pain, possibly of a gastrointestinal origin (see below). Whereas many of the individuals are affectionate to their caregivers and appreciate physical contact, some patients exhibit autistic-like behaviour: patients appear to be in a world of their own, show little interest or even recognition of those around them, and avoid eye contact. The latter behaviour may be associated with an unusual and persistent posture. Affected individuals may be restless, exhibiting choreoathetotic-like movements. Frequently, they put their hands into their mouths and may induce vomiting. Sometimes, they engage in self-injurious behaviour, biting or hitting themselves. They may hit, push or squeeze their neck with their hands to the point of cyanosis, a state they may also achieve through breath-holding. They may exhibit obsessional behaviour such as spinning on one spot while gazing into a light. Repetitive stereotypic movements may be manifest and these may vary from pill-rolling to hand flapping. This characteristic behaviour is reminiscent of Angelman syndrome and may lead to diagnostic confusion. Facial anomalies Distinctive facial traits are most readily recognised in early childhood and the gestalt is probably secondary to facial hypotonia (Figure 1). The frontal hair is often upswept, there is telecanthus, epicanthic folds, flat nasal bridge and mid-face hypoplasia, and a small triangular upturned nose with the alae nasi extending below the columella and septum. The upper lip is tented, the lower lip full and everted. The frontal incisors are frequently widely spaced, the tongue protrudes and there is prodigious dribbling. The ears may be simple, slightly low set and posteriorly rotated. Genital abnormalities Genital abnormalities are seen in 80% of children. These may be very mild (e.g., undescended testes or deficient prepuce), but the spectrum of abnormality extends through hypospadias and micropenis to ambiguous female external genitalia. The most severely affected children, who are clinically defined as male pseudohermaphrodites, are usually raised as females. In such cases there are no Mullerian structures present, and intra-abdominal, dysgenetic testes or streak gonads have been found [10,11]. Of particular interest is the finding that these abnormalities breed true within families [12]. Puberty is frequently delayed and, in a few cases, appears to be arrested. Curiously, premature adrenarche has been noted in two children ([13] and unpublished observation). Skeletal abnormalities In a series of 45 cases, a wide range of relatively mild skeletal abnormalities were noted, some of which were probably secondary to hypotonia and immobility [14]. Fixed flexion deformities, particularly of the fingers, were common. Other abnormalities of the fingers and toes were also observed: clinodactyly, brachydactyly, tapering of the fingers, drum stick phalanges, cutaneous syndactyly, overlapping of the digits, and a single case with a bifid thumb. Foot deformities occured in 29% of cases and include pes planus, talipes equinovarus and talipes calcaneovalgus. Almost a third of the cases had kyphosis and/or scoliosis, and chest wall deformity was seen in 10 cases. Sacral dimples were present in three cases, radiological spina bifida in two cases and other abnormalities of the vertebrae in five cases. Only a few of the cases had a thorough radiological investigation. In those investigated, the most common findings were delayed bone age and coxa valga. Short stature was seen in two-thirds of cases. Longitudinal data were available for only a few cases. As noted previously, in some patients growth retardation is apparent throughout life, whereas in others it manifests at a later stage, e.g. at the time of the pubertal growth spurt. Miscellaneous abnormalities Recurrent vomiting, regurgitation or gastro-oesophageal reflux, particularly in early childhood, are common findings. In a recent study involving a pair of affected non-identical twins, a barium meal revealed that both children had episodic gastric pseudovolvulus. In this condition the stomach does not have the normal system of peritoneal ligaments and has a propensity to torsion around itself leading to gastric outlet obstruction and secondary gastro-oesophageal reflux [15]. An apparent reluctance to swallow has been reported by several parents and probably reflects the dyscoordinated swallowing that was observed radiologically in two well-studied cases (unpublished data). The tendency for aspiration is commonly implicated as a cause of death in early childhood. Excessive drooling is very common, as is frequent eructation. Constipation occurs often, and in some individuals is a major management problem. Martucciello et al. [15] demonstrated ultra-short Hirshsprung\\'s disease and colonic hypoganglionosis in two affected children. The authors reviewed 128 cases of ATR-X and found that hospital admissions for recurrent ileus were reported in two cases and that reduced intestinal mobility was observed radiologically in four cases. This may be a consequence of a widespread abnormality in the enteric nervous system, leading to abnormal gut motility. Two of the patients required partial resection of the ileum after developing ischaemia of the small bowel, which in one case was attributed to a volvulus. Volvulus was also reported in an additional case. One child required a right hemicolectomy following an episode of necrotising enterocolitis at 13 days of age (reviewed in [15]). Evidence suggests that affected individuals are susceptible to peptic ulceration. Oesophagitis, oesophageal stricture and peptic ulcer have observed endoscopically in single cases. In five cases, an upper gastrointestinal bleed was observed, one of which required transfusion (haemoglobin, 5 g/dl) [14,15]. Pain resulting from peptic ulceration is one possible explanation for the episodes of persistent crying and food refusal reported by a number of parents. A wide range of cardiac abnormalities have been noted: septal defects (10 cases); patent ductus arteriosus (six cases); pulmonary stenosis (three cases); aortic stenosis (two cases); tetralogy of Fallot (two cases) and single cases of transposition of the great arteries, dextracardia with situs solitus and aortic regurgitation ([14] and unpublished data). Renal abnormalities (hydronephrosis, renal hypoplasia or agenesis, polycystic kidney, vesico-ureteric reflux) may present with recurrent urinary tract infections. Haematology Although the presence of alpha thalassaemia was initially one of the defining elements of the syndrome, it is clear that there is considerable variation in the haematological manifestations associated with ATRX mutations. A number of families have been identified in which some or all of the affected members show no signs of alpha thalassaemia [16,17]. The test for alpha thalassaemia is simple and, when positive, quickly establishes the diagnosis (see diagnostic methods). However, the haematological findings are often surprisingly normal considering the presence of alpha thalassaemia. Neither haemoglobin concentration nor mean cell haemoglobin concentration are as severely affected as in the classical forms of alpha thalassaemia associated with cis-acting mutations in the alpha globin complex. This discrepancy probably reflects the different pathophysiology of the conditions. Aetiology The gene involved in the disease, ATRX, lies at Xq13.3 [18]. It spans about 300 kb of genomic DNA and contains 36 exons [19]. It encodes at least two alternatively spliced ~10.5 kb mRNA transcripts which differ at their 5\\' ends and are predicted to give rise to slightly different proteins of 265 and 280 kD respectively. A further transcript of ~7 kb represents an isoform which retains intron 11 and truncates at this point. This gives rise to a truncated protein isoform, ATRXt, which is conserved between mouse and man [20]. The protein belongs to the SNF2 family of helicase/ATPases, members of which are involved in a wide variety of cellular functions including the regulation of transcription (SNF2, MOT1 and brahma), control of the cell cycle (NPS1), DNA repair (RAD16, RAD54 and ERCC6) and mitotic chromosome segregation (lodestar). It is believed that their function is to facilitate these processes by remodelling chromatin. Another important feature of the ATRX protein is the presence, at the N terminal, of a zinc finger domain (called the ADD domain), which is related to sequences seen in the DNA methyltransferase 3 (DNMT3) family of de novo DNA methyltransferases [21]. It is not known whether this domain is involved in protein or DNA interactions. The majority of naturally occurring mutations in the ATRX gene occur in the ADD and helicase domains [22]. It is likely that all the mutations are associated with reduced function. The function of the ATRX protein is unknown, but the fact that alpha globin expression is perturbed in the patients suggests that it may play a role in gene expression. Protein studies have shown that ATRX is a nuclear protein with a punctate staining pattern [23]. In mouse cells, and to a lesser extent in human cells, the majority of the protein is associated with DAPI-bright regions of the nucleus, which are known to represent pericentromeric heterochromatin. Evidence is also accumulating for an interaction between ATRX and another heterochromatic protein, HP1 [24,25]. ATRX is also found in promyelocytic leukaemia nuclear bodies, where it interacts with the transcription cofactor Daxx [26,27]. One additional striking finding in human metaphase preparations is that anti-ATRX antibodies consistently localise to the short arms of acrocentric chromosomes and co-localise with a transcription factor (upstream binding factor) that is known to bind the ribosomal DNA (rDNA) arrays in nucleolar organiser regions [23]. The effects of ATRX mutations on the chromatin structure of the rDNA arrays located in these regions have been studied. Although no gross changes in DNAase1, micrococcal nuclease or endonuclease accessibility were detected, striking differences were noted in the pattern of rDNA methylation between normal controls and patients with ATR-X syndrome [28]. In normal individuals, approximately 20% of the transcribed units were methylated; whereas, in ATR-X patients, a substantial number of these rDNA genes were unmethylated. An extensive survey of the genome has identified two additional sequences that are abnormally methylated in ATR-X patients. Y-specific repeats (DYZ2) are almost all methylated in ATR-X patients, while ~6% are unmethylated in peripheral blood of normal individuals. Subtle changes in the pattern of methylation have also been observed in the TelBam3.4 family of repeats that are mainly found in the subtelomeric regions. It is not clear whether the perturbation of methylation that is observed in affected individuals plays a role in the aetiology of the condition. To date, no change in the pattern of methylation has been detected in the alpha globin gene cluster that might explain the reduced expression of the alpha globin genes compared with expression of the beta globin genes. In the knock-out mouse model, absence of ATRX is lethal early in embryogenesis indicating that ATRX is essential for development [29]. In conditional knock-out mice, where only the forebrain is affected, there was normal proliferation of cortical progenitors but widespread apoptosis associated with the differentiation of the cortical neurones, which led to a reduction in forebrain size [30]. Genotype/phenotype correlations Since the discovery of the ATRX gene, most new cases have been defined on the basis of severe MR with the typical facial appearance (see clinical description) associated with a mutation in the ATRX gene. This allows a less biased evaluation of the effect of ATRX mutations on the commonly associated clinical manifestations. The severity of three aspects of the phenotype, mental retardation, genital abnormality and alpha thalassaemia, is quantifiable to some degree. The greatest variation in intellectual handicap is associated with a truncating mutation at the N-terminus of the protein [2]. The same mutation has also been described in the Chudley-Lowry family [31] in which the phenotype was milder than that usually associated with ATRX mutations. Protein analysis by Western blotting has shown that small amounts of full-length protein are present in each patient [31,32]. There is some debate about how this phenotypic rescue is achieved: the possibilities being skipping of the mutation by initiation at a downstream methionine or by alternative splicing. There is, however, no obvious correlation between the degree of retardation and the amount of full-length protein. There are now eight different mutations associated with the most severe urogenital abnormalities. Five of these mutations lead to the production of a truncated protein resulting in the loss of the C-terminal domain, including a conserved element and polyglutamine tract. From the available data, it appears that in the absence of the C-terminal domain, severe urogenital abnormalities are likely (though not inevitable as one mutation in this region was associated only with cryptorchidism) suggesting that this region may play a specific role in urogenital development. At other mutation sites, however, there is no obvious link between phenotype and genotype and there is considerable variation in the degree of abnormality seen in individuals with identical mutations. The relationship between ATRX mutations and alpha thalassaemia is unclear. Past reports are inevitably biased as the presence of excess beta chains (HbH inclusions) was originally used to define the ATR-X syndrome. However, inclusions may not appear until there is a 30?40% reduction in alpha chain synthesis [33]. Thus, some patients do not have HbH inclusions [16,17,34], but this does not rule out down-regulation of alpha globin expression. Furthermore, comparison of the 32 cases from 26 pedigrees with the common 736C>T mutation shows a variation in the frequency of HbH inclusions from 0 to 14%. This variable frequency of cells with HbH inclusions indicates considerable variability in the degree to which alpha globin synthesis is affected by the 736C>T mutations. The fact that patients with identical mutations may have very different, albeit stable, degrees of alpha thalassaemia suggests that the effect of the ATRX protein on alpha globin expression may be modified by other genetic factors. Diagnostic methods Detection of alpha thalassaemia The most sensitive test uses light microscopy to detect red cells containing HbH inclusions after incubation of venous blood with 1% brilliant cresyl blue in isotonic saline for 4?24 hours at room temperature (Figure 2). HbH is unstable and cells with inclusions may be more difficult to find in older blood samples. When the family history and phenotype are highly indicative of ATR-X syndrome, a careful search for inclusions should be performed in all affected individuals and repeated, if necessary, as inclusions may be very infrequent. It is important to note that, in most cases of ATR-X, the amounts of HbH are too low to be detected by electrophoresis. The haematology is often surprisingly normal considering the presence of alpha thalassaemia. Mutation detection The majority of disease-causing mutations are single base changes, most of which are missense mutations. The gene is large and a comprehensive mutation analysis, even of the coding region alone, is a time-consuming and expensive enterprise. However, the missense mutations are clustered: 50%?60% of the identified mutations are located in the ADD domain, 20% have the common 736C>T, R246C mutation and the next most commonly affected region is the helicase domain. A sensible and cost-saving approach is to start by analysing these regions. Protein studies Levels of ATRX protein were found to be substantially reduced in a number of patients with missense mutations involving the ADD domain [23,35]. Analysis of the ATRX protein may also reveal a truncation in the ATRX protein of affected individuals, which allows more directed sequencing. X inactivation studies X-chromosome inactivation studies may be used to determine the carrier status of at-risk women. In normal women, one X-chromosome is randomly inactivated in each cell. Most females who are unaffected carriers for ATR-X syndrome display preferential inactivation of the mutant ATRX allele [36]. This phenomenon is referred to as \"non-random\" or \"skewed\" X-chromosome inactivation and can be identified by established laboratory techniques. There are, however, exceptions: a child of normal intelligence carrying an ATRX mutation was shown to have a balanced pattern of X inactivation [36]; another female carrier with mild mental retardation also had a non-skewed pattern of X inactivation [37]. This indicates that there may be a risk of false negative results associated with this test. Furthermore, 10% of normal females show skewed X-chromosome inactivation, which could lead to false positives. Finally, in women with certain X-linked conditions, other than ATR-X syndrome, the X chromosome carrying the mutated gene is preferentially inactivated [38]. Since non-random X-chromosome inactivation is not unique to ATR-X syndrome, the test is only supportive, to be used in the context of a suggestive clinical and/or family history. Differential diagnosis Coffin-Lowry syndrome may be confused with ATR-X syndrome, particularly in early childhood. Distinguishing features are the down-slanting palpebral fissures, broad nose, pudgy tapering digits, absence of genital abnormalities and the frequent presence of carrier manifestations in Coffin-Lowry syndrome. There is phenotypic overlap with Angelman syndrome (profound MR with absent speech and walking, seizures, happy disposition, emotional lability) and Smith-Lemli-Opitz (facial dysmorphism, skeletal and genital abnormalities). Diagnostic testing or mutational analysis should allow these conditions to be excluded in most cases. Several other syndromes, characterised by the association of severe mental retardation with dysmorphic features, are caused by allelic mutations in the ATRX gene: Juberg-Marsidi [34], X-linked mental retardation with spastic paraplegia [6], Carpenter-Waziri [39], Holmes-Gang [5], Smith-Fineman-Myers [40] and Chudley-Lowry [31] syndromes. Genetic counselling and antenatal diagnosis ATR-X syndrome is a recessive X-linked condition. Female carriers are usually physically and intellectually normal and therefore additional tests are required to determine a female\\'s genotype. In the past, skewed X-inactivation has been utilised as a marker for carriers of the ATRX mutation; however, for the reasons given above, this method should be used with caution. Twenty-five percent of obligate female carriers exhibit rare cells with HbH inclusions, and thus a negative result does not exclude carriage of a mutation. Since the identification of the ATRX gene, mutation detection has become the mainstay of carrier identification. In families in which the causative mutation has not been identified, linked markers may be used to determine whether descendants of an obligate carrier have inherited the disease-associated haplotype. For a woman identified as a carrier, there is a 50% risk of passing on the disease allele but, since only males are clinically affected, the risk of having an affected child is 25% for each pregnancy. Antenatal diagnosis for such at-risk females is feasible. The principal issue when counselling is determining the risk of recurrence for families with a sporadic case of ATR-X. One small study showed that 17/20 mothers of sporadic cases were carriers [41]. Therefore, in families where the mutation has not been identified, 85% of the mothers of sporadic cases would be expected to be carriers. Another important consideration concerns the possibility of germline mosaicism. This has been recently reported in ATR-X syndrome and means that, despite a negative mutation test, a mother of an ATR-X patient may still be at risk of further affected offspring [41]. It is advisable to offer all mothers of affected children prenatal diagnosis even if they are negative for the ATRX mutation. Management including treatment Development and behaviour Evaluation of developmental skills from infancy ensures that the appropriate intervention services are introduced as early as possible. Infant stimulation, early intervention and special education are important to optimise abilities. Affected individuals may show improvement in socialisation with one-to-one therapy. Anti-psychotic medication such as prochlorperazine may be effective in treating severe behaviour problems. Feeding and gastro-intestinal problems Infantile hypotonia is very common and is associated with considerable difficulty with sucking. Gavage feeding may be required for a number of weeks to assure adequate nutrition. Recurrent vomiting, regurgitation or gastro-oesophageal reflux, particularly in early childhood, is a common finding and may be secondary to gastric pseudovolvulus. Evaluation of recurrent vomiting should include assessment for gastro-oesophageal reflux and there is a strong case for 24 hr pH monitoring and barium study of the upper gastro-intestinal tract. Initial treatment for gastro-oesophageal reflux should be conservative and standard. Nutrition consultation for assurance of adequate caloric intake may be needed. In severe cases, surgical treatment by fundoplication may be indicated, as well as the introduction of a feeding gastrostomy. If gastric pseudovolvulus is demonstrated this requires surgical correction. Prolonged periods of food and drink refusal associated with considerable distress are frequently reported by parents. The cause is rarely obvious, but peptic ulceration, oesophagitis or ileus should be considered, as these are well documented in this condition. Constipation can be a significant management problem and fecal impaction may occur if preventative measures are not undertaken. Adequate hydration is important in preventing constipation, as is the use of bulking agents in the diet and the regular use of osmotic laxatives such as lactulose. If the problem is resistant to conservative management then rectal biopsy should be considered to exclude ultra-short segment Hirshsprung\\'s disease and colonic hypoganglionosis. Drooling is very common in ATR-X, particularly in young children. Many mothers will describe their sons soaking several bibs during the course of the day. The open mouth associated with facial hypotonia no doubt is an important factor, as is their reluctance to swallow even with a mouth full of saliva. Numerous methods have been tried to control drooling. Feeding by mouth may help encourage the swallowing reflex and this may be supplemented by specialist training by a speech therapist. In other conditions in which there is drooling, anticholinergic drugs are commonly used to reduce production of saliva. However, these drugs cause reduced gastrointestinal motility (which may already be abnormal in ATR-X males) and may exacerbate constipation or provoke ileus. Botulinum toxin type A (Botox) injection of the salivary glands might be tried, but reports are scant and the treatment needs repeating. The surgical options of redirecting the submandibular ducts or removing the glands themselves may be considered. Neurologic Spasticity may increase with age. Regular evaluations of the need for physical therapy are needed and ongoing therapy may ameliorate spasticity. Seizures occur in approximately one third of cases and most frequently are clonic/tonic or myoclonic in nature. In the majority of cases, seizures respond well to standard therapy. Some affected individuals exhibit jerking movements which, though appearing to be seizures, are not associated with epileptiform activity on EEG. Electroencephalogram may need to be carried out with video recording to correlate seizure activity and abnormal movements. Approach to seizure control is standard. Haematology In ATR-X syndrome about 90% of cases have alpha thalassaemia. The anaemia, however, is mild and does not require treatment. Iron is not indicated unless iron stores are shown to be low. Genitourinary Genital abnormalities are seen in 80% children. The possibility of cryptorchidism should be assessed in all affected children. Orchidopexy should be carried out as required at the standard age. Intra-abdominal testes, which are usually dysgenetic, should be removed because of the long-term risk of malignancy. Structural abnormalities of the kidneys and ureters are well described and may predispose individuals to urinary tract infections. Renal abnormalities (hydronephrosis, renal hypoplasia or agenesis, polycystic kidney, vesico-ureteric reflux) may present with recurrent urinary tract infections. The urinary system should be imaged with ultrasound at diagnosis. Urine should be cultured when there is symptomatology such as fever or pain on urination. Prophylactic antibiotics are indicated if urinary tract anomalies are present to prevent long-term damage to the kidneys. Musculoskeletal A wide range of relatively mild skeletal abnormalities have been noted, some of which are probably secondary to hypotonia and immobility [14]. Foot deformities occur in 29% of cases and include pes planus, talipes equinovarus and talipes calcaneovalgus. Kyphosis and scoliosis are common and increase with age. A careful musculoskeletal exam should be done at diagnosis and throughout childhood. Treatment of musculoskeletal anomalies, when appropriate, is standard. Hearing and vision Sensorineural deafness may be present. Standard distraction tests and, if anomalies are suspected, evaluation of auditory evoked responses should be done. Hearing loss should be managed as for any infant. Refractive abnormalities, in particular myopia, are common. Strabismus may be present. Rarely the children may be blind and this may be associated with optic atrophy. A formal ophthalmologic evaluation is appropriate at diagnosis and regularly thereafter. Ocular problems should be treated as in the general population. Prognosis Among the 168 patients described, there have been 25 deaths. The cause was established in just over half of these cases: there were six cases of pneumonia and four due to aspiration of vomitus. Patients appear to be particularly vulnerable in early childhood, with 19 of the deaths occurring under the age of five years. This may be associated with the fact that gastro-oesophageal reflux and vomiting are often more severe in the early years. In two cases, death was associated with renal failure, which was possibly due to recurrent renal tract infection. There are no long-term longitudinal data for this relatively newly described syndrome but a number of affected individuals are fit and well in their 30s and 40s. Unresolved questions 1. The function of ATRX protein is not known. It is not clear how loss of function mutations in a protein associated with repressive heterochromatin might lead to reduced expression of a target gene (e.g. alpha globin). The role of ATRX in DNA methylation is also unknown. 2. What are the \\'target\\' genes whose expression is directly influenced by ATRX? How are these genes related to the observable phenotype? 3. Why is there variability in the features of the phenotype, for example, the presence and severity of alpha thalassaemia is variable even for a given mutation and it seems likely that modifying genes are involved. Obvious candidates are genes encoding other protein components of heterochromatin. 4. What is the prevalence of ATR-X syndrome? \\n',\n",
       " '16709250: Autism and related autism spectrum disorders (including Asperger\\'s Syndrome and pervasive developmental disorder-not otherwise specified (PDD-NOS)) are considered to be among the most devastating psychiatric illnesses affecting children. The three core symptoms of autism spectrum disorders (ASD) are: 1) deficits in social interactions and understanding, 2) aberrant communication and/or language development, and 3) restricted interests and repetitive, stereotyped behaviors [1]. To date, there are no definitive molecular or genetic markers that allow unequivocal diagnosis of ASD, with the exceptions of tuberous sclerosis, Rett\\'s Syndrome, and Fragile X Syndrome [2-12]. Together, these genetically defined mutations are present in only a minority of individuals (<10%) within the broad autism spectrum. The majority of diagnoses are dependent on behavioral characteristics, according to DSM-IV guidelines, using questionnaires such as the Autism Diagnostic Interview-Revised (ADI-R) [13] or the Autism Diagnostic Observation Schedule (ADOS) [14], which are structured to evaluate children who are approximately 2 or older in mental age. Although the guidelines are relatively clear, the individual rater\\'s (eg., parents, teachers, clinicians, therapists) perception of the evaluated behavior leaves much room for ambiguity. Moreover, with the more mildly affected individuals (eg., with Asperger\\'s Syndrome), diagnosis is often not made until well after the child starts school and, even then, the child is often diagnosed with other more common disorders (such as attention deficit disorder or learning disability) before Asperger\\'s Syndrome is considered, which delays appropriate intervention and effective educational programming. Thus, there is a great need to identify biomarkers that can be used consistently in a clinical setting to diagnose ASD. Furthermore, it is important to identify biological processes that are associated with distinct ASD phenotypes in order to design effective drug therapies targeted to specific individuals. Although genetic linkage analyses have identified numerous candidate genes for autism [15], there is little consistent data that would support the use of any (or a combination) of these as diagnostic biomarkers for ASD. Furthermore, each candidate gene alone lends little insight into the pathophysiology of these disorders, which are believed to arise from dysregulation of multiple genes. Recently, attention has turned to transcriptional profiling approaches [16-19], which involve simultaneous, large-scale expression analysis of thousands of genes on a cDNA (or oligonucleotide) microarray slide, to unravel complex psychiatric disorders. The advantage of transcriptional profiling using microarrays is the ability to study multiple genes in the context of functional gene networks within a living cell, as opposed to forward genetic approaches. So far, application of microarrays to the study of autism has been described in just one study on post-mortem brain tissue from autistic subjects and matched tissue controls [20]. Thirty genes were identified as being differentially expressed in autistic brain samples relative to matched tissue controls on a combination of 2 separate array platforms containing 588 or 9374 cDNA probes, indicating that autism is associated with multiple disturbances in gene expression. Of this list, only a few genes related specifically to neurological functions and, of these, the glutamate receptor system was targeted for further study. In a similar vein, a recent bioinformatics analysis of autism positional candidate genes using biological databases and computational gene network prediction software demonstrates that the often disparate results from genetic studies implicating a multitude of different genes can be coalesced into interconnected but distinct pathways centered on a specific gene or genes (e.g., FOS and TP53), or on a particular biological theme, e.g., apoptosis [15]. Both of these studies suggest the involvement of multiple genes not previously associated with autism and illustrate the power of using a global approach to study this complex disorder. The experimental strategy used in the study reported here was designed to tease out differences in gene expression among genetically identical individuals with ASD which might relate to observed differences in the degree of expression of autistic symptoms. Inasmuch as natural variations in gene expression are especially low for monozygotic twins [21,22] (up to 1.76% in the latter study involving 10,000 genes in 5 pairs of monozygotic twins, compared to ~14% in unrelated individuals), such a strategy has been shown to be useful in identifying candidate genes for bipolar disorder [23] and osteoporosis [24]. Moreover, lymphoblastoid cell lines (LCL) derived from blood cells of autistic individuals were used in this study to explore the possibility that biomarkers for autism could be expressed in easily accessible peripheral cells. Indeed, it has been reported previously that LCL from individuals with bipolar disorder displayed altered gene expression in both postmortem brain tissue and lymphoblasts, although one of the genes, LIM, was altered in the opposite direction in LCL [25]. Follow-up genetic association analyses of this gene demonstrated association of a single nucleotide polymorphism with bipolar disorder [26], indicating the usefulness of LCL and DNA microarray analyses in identifying potential biomarkers of a complex neurological disease. While studies of gene expression in brain tissue may lead to a better understanding of the mechanistic basis for ASD, it is not an appropriate target for diagnostic assays. Ideally, diagnostic assays should use easily obtained patient samples such as blood, although there is no evidence that gene expression or other markers exist in the peripheral blood of ASD patients. However, one may hypothesize that ASD might arise, in part, through dysregulation of expression of specific neuronal genes and that expression differences between affected and unaffected individuals might be present in tissues other than brain. As a test of this hypothesis, we chose to use DNA microarray analysis to examine gene expression in LCL derived from peripheral blood lymphocytes. Here we report the first study using a genome-scale approach to identify biomarkers for autism. We demonstrate by gene expression profiling on DNA microarrays that: 1) LCL derived from five monozygotic twin pairs discordant for diagnosed autism and/or language impairment show differential gene expression; 2) a number of the most differentially expressed genes are present in pathways critical to the development and function of the nervous system; 3) there appears to be a quantitative relationship between the severity of the autistic phenotype exhibited by the twins and the expression level of certain genes relative to that of the respective genes in cell lines from non-affected siblings; and 4) approximately half of the most highly differentially expressed genes map in silico to previously reported chromosomal regions containing autism susceptibility genes or quantitative trait loci. Results Differential gene expression in lymphoblastoid cell lines from monozygotic twins discordant for classic autism To determine whether LCL derived from individuals with autism exhibit patterns of gene expression that may be relevant to autism spectrum disorders (ASD), gene expression profiling was performed on LCL derived from 3 sets of male monozygotic twins, one of each pair who met standard diagnostic criteria for autism based on the ADI-R. In each case, the other twin, while not clinically autistic, exhibited autistic traits and was classified either as \"broad spectrum\" or \"not quite autistic\" according to guidelines described by the Autism Genetic Resource Exchange (AGRE) repository. Two of the three twin pairs had an unaffected sibling and these were also used for comparison with their respective twin siblings. All of these assays employed an experimental design in which RNA from twin siblings were cohybridized on two-color spotted microarrays containing 39,936 human cDNA elements. Each microarray experiment involved dye-reversal replicates, and was performed in duplicate or, in one case, triplicate for the different sets of twins. The mean log2ratios of each gene from the dye-reversal replicates were used for statistical analyses of the biological replicates. Principal components analysis (PCA) of the combined microarray data with respect to samples from the 3 discordant twin sets showed that genotype is responsible for the major portion of the variation in differential gene expression, reflecting the expected transcriptome heterogeneity among unrelated individuals (see Additional file 1). The microarray data from the 3 sets of discordant twins was analyzed using SAM in order to identify genes that were significantly different from log2 = 0 across the biological replicates (n = 3). Twelve hundred genes were identified as significant with an FDR of 26%. Twenty-five genes were found to be up-regulated at least 1.5-fold in the more severely affected twin relative to the other twin (log2(ratio) = 0.58) and 19 genes were down-regulated by at least 1.5-fold (Table 1). Of these, eight of the 26 known genes (representing six unique genes) correspond to genes involved in neurological development, function, or disease. Because of this surprising finding, we used quantitative RT-PCR (qPCR) to confirm the differential expression of these specific genes (identified by boldtype in Table 1), as well as several with no known neuronal functions. As shown in Table 1, qPCR confirmed the relative expression levels of all but one of the tested genes, including neurologically relevant argininosuccinate synthetase (ASS), cell death-associated kinase (DAPK1), 5-lipoxygenase-activating protein (ALOX5AP or FLAP), interleukin-6 signal transducer (IL6ST), and Roundabout homolog 1 precursor (ROBO-1), as well as 3 of the \"non-neuronal\" genes including clotting factor XIIIa (F13A1), eukaryotic translation initiation factor 2C (EIF2C,2), and SAM domain, SH3 domain and nuclear localization signals,1 (SAMSN1). Moreover, when the expression profile of cells from the autistic twin was directly compared against that of his respective normal sibling in a dye-reversal microarray experiment, neurologically relevant genes represented 3 of the top 5 most differentially expressed genes (Table 2). Interestingly, the mean log2(ratio) of each of these, ASS, CHL1, and FLAP, are higher for the autistic twin than for the more mildly affected twin when each is compared against their respective normal sibling, suggesting a quantitative relationship between differential gene expression (relative to normal individuals) and severity of autistic symptoms, at least for these specific genes. These quantitative differences have also been confirmed by qPCR analyses. Network prediction analysis shows interconnected pathways involving differentially expressed, neurologically relevant genes centered around inflammatory mediators Network prediction analysis using Ingenuity Pathways Analysis Software of the 1200 significant genes from the SAM analysis further revealed that 25 out of 58 network focus genes exhibiting a differential expression = ? 1.5-fold (i.e., log2(ratio) greater than ? 0.58) in at least one discordant twin set are involved in neurological function or disease (Table 3). This expression cutoff was selected because of reports in the literature suggesting that 1.47-fold increases or decreases in gene expression are generally reproducible when Lowess normalization is used [27], and our own ability to confirm expression changes of at least 1.5-fold by qPCR. Of particular note is the gene network that is derived from pathway analysis of the mean expression values (with log2 ratio ? ? 0.58) across 3 sets of discordant twins which shows that the majority of significantly differentially expressed genes are part of an extended network centered on TNF and other inflammatory mediators (Fig. 1). The neurological functions of 8 of the genes in this network are described in Table 3, which lists all of the network focus genes that exceed the differential expression cutoff (1.5-fold increase or decrease) in at least 1 pair of twins. In comparing this list to that of Table 1, it is clear that, aside from overlapping differentially expressed genes across the 3 sets of twins, there are network genes that are uniquely up- or down-regulated within each of the twin pairs, as illustrated by Additional file 2. The collective data from the above-mentioned microarray and pathway analyses suggested a short list of novel candidate autism susceptibility genes with reported neurological functions for further evaluation. Differential expression of autism candidate genes in \"concordant\" autistic twins Expression analysis of autism candidate genes in LCL from two sets of twins in which both individuals were diagnosed as autistic surprisingly showed differential expression of several of the candidate genes (Table 4). However, in each case, the \"concordant\" autistic twin siblings were found to be discordant with respect to severity of language impairment based on each twin\\'s scores on the Peabody Picture Vocabulary Test (PPVT) (see Additional file 3 for profile of subjects studied). Thus, when microarray data from the more language-impaired twin (lower percentile PPVT score) was compared relative to the less impaired twin, the differential gene expression profile overlapped with that which was obtained from the \"discordant\" twin sets. This result underscores the importance of considering autistic phenotype and/or severity as a means of reducing heterogeneity of gene expression in the search for biomarkers of autism. Interestingly, as shown in Table 4, expression analysis of the candidate genes in cells from monozygotic nonautistic twins demonstrated that two of the genes, CHL1 and possibly ROBO1, were differentially expressed. However, it is worth noting that this set of \"normal\" twins has two autistic siblings. Thus, it is not clear to what extent their gene expression profiles are \"normal\" since autism exhibits strong genetic influences. It is therefore possible that the differential expression of these two neurologically relevant genes is not coincidental, but does not, by itself, meet the threshold for association with an autistic phenotype. Alternatively, this result might suggest that these genes are not involved in autism. Clearly, this observation on only one set of normal twins warrants future investigation preferably with twins with no autism in their family background. At this time it is difficult to obtain normal monozygotic twins with no autistic siblings from the AGRE repository which focuses exclusively on collecting samples from pedigrees with familial autism. The serotonin transporter (5-HTT) gene is also differentially expressed in lymphoblastoid cells from monozygotic twins discordant in severity of autism and/or language impairment To evaluate whether differential expression of the serotonin transporter (5-HTT), which is strongly implicated in autism, can be detected in LCL from the autistic and nonautistic twins, qPCR analyses were performed, as 5-HTT is not represented on the microarray platform. Results indicated that, while there is no difference in 5-HTT expression between the nonautistic twins, there is a significant decrease in expression in the more severely affected twin in all of the autistic twin pairs studied, as shown in Table 4. Reduced expression of 5-HTT in blood-derived cells may explain hyperserotonemia in a subset of autistic individuals [28]. It should also be noted that a polymorphism in the promoter region of 5-HTT which results in reduced transcription of 5-HTT is a factor in anxiety-related traits [29,30], common in autism. The present finding suggests that LCL, or their precursor blood lymphocytes, may be useful as reporter cells to evaluate neurologically relevant gene expression differences between autistic and normal individuals. Network and global functional analyses of the pooled microarray data on monozygotic twins with autism highlight genes involved in nervous system development and function Because of the observed relationship between severity of symptoms and differential expression of candidate genes across the 5 autistic twin pairs studied, SAM was applied to microarray data from all 5 sets of twins to identify genes that were significantly up- or down-regulated across all twin pairs, each pair of which exhibited differential severity with respect to language ability (Table 5). Once again, pathway analysis of the differentially expressed significant genes revealed an extended network centered on TNF and other cytokines (including IL1B, IL4, and IL6, which was highly expressed in the brain tissues of autistic individuals [34]), connecting a number of neurologically relevant genes (Fig. 2). Global functional analysis of the 1281 significant differentially expressed genes from 5 pairs of twins further shows that genes related to \"nervous system development and function\" are among the most statistically significant, enriched genes across the 5 sets of twins (Table 6). In silico mapping of differentially expressed genes to chromosomal regions containing autism candidate genes or quantitative trait loci (QTL) Although most of the differentially expressed genes identified in this study are novel candidate genes with respect to autism, Table 7 shows that 6 out of 8 of the candidate genes listed in Table 4 [and approximately half (55%) of the differentially expressed genes listed in Tables 3 and 5 (see Additional file 4)] map within or close to chromosomal regions containing previously reported autism candidate genes (ACG) or recently identified QTL for language and nonverbal communication. Interestingly, as observed in Additional File 4 and Table 7 respectively, 32?50% of the genes mapped in silico to autism susceptibility or quantitative trait loci are located within language QTL recently identified by Alarcon et al [59], perhaps reflecting the differential severity of language impairment between the co-twins in this study. This observation suggests that the overlay of expression data onto genetic data allows one to focus further genetic and functional analyses on expressed, neurologically relevant genes that may relate to the behavioral phenotype. Taken together with the network and global functional analyses described above, these results suggest that blood-derived cells may be useful as surrogates to screen for biomarkers for autism. Discussion These studies provide a novel approach to determining candidate genes for autism through the use of peripheral cell lines derived from individuals with ASD. The observations represent a model for the development of a diagnostic screen for autism based on biomarker detection in blood, which is an easily accessible tissue. In this study, DNA microarrays containing ~40 K human cDNA probes were utilized to examine differences in gene expression profiles in LCL derived from 5 pairs of monozygotic twins with ASD. Three sets of twins were discordant with respect to clinical diagnosis of autism, and 2 sets (with both co-twins diagnosed as autistic) differed with respect to severity of language impairment. We specifically chose this experimental model (direct comparison of identical twins) because differential gene expression in blood leukocytes from monozygotic twins has been reported to be much more restricted than between unrelated controls and, furthermore, the differentially expressed genes exhibited \"random variations\", showing no specific preference for any functional class [22]. The most remarkable finding of this study is that global functional analysis of the significant differentially expressed genes in LCL from these 5 sets of twins identifies \"Nervous system development and function\" as a top \"high level function\" that is significantly enriched across the 5 gene expression datasets (Table 6). Moreover, in silico mapping of our most differentially expressed genes across as well as within the twin sets demonstrates that many of these genes are located in or close to chromosomal regions previously identified as autism susceptibility loci by genetic analyses (Table 7 and Additional file 4). Quantitative RT-PCR analysis has further confirmed the differential expression of a subset of our novel candidate genes in the majority of twin sets studied. Several of these candidate genes and their associated gene networks may provide insight into potential mechanisms involved in the autistic phenotype(s). One of the striking results of the pathway analyses is that a relatively large number of the differentially expressed, neurologically relevant genes are linked in networks that are centered on genes involved in inflammation (see Figs. 1 and 2). The network genes with reported neurological functions include the proteins ASS, ALOX5AP (FLAP), CD44, CHL1, DAPK1, EGR2, F13A1, FLT1, IL6ST, NAGLU, PTGS2, and ROBO1 (See Table 3). The protein ASS regulates the rate-limiting step involved in nitric oxide (NO) production through regeneration of arginine from citrulline, a byproduct of the nitric oxide synthetase (NOS) reaction [31]. Since NO is a major signaling molecule in the brain that has been implicated in several psychiatric disorders, including autism [32], the increased expression of ASS may be of potential relevance to the autistic phenotype. ASS has also been shown to be induced in a rat model of brain inflammation [33], which would be consistent with the hypothesis that neural inflammation may play a role in autism [34]. DAPK1, a cell death-associated serine/threonine kinase which is involved in suppression of integrin activity and disruption of matrix survival signals [35], is also induced by inflammation [36]. Interestingly, the expression of FLT1 (VEGF receptor 1) is also regulated by inflammatory cytokines as well as by NO [37]. Furthermore, the fact that IL6ST (gp130) is increased in LCL from the more severely affected twin, may complement previous observations that IL-6 is the most elevated inflammatory cytokine in the middle frontal gyrus and anterior cingulate gyrus of brain autopsy tissue from autistic individuals [34]. While upregulation of ASS, DAPK1, FLT1, and IL6ST may be responses to inflammation, ALOX5AP (FLAP) and PTGS2 (COX-2) mediate inflammation through the production of leukotrienes [38] and prostaglandins [39]. Interestingly, 5-lipoxygenase, the target of FLAP activation, has been implicated in aging and neurodegenerative diseases [40], as well as other psychiatric disorders [41], including anxiety and depression, which are frequently co-morbid conditions of autism, while a COX-2 inhibitor, celecoxib, has been shown to have therapeutic effects in major depression [42], further suggesting a role for inflammatory processes in psychiatric disease. Collectively, the potential involvement of these specific genes that are associated with neurological function and disease and their presence in pathways regulated by inflammatory mediators lend further support to the neural inflammation model for autism [34], which may be also manifested by immune dysfunctions commonly observed in autism [43]. In addition to the possible role of genes involved in inflammation, a review of the gene list in Table 3 suggests several additional recurring biological themes among the differentially expressed genes with neurological functions: neuronal survival, neurite extension/guidance, and myelination. In this regard, altered expression of EGR2, the most down-regulated gene across 5 twin sets, may be particularly significant (See Table 5 and Additional file 2). EGR2 (Krox-20) is a transcription factor involved in the development of the brain and peripheral nervous system, routing of axons, and myelination [44,45]. Some of these functions may be related to EGR2-mediated regulation of ROBO1, which is involved in neuronal differentiation and axon guidance [46,47], and integrin beta-7 (ITGB7) which has been implicated in chronic demyelinating disease [48]. The expression levels of all three of these genes are relatively reduced with increased severity of autism or language impairment (Table 4). The involvement of cell migration in the pathophysiology of autism is also implicated by the altered expression of CHL1, a novel neural cell adhesion molecule that is involved in neurite migration, outgrowth, connectivity, and survival. Deficiency in CHL1 has been shown to be associated with mental and motor impairments as well as with alterations in exploratory and emotional behavior in mice [49,50], characteristics that are often associated with autism. However, the effect of CHL1 overexpression, which we observe to be associated with the more severe phenotype, has yet to be determined. While the function of such neurologically relevant genes in lymphoblastoid cell lines is unknown, there is growing evidence that gene expression is under genetic control in LCL, as well as in other cells, with one study showing that 31% of the differential expression in LCL among unrelated individuals was heritable [21]. Thus, it is reasonable to postulate that hereditary factors that are responsible for the development of the autistic brain might also be manifested in the LCL as differentially expressed genes. If expression of these genes can be shown to be consistently altered in LCL in case-control studies on a larger sample of unrelated individuals, these cells, and by inference their precursor blood lymphocytes, can potentially be used as reporter cells for diagnosis of ASD. While we have focused on differentially expressed genes of neurological relevance in this study, it should be noted that the biomarkers for autism in LCL or lymphocytes need not have specific neurological functions (as we have also detected and confirmed differential expression of \"non-neuronal\" genes). Given that ASD is most probably a multigene disorder of varying etiology, a biomarker screen for ASD would likely include a panel of genes consistently associated with ASD phenotypes, in which diagnosis for the disorder will depend upon differential expression of a defined percentage of genes within the consensus set. The observed relationship between differential gene expression and severity of ASD between monozygotic twins suggests a role for epigenetic factors in ASD. A recent report on normal monozygotic twins indicates that epigenetic differences arise over time, increasing with age and with physical separation from each other after birth [45]. Indeed, epigenetic differences between monozygotic twins have been examined as possible causes for discordancy in schizophrenia as well as bipolar disorder [51-53]. Possible epigenetic mechanisms leading to differences in gene expression include differential methylation, differences in histone acetylation, and micro RNA, although there is no available evidence linking any of these to autism at this time. On the other hand, a mutation in a methyl-CpG binding protein, X-linked MeCP2, has been identified as being involved in 80% of all cases of Rett Syndrome [54], a developmental disorder which overlaps ASD, thus implicating the importance of methylation-dependent gene expression in at least this related disorder. Interestingly, though ubiquitously expressed [55], mutated MeCP2 induces a specific neuronal dysfunction, i.e., Rett Syndrome. One could therefore postulate that differential methylation or differential histone acetylation might give rise to differential expression in LCL from monozygotic twins with ASD and test for global changes in methylation or histone acetylation as done by Fraga et al [45], or for specific changes within a given candidate gene. Such epigenetic modifications in turn could be in response to environmental factors, stochastic processes, or immortalization procedures, which can persist even after the modifying stimulus (eg., inflammation) is removed [56]. If present, these differences could be further tested by evaluation of the methylation/acetylation patterns of DNA/histones in primary lymphocytes from monozygotic twins discordant in severity of autism or language impairment within autism which, while interesting, is beyond the scope of this study. Regardless of origin, the gene expression differences between monozygotic twins who present with differential severity along the autism spectrum or within a specific behavioral domain (eg., language) are potentially useful, not only as biomarkers for ASD, but also as indicators of genes or metabolic/signaling pathways that may contribute to the autistic phenotype. While our short list of candidate genes (Table 4) focuses on genes with known neurological functions that are similarly up- or down-regulated across twin sets affected by ASD, the set of differentially expressed, neurologically relevant genes that are unique to a given twin set may also be important to the determination of a specific autistic phenotype. Indeed, comparison of the pathways represented in the respective datasets of individual twin pairs reveals not only overlapping genes but also neurologically relevant genes that are differentially expressed in only one of the twin pairs (see Additional file 2). Inasmuch as our microarray analyses directly compared genetically matched individuals who differ only in degree of expression of autistic symptoms, it is likely that other genes, not identified in our study, also play a role in the pathophysiology of autism. This experimental design possibly explains why the candidate genes identified here are different from those reported by an earlier genomic study [20] which compared autopsy brain tissues from autistic and normal (nonautistic) controls (i.e., case-control studies). On the other hand, it is interesting that many of our novel genes map closely to genetically identified autism susceptibility genes/loci or QTL (Table 7 and Additional file 4). Aside from identifying novel candidate genes for autism, our study also illustrates the need for phenotype definition or subgrouping according to severity along a specific behavioral domain for biological studies of autism. Specifically, the results show that the differential gene expression profiles of concordantly autistic twins with differential severity of language impairment mirror some of the differences in gene expression which are observed in the twins with discordant diagnosis of autism, who also exhibit differential language deficits. Thus, for case-control studies in which individuals from the general population are compared against unrelated controls, subgrouping the autistic individuals by phenotype or stratifying them according to severity of symptoms may provide more clarity in analyzing biological data. Towards this goal, we have used several different clustering methods commonly used in DNA microarray analyses to divide over 1300 autistic individuals into endophenotypic subgroups (eg., language, nonverbal communication, and savant skills) based on item scores on the ADIR questionnaire (manuscript in preparation). Based on these methods, the twin siblings analyzed in this study, including those who were both diagnosed as autistic, each fall into different phenotypic clusters (unpublished data), with the exception of one set of twins who were discordant in the diagnosis of autism. These \"endophenotypic\" differences may therefore account for some of the differences in gene expression profiles between the twin siblings (i.e., co-twins) as well as among the different sets of twins. To test the ability of our clustering algorithm to restrict phenotypic and biological heterogeneity, we evaluated the short list of candidate genes in Table 4 by qPCR in an additional set of \"concordant\" autistic twins in which both co-twins exhibit the severely language-impaired phenotype. Results showed that, for this twin pair, there are no differences in expression of the candidate genes exceeding a log2ratio of ? 0.58 (unpublished data). Conclusion In summary, our study indicates that LCL from genetically identical autistic individuals who differ in severity of autistic symptoms and/or language impairment exhibit differential expression of genes relevant to neurological development, structure, and function. Many of these genes map to chromosomal regions previously identified by genetic analyses as harboring autism susceptibility genes or QTL, thus demonstrating the potential of combined genomic-genetic analyses to prioritize autism candidate genes for further genetic and functional analyses. In addition, a quantitative relationship is seen between severity of symptoms and expression of several autism candidate genes when twins with classic autism or with milder autistic traits are compared against their respective normal siblings. The finding that gene expression differences were also observed in cells from twins who were both diagnosed as autistic, but who differed in severity in language deficits, strongly suggests that autistic phenotype as well as severity of symptoms must be considered in gene expression studies on autistic individuals in order to reduce biological heterogeneity due to these factors. Collectively, these studies provide proof-of-principle that LCL (and possibly their precursor peripheral blood cells) may exhibit biomarkers relevant to autism, and further suggest their potential usefulness as reporter cells in developing a diagnostic screen for autism. While it is unlikely that microarray studies on LCL will identify the etiology(ies) of autism, this global approach to gene expression analyses is expected to highlight molecular or pathway defects related to the pathophysiology of the condition which, in turn, can be targeted for drug therapies. Moreover, as opposed to fixed autopsy tissues in which RNA may have degraded, a live cell model can also be used to examine the functional consequences of the genomic alteration(s) and the efficacy of different pharmacological agents in ameliorating the impaired function. Methods Cell lines and culture conditions Lymphoblastoid cell lines (LCL) derived from lymphocytes of 5 pairs of monozygotic twins with ASD were obtained from the Autism Genetic Resource Exchange (AGRE; Los Angeles, CA) and cultured in DMEM with 15% fetal bovine serum and 1% penicillin-streptomycin. Cell lines from normal siblings of 2 sets of twins were also obtained for comparison of gene expression profile with that of their respective autistic siblings. In addition, cell lines from a set of non-autistic monozygotic twins were also studied. All LCL were constructed and maintained by the Cell Repository of the Department of Genetics at Rutgers University under contract from AGRE. To minimize differences in gene expression due to culture and sample workup conditions, all samples that underwent direct comparison of gene expression profile were cultured and harvested at the same time (3 days after passaging) using the same medium preparation and RNA isolation reagents. Description of individual donors of cell lines Additional file 3 provides a case description of all of the subjects included in this study. In brief, all of the twin pairs and normal siblings, with the exception of 1 set of twins, were Caucasian males between the ages of 6 and 16 at the time that blood was drawn. The remaining set of twins (age 12) was of mixed race (black, Hispanic) but had the same mother as one of the Caucasian pairs of autistic twins. For 3 sets of twins (designated \"discordant\" twins), one twin of each pair met standard diagnostic criteria for autism based on the Autism Diagnostic Interview-Revised (ADIR) [13]. In each case, his co-twin, while not clinically autistic, exhibited autistic traits and could be considered to be on the autism spectrum. These co-twins were described either as \"Broad spectrum\" or \"Not quite autistic (NQA)\" by the AGRE repository according to criteria established on the basis of ADI-R scores [79]. Gene expression in cell lines from two of these twin pairs were also directly compared against the gene expression profile in cell lines from their respective \"normal\" sibling. Two of the 5 sets of twins with ASD (designated \"concordant\" twins) were examples in which both co-twins were diagnosed with autism, but who were discordant in severity of language impairment, as indicated by their respective percentile scores on the Peabody Picture Vocabulary Test (PPVT). The Autism Diagnostic Observation Schedule (ADOS) [14] was used to diagnose one of these sets of twins. None of the individuals whose cells were used presented with any co-morbid condition or mental retardation. All of the phenotypic data were obtained through the AGRE databases [79]. DNA microarray analyses RNA was isolated from the LCL using TRIzol Reagent (Invitrogen, CA) according to the manufacturer\\'s protocol. The RNA was further purified using Centricon YM-30 columns and tested for purity on RNA 6000 NanoChips using the Agilent 2100 Bioanalyzer. Labeled cDNA was obtained by incorporation of 5-(3-aminoallyl)-2\\'deoxyuridine-5\\'-triphosphate (Ambion, TX) during first-strand synthesis, followed by coupling to the ester of cyanine (Cy-3 or Cy-5) (Molecular Probes, OR) as appropriate according to Standard Operating Protocol (SOP) M004 on The Institute for Genomic Research (TIGR) website [80]. For two-color microarray analyses, the Cy5- and Cy3-labeled cDNA from each pair of twins (or twin and normal sib) were co-hybridized using TIGR SOP M005 to spotted microarrays (TIGR 40 K Human Set) containing 39,936 human cDNA probes which were obtained from Research Genetics. Dye reversal (flip-dye) replicates were included in all analyses, and at least 2 sets of replicates were carried out for each pair of monozygotic twins. Gene expression levels were derived from the scanned hybridized arrays using a combination of TIGR SpotFinder, MIDAS, and MeV analysis programs which are all part of the TM4 Microarray Analysis Software Package available at the above-cited website. These programs have all been previously described in detail [57]. Data analyses included normalization using local LOWESS followed by standard deviation regularization across individual subarrays, and flip-dye consistency checking for dye reversal replicates as implemented in MIDAS [27,58]. The SAM (Significance Analysis of Microarrays) module within MeV was used to determine statistical significance of differential gene expression and false discovery rate (FDR) which corrects for multiple testing. Quantitative RT-PCR Total RNA (same preparations used in microarray analyses) was reverse transcribed into cDNA using the iScript cDNA Synthesis Kit (Bio-Rad, Hercules, CA). Briefly, 2 ?g of RNA were added to a 40 ?l reaction mix containing reaction buffer, magnesium chloride, dNTPs, an optimized blend of random primers and oligo(dT), an RNase inhibitor, and a MMLV RNase H+ reverse transcriptase. The reaction was incubated at 25?C for 5 minutes followed by 42?C for 30 minutes and ending with 85?C for 5 minutes. The cDNA reactions were then diluted to a volume of 100 ?l with water. Real-time PCR was carried out either on a 7900 HT Sequence Detection System from Applied Biosystems using the iTaq SYBR Green Supermix with ROX (Bio-Rad, Hercules, CA) or an Applied Biosystems 7300 Real-Time PCR system using Invitrogen\\'s Superscript III Platinum SYBR Green Two-step qRT-PCR Kit with ROX. Gene-specific primers at a final concentration of 200 nM and 1 ?l of cDNA templates were combined into 20 ?l reaction mixes and run through 40 cycles of PCR. Quantitation was performed using the Universal 18S rRNA primers (Ambion, Austin, TX) with samples normalized to their 18S rRNA standard curves. Forward and reverse primers are described in Additional file 5. Network prediction analyses Lists of differentially expressed genes identified as \"significant\" by SAM analysis of microarray data across different sets of twins were analyzed using Ingenuity Pathways Analysis (Ingenuity Systems, Inc.), a web-delivered application that enables biologists to discover, visualize and explore therapeutically relevant networks significant to their specific experimental results (e.g., gene expression array data sets). Specifically, a data set containing gene identifiers (in this case, GenBank Accessions) and their corresponding expression values were uploaded as an Excel spreadsheet using the template provided in the application. Each gene identifier was mapped to its corresponding gene object in the Ingenuity Pathways Knowledge Base. The gene list was filtered prior to analysis with Ingenuity by using a log2(ratio) cutoff of 0.58. These genes were then used as the starting point for generating biological networks. The networks are displayed graphically as nodes (genes/gene products) and edges (the biological relationships between the nodes). Human, mouse, and rat orthologs of a gene are stored as separate objects in the knowledge base, but are represented as a single node in the network. The intensity of the node color indicates the degree of up- (red) or down- (green) regulation. When networks from different samples are merged (as in Additional file 2), yellow node color denotes overlapping differentially expressed genes from two or more samples. Nodes are displayed using various shapes that represent the functional class of the gene product, as described on Ingenuity\\'s website [81]. Global functional analyses Biological functions were assigned to the overall analysis (across data from 5 monozygotic twin pairs) by using the findings that have been extracted from the scientific literature and stored in the Ingenuity Pathways Knowledge Base [81]. The biological functions assigned to the analysis are ranked according to the significance of that biological function to the analysis. A Fisher\\'s exact test is used to calculate a p-value determining the probability that the biological function assigned to the analysis is explained by chance alone. Again, a differential expression cutoff of log2(ratio) ? ? 0.58 was used. In silico mapping of differentially expressed genes The physical locations of each of the significant differentially expressed genes with log2(ratio) ? ? 0.58 were obtained using TIGR\\'s Resourcerer Gene Annotation Software [80]. These locations were then compared manually to those of autism candidate genes (ACG) or quantitative trait loci (QTL) identified on the basis of published genetic linkage and association studies [59-78]. For comparison, using Human Genome Build 35 and defining genes as the collection annotated by Ensembl (a total of 24974), we have found that the set of non-redundant genes mapping to the large, often overlapping autism susceptibility or QTL regions is 3838, or about 15.4% of the total. Submission of microarray data to GEO repository The GEO accession number for all of the microarray data is GSE4187. \\n',\n",
       " \"16703115: Autism is diagnosed on the basis of abnormalities or impaired development in three areas: social interaction, communication, and a severely restricted repertoire of activity and interests, present before the age of three (APA, 1994). In the domain of communication, one criterion that is used to document the presence of autistic disorder is the delay or absence of spoken language. Indeed, this feature is important in differentiating between autism and another related developmental disorder, Asperger?s syndrome, which is only diagnosed when there is no clinical delay in language (APA, 1994; Szatmari, 1998; Volkmar & Klin, 1998). Problems in language are central to our understanding of autism: they are often the first presenting symptom (Kurita, 1985; Lord & Paul, 1997); they vary widely in the population; and are the most important feature for predicting the prognosis and developmental course of children with this disorder (Rutter, 1970; Ventner, Lord, & Schopler, 1992). Despite the significance of language impairment in the diagnosis of autism, in recent years few studies have addressed this area of functioning. Instead, research on the nature of the language and communication deficits in autism has focused almost exclusively on those aspects that are universal and specific to this disorder (Tager-Flusberg, 1996). Beginning with Baltaxe (1977), studies have explored the pragmatic deficits that are apparent in conversations and other discourse contexts, identifying those features that distinguish communication problems in autism from those found in other clinical groups. This body of research has led to the consensus that children with autism are seriously limited in their communicative abilities (see Lord & Paul, 1997; Tager-Flusberg, 1999; Wilkinson, 1998; for recent reviews). These limitations are evident in their restricted range of speech acts (e.g., Loveland, Landry, Hughes, Hall, & McEvoy, 1988; Wetherby, 1986), and impaired conversational and narrative skills (Loveland & Tunali, 1993; Tager-Flusberg & Sullivan, 1995). At a theoretical level, these communicative impairments have been related to deficits in understanding other minds and to other features of the disorder, particularly in social functioning (Capps, Kehres, & Sigman, 1998;Tager-Flusberg, 1993, 1996; 1999). In contrast to the universal nature of these communicative deficits, language functioning in autism is much more variable. At one end, there are children with autism whose vocabulary, grammatical knowledge, and articulation skills are within the normal range of functioning, while at the other end a significant proportion of the population remains essentially non-verbal (Lord & Paul, 1997). Two decades ago psycholinguistic studies did investigate these aspects of language by comparing verbal children with autism to other children with general developmental delays or other syndromes such as Down syndrome (e.g., Bartolucci, Pierce, & Streiner, 1980; Bartolucci, Pierce, Streiner, & Eppel, 1976; Bartolucci & Pierce, 1977; Boucher, 1976, 1988; Pierce & Bartolucci, 1977; Tager-Flusberg, 1981, 1985; Tager-Flusberg et al., 1990). The conclusions drawn from these studies, which relied on natural language samples or experimental tasks, were that autism does not involve specific deficits in phonology, syntax or lexical knowledge, because the children with autism were comparable in their performance to the control groups matched on language and general cognitive ability. However, these studies included small, perhaps unrepresentative, samples of children with autism. Furthermore, they did not provide a systematic evaluation of the profile of abilities or deficits across the different domains of language, leaving much unknown about the language impairments that may be present in the majority of children with autism. Only one set of studies during this period did provide a broader assessment of language abilities in a group of children with autism (Bartak, Rutter, & Cox, 1975, 1977). The autistic children in these studies were compared to a group of children with severe receptive language disorder matched on non-verbal IQ. All the children were selected on the basis of having a serious problem in language comprehension. Among the total sample of children about 10% were classified as ?mixed,? in that they showed atypical disorder with some autistic features. Language abilities were measured using the Reynell Scales, the Peabody Picture Vocabulary Test (PPVT - a measure of receptive vocabulary), and a natural language sample. Although the autistic children had significantly lower PPVT scores, and were lower on the Reynell comprehension scale, there were no differences between the groups in measures of production such as mean utterance length or grammatical complexity. This pattern suggests that comprehension may be more seriously impaired in autism than production. However, because the autistic sample for these studies was pre-selected for the presence of difficulties in language comprehension, it is not clear whether this pattern holds across the population. Furthermore, although there were some similarities in the language profiles of the autistic and language disordered groups, numerous features did distinguish between the populations (e.g., presence of echolalia and pronoun reversals in the autistic group). A follow-up study, conducted when the children were in middle childhood indicated that the autistic group made less progress in language acquisition than did the language disordered group, but now this latter group had more signs of social deficit, making them in some ways more similar to the children with autism (Cantwell, Baker, Rutter & Mawhood, 1989). There has been one recent study that investigated the profile of language abilities in a group of 120 children all of whom had behaviors that met DSM-IV criteria for autism. However, only about half had received a formal diagnosis of autism (Jarrold, Boucher, & Russell, 1997), and 10 received a diagnosis of Asperger?s syndrome. The remaining children received formal diagnoses of severe communication and language disorder, semantic-pragmatic disorder, or the presence of autistic features. The children, ranging in age from 5 to 19, had participated in other experimental studies and had been administered some standardized measures of vocabulary and grammar as part of the test protocol. The measures, which varied somewhat across the studies and children, included vocabulary comprehension (the British Picture Vocabulary Test; the Renfrew Word Finding Vocabulary Scale) and production (Action Picture Test Information) and grammatical comprehension (Test for Reception of Grammar) and production (Action Picture Test of Grammar). The main findings were that the children?s performance was equivalent across all the measures. Unlike other reports in the literature (e.g., Bartak et al., 1975; Lord & Paul, 1997; Tsai & Beisler, 1984) this study found that receptive abilities were similar to expressive abilities, and vocabulary was no different from grammatical knowledge. The authors also concluded that there was no significant heterogeneity in the language profiles of the children in their study; however they acknowledge that this was only tested in an indirect way. Although this is an important study because it is the first to investigate language profiles in a large sample of children with autism, it is limited in a number of ways. First, the diagnoses of most of the children in the study by Jarrold et al. (1997) were not well documented, and the criteria used for autism and Asperger?s syndrome were not clearly defined, even for those children receiving a clinical diagnosis. Second, the standardized language data were collected under different testing conditions, and did not include the same tests across all the participants. Third, the main analysis of the data involved converting raw scores to mental age equivalents and conducting all the test pair-wise comparisons that were possible. There are several methodological problems with this approach. The comparisons were made across tests that were normed across different samples of children. Mervis and Robinson (1999) have recently pointed out the problems in comparing age equivalents in this way, because, they argue, one cannot assume that the expected rates of growth on each test will be the same. Instead, a more appropriate approach to profile analysis should be done on the basis of standard scores, where possible using tests that have been normed on the same sample of children. The goal of our study was to re-examine the language profiles of a large well-defined sample of children with autism. We included a broader range of language measures, including measures of phonological representation and production, lexical knowledge, semantics and grammar. We were especially interested in revisiting the provocative findings from the earlier studies by Bartak et al. (1975, 1977) which suggested some similarity between autism and developmental language disorder (nowadays referred to as specific language impairment - SLI). SLI is a developmental disorder that is diagnosed on the basis of language levels that fall significantly below age expectations, but in the absence of other conditions (e.g., hearing loss, mental retardation or evidence of organic pathology). While there is considerable heterogeneity in the pattern of language skills found in children with SLI (e.g., Tomblin & Zhang, 1999), it is generally defined in children whose nonverbal IQ scores are within the normal range, but whose performance on language tests (on measures of vocabulary and/or grammatical ability) fall more than one standard deviation below the mean. We included in our test battery standardized measures that are used in defining SLI, including an omnibus test of receptive and expressive language, the Clinical Evaluation of Language Fundamentals, as well as measures of vocabulary (Tager-Flusberg & Cooper, 1999; Tomblin & Zhang, 1999). We also included a measure that is considered highly sensitive to the diagnosis of SLI ? a non-word repetition test (cf. Bishop, North, & Donlan, 1996; Dollaghan & Campbell, 1998; Gathercole & Baddeley, 1990). Our study was designed to address the following questions. First, what is the relationship between expressive and receptive abilities among children with autism? Second, what is the profile of language ability across measures of phonology, vocabulary and higher order language skills (including semantics and syntax)? Third, how can we best characterize the heterogeneity of language abilities among children with autism? And finally, do children with autism who have impaired language skills resemble the profile of language disability that is found among children with SLI? METHODS Participants The total sample of participants included 89 children with autism who were part of a multi-project investigation. There were no a priori selection criteria set, however one aim was to recruit at least 70 children for a study that required some language skills, thus biasing our sample toward the inclusion of more verbal children. The children were between the ages of 4 and 14, and included 80 boys and 9 girls. All the children were administered the Autism Diagnostic Interview ? Revised version (Lord, Rutter, & LeCouteur, 1994) and the Autism Diagnostic Observation Schedule ? Generic (DiLavore, Lord & Rutter, 1995) to document the diagnosis of autism. In addition an expert clinician observed all the children to confirm that they met DSM-IV criteria for autistic disorder. The children?s IQ scores were assessed using the Differential Abilities Scales (either the Preschool or School Age version, depending on the child?s age and ability level), by a clinical neuropsychologist or clinical psychology intern. Table 1 presents the main characteristics of all the participants in this study. Procedures The children were administered a standard battery of language tests testing their phonological, lexical and higher order semantic and grammatical language abilities. Because of the wide variability in the language skills of the children, in many cases not all the tests were given. Language Tests Goldman-Fristoe Test of Articulation (Goldman & Fristoe, 1986). The Goldman-Fristoe sounds-in-words subtest measures the accuracy of productive phonology for the consonant sounds of English. The test presents the child with a series of pictures, such that across the set of pictures, all the consonant sounds of English are tested in the word initial, medial and final position. Norms are provided for children between the ages of 2;0 and 16;0 in percentile ranks. Peabody Picture Vocabulary Test - III (PPVT) (Dunn & Dunn, 1997). The PPVT-III tests lexical comprehension by presenting an auditory word and asking the participant to pick the correct picture from an array of four pictures. Norms are available for the children over the age of 2;6, through adulthood. Expressive Vocabulary Test (EVT) (Williams, 1997). The EVT measures expressive vocabulary by asking the child to name pictures. As the test advances to more difficult items, participants are asked to produce synonyms for words represented in pictures. The norms for this test were derived from the same representative sample as the PPVT-III, and are available from 2;6 through adulthood. Clinical Evaluation of Language Fundamentals (CELF): Preschool or III (Wiig, Secord, & Semel, 1992). The CELF is designed to measure morphology, syntax, semantics and working memory for language and is comprised of six subtests that are used to calculate measures of receptive and expressive language skills. There are three sub-tests in each of the domains, receptive and expressive. The Preschool version is suitable for children between the ages of 3;0 and 6;11, while the CELF-III covers the age range of 6;0 to 21;11. Norms are provided for these ages for the total CELF scores and for receptive and expressive domain scores. Repetition of Nonsense Words ? We used the sub-test from the NEPSY, which is a comprehensive developmental neuropsychological assessment battery (Korkman, Kirk & Kemp, 1998). This test assesses the ability to analyze and reproduce phonological knowledge by asking the child to repeat nonsense words that are presented on an audiotape. This test is normed for children aged 5;0 to 12;11. In most cases the tests were given in the following order: PPVT, EVT, Goldman- Fristoe, CELF, and Repetition of Nonsense Words. Testing was typically conducted on two different days, providing the children with numerous breaks. All the language tests were administered and scored by a certified speech-language pathologist. The test data were all checked by a second coder, under the supervision of a speech-language pathologist. RESULTS For each test, the child?s standard score was computed. For the PPVT, EVT and CELF, the procedures described in the test manuals were followed to obtain standard scores, which are based on a mean of 100 and a standard deviation of 15. The Goldman-Fristoe percentile ranks and the Repetition of Nonsense Words standard scores were converted to the standard score scale of the other tests in order to be able to compare means across the measures. We should note however, that the tests are not all equivalent in that they have different floor and ceiling scores. Children Completing Language Tests Table 2 presents the numbers of children who were able to complete each of the language tests included in the battery above the basal level, and provides the means and standard deviations for each test. Across the tests more than 90% of the total sample of children were able to complete the PPVT, EVT, and Goldman-Fristoe. In contrast only about half the children were able to complete the CELF (49%) and the Repetition of Nonsense Words (45%). The latter test was not attempted with children below the age of 5, since norms are not available for younger children. We compared the children who were able to complete the CELF to those who were not. While there were no significant differences in age (t[87]=.91), the children who did complete the CELF had significantly higher IQ scores (M = 85, s.d. = 17.3) than the children who did not (M = 50, s.d. = 16.8), t (82) = 9.4, p<.0001. We also found that the scores of the PPVT and EVT were significantly higher for the children completing the CELF compared to those not completing the CELF. On the PPVT the means for the two groups were: M = 85.6, s.d. = 17.8, and M = 52.8, s.d. = 12.9, t (80) = 9.44, p<.0001; and on the EVT the means were : M = 84.9, s.d. = 17.5, and M = 50.1, s.d. = 14.1, t (79) = 9.7, p<.0001. Finally we checked whether there were differences in the numbers of children who completed each test who were younger (below age 7) or older (over age 7). These data are summarized in Table 3. The only test that fewer young children completed was the Repetition of Nonsense Words. As noted earlier, the norms for this test only begin at age 5, so 14 children in our sample who were 4 years old, were not given the test. For all the other language measures, there were no differences in the numbers of younger and older children completing the tests. Receptive vs Expressive Abilities The first set of analyses investigated whether there were significant differences between receptive and expressive abilities, using the lexical measures and the CELF. The standard scores from the PPVT (M = 71.13, s.d. = 22.43) and EVT (M = 69.35, s.d. = 23.55) were compared for the sample of 80 children who completed both tests using a 2-tailed t-test: t (79)= 1.342, p=.18. The vast majority of children, 64, representing 80% of the sample, did not show more than one standard deviation difference between PPVT and EVT scores. Of the 20% who did have a discrepancy of more than one standard deviation, 13 (16%) had higher PPVT scores while 3 (4%) had higher EVT scores. Overall, these results do not suggest that there are significant differences between receptive and expressive abilities in lexical knowledge among children with autism. For the smaller sample of 44 children able to complete the CELF (either Preschool or III), the standard scores on the receptive subtests (M = 70.89, s.d. = 19.73) and the expressive subtests (M = 74.86, s.d. = 17.63) were also compared using a 2-tailed t-test. This analysis revealed a significant difference between the receptive and expressive standard scores t(43)=2.445, p=.019, indicating that among this group of children, expressive abilities for higher order language use were higher than receptive abilities. This pattern of higher expressive than receptive ability on the CELF held for over half the sample (25 children; 57%). Table 4 presents the scores (now with a mean of 10 and standard deviation of 3) on each of the subtests of the CELF Preschool and III. On the preschool version, the Formulating labels (a word naming task) expressive subtest stands out as the single subtest that is higher than the others, and this was confirmed in a post-hoc analysis. On the CELF III, word structure (tapping grammatical morphology) and sentence assembly (tapping word order knowledge in children who can read) were the expressive tests that were higher than the other subtests. Nevertheless, it is important to note that there was considerable variability among the children in their performance across the subtests, and there was no clear profile that characterized the children with autism in this study. Subgroups of Language Abilities in Autism The scores on each of the language tests showed wide variability among the sample of children in this study, as shown in Table 2. To explore this variability further, we created three subgroups of children, based on their PPVT scores. The 82 children who completed the PPVT were divided into those who scored within the normal range (standard scores of 85 and above, n=22), those who were between 1 and 2 standard deviations below the mean (standard scores between 70 and 84, n=10), and those whose scores were more than 2 standard deviations below the mean (standard scores below 70, n=50). We refer these groups as the normal language group, the borderline group, and the impaired group, respectively. We examined for each of these groups the pattern of scores on the EVT, the Goldman-Fristoe and full scale IQ. We limited this profile analysis to these tests since they are the ones available on the largest number of children in the sample. Figure 1 shows the profile for each of the language groups. This profile showed that on average, children's vocabulary and IQ scores varied together and were lowest in the impaired group (EVT M=55, s.d. = 16.82; IQ M =58, s.d. 18.76), closer to normal in the borderline group (EVT M =85, s.d.=13.86; IQ M =79, s.d.= 14.6) and highest in the normal group (EVT M =93, s.d.=16.52; IQ M =93, s.d. 17.89). The correlations between IQ and both vocabulary measures were statistically significant (for PPVT, r(77)= 0.83, p<.001; for EVT, r(77)= 0.77, p<.001), confirming the relationship between vocabulary and full scale IQ across the sample in this study. At the same time, there were 14 children in the impaired language group whose full-scale IQ scores were above 70; and 9 children who were in the normal language group whose full scale IQ scores were in the borderline to mentally retarded range. Within the normal language group, 12 children were under 7 (26%), and 10 were 7 or older (28%). Similarly in the impaired language group, 26 children were under 7 (57%), 24 were 7 or older (67%). The profile shown in Figure 1 also illustrates that scores on the Goldman- Fristoe were in the normal range for all three groups (impaired group, M=85.3, s.d.=13.86; borderline group, M=103.55, s.d.=18.76; and normal language group M=97.23, s.d.=17.2). This pattern indicates that expressive phonology at the one word level is spared in autism overall. Nevertheless, a one-way ANOVA on the Goldman-Fristoe standard scores with language group as the between subjects variable was significant (F (2, 74) = 8.11, p<.001. Post-hoc Tukey HSD analyses revealed that the impaired group had significantly lower Goldman-Fristoe scores than either the borderline or normal language groups. The number of children for whom Goldman-Fristoe scores were greater than EVT scores was 60/79, (76% of the children). Thus, across the sample of children with autism in this study, articulation skills tend to be higher than vocabulary knowledge. The Goldman-Fristoe standard scores were only moderately correlated with age (r(77)=.22) and IQ (r(74)=.38). Language Profile using the CELF In the second profile analysis we explored children?s performance across all the language measures used in this study, including all those children who were able to complete the CELF (N=44). Table 5 presents the means and standard deviations of the standard scores on all the tests administered for this group of children. The IQ data indicate that this group is generally within the normal range for nonverbal IQ. Not surprisingly, verbal IQ scores are lower than nonverbal; a pattern that is typical among children with autism. The data in this table show that across all the language measures, with the exception of the Goldman-Fristoe, scores are one standard deviation or more below the mean. Performance on the CELF is lower than on the measures of lexical knowledge (between and 10 and 15 points), but again, there is significant variability on the language measures among this group of high functioning children with autism. The total language summary score on the CELF was used to divide this sample of children into 3 groups following the same approach used in the previous analysis. Thus, children were designated as normal language if their standard scores were 85 or higher (N=10), borderline, if their standard scores were between 70 and 84 (N=13), or impaired, if their standard scores were below 70, or more than 2 standard deviations below the mean (N=21). The profiles for these groups is shown in Figure 2. For these profiles we created a combined vocabulary score (averaging the children?s scores on the PPVT and EVT), and also included the Goldman-Fristoe, and the Repetition of Nonsense Words. As in the previous analysis, we compared the ages of the children in each language subgroup. The average ages of the children in the groups were 6;11 for the normal language group, 7;11 for the borderline group, and 6;11 for the impaired group. In the normal language subgroup, 6 children were younger than 7 (60% of this subgroup) and 4 (40%) were 7 or older; in the impaired language subgroup, 15 (71%) were younger than 7 and 6 (29%) were 7 or older. We again found that the Goldman-Fristoe standard scores were in the normal range for all three groups (impaired, M=98.98, s.d.=20.29; borderline, M =92.58, s.d.=9.63; normal language, M =101.56, s.d.=19.74). A one-way ANOVA revealed no significant differences among the language groups on the Goldman-Fristoe (F (2, 39)= 0.82). Repetition of nonsense words fell lower than 1 standard deviation below the mean in the impaired (M =82.92, s.d.=12.15) and borderline groups (M =83, s.d.=10.85), but not in the normal language group (M =91.11, s.d.=9.28); the differences between the subgroups on the repetition of nonsense words was not significant (F (2, 28) = 1.77). Vocabulary varied as would be expected, with the impaired group falling more than one standard deviation below the mean (M =75.43, s.d.=11.8), the borderline group were about one standard deviation below the mean, (M =86.65, s.d.=10.24) and normal group showed normal language group fell in the average range (M =103.95, s.d.=14.16). These differences were highly significant (F (2, 41) = 19.45, p< .0001). Thus, even among the children able to complete a more comprehensive language battery, most of whom had nonverbal IQ scores within the normal range (31/44 had nonverbal IQs above 80), a significant proportion of children with autism were impaired in their language skills. The pattern of impairment found for this higher functioning group mirrored what was found across the full range of IQ: articulation skills remain relatively spared, but impairments are found in vocabulary, higher order use of semantic and syntactic knowledge, and in the ability to repeat nonsense words. At the same time, it is important to note that across the full sample of children in this study, there were 5 children, 2 of whom were aged below 7 years, whose language skills, across all the measures, were well within the normal range. DISCUSSION The goals of this study were to explore the range of language abilities among a large group of children with autism, varying in age and IQ level. Unlike previous research in this area, this study included a broad range of standardized measures of language, and profiles of language skills were derived from a comparison of standard scores across a range of phonological, lexical, and higher order semantic and syntactic measures. One of the main findings from this study was that there is a very wide range of language abilities found among children with autism, across the IQ spectrum, confirming what has already been noted in the clinical literature (Lord & Paul, 1997). Indeed, it is striking that only about half the children in this study were able to complete all the language measures that were included; a small number were not even able to reach a basal on the simplest measure of word naming or comprehension. We return to an analysis of this heterogeneity later in the discussion. One question that we set out to address was whether expressive language abilities are relatively more spared among children with autism than receptive abilities, as has been reported in some other studies (e.g., Bartak et al., 1975; Tsai & Beisler, 1984). We were careful to make comparisons of standard scores on tests that had been normed on the same samples of children, to eliminate possible sources of differences due to test differences rather than domain differences in the children. Our main findings were that children with autism show no receptive-expressive differences in vocabulary knowledge, thus confirming the more recent findings of Jarrold et al. (1997). We did find that expressive abilities were higher on the CELF, but this was mostly due to the children?s better performance on the Formulating Labels subtest, which is a single word naming measure. Most other expressive and receptive subtests on the CELF tap higher order knowledge of semantics and syntactic knowledge that entail integration across language domains and have a significant working memory component. On these subtests there were no differences between receptive and expressive levels of performance, suggesting that in general, verbal children with autism do not show a major discrepancy between their receptive and expressive language skills. Although we only compared receptive and expressive abilities within tests that were normed on the same sample, nevertheless it is not clear whether this kind of comparison is especially useful because children performance on structured tests reflect not only linguistic knowledge, but also a variety of other test-dependent variables. These include attentional factors, understanding the pragmatic demands of the task, and understanding the instructions. These kinds of variables are not equivalent across different tasks, so differences in performance on receptive and expressive tests may reflect test-related factors, rather than linguistic processing. Across the full range of children in this study, we found a significant relationship between IQ and language abilities, especially as measured by vocabulary tests. Not surprisingly, only the children with higher IQ scores were able to complete the full range of language tests that were administered, and in general, the children with higher IQ scores had better language abilities overall. Thus, IQ itself accounts for some of the heterogeneity found in language among children with autism. At the same time it is important to note that among lower IQ children, some had language skills within the normal range, and among high IQ children, many had language skills in the impaired range. Thus, language skills can be independent of IQ in autism, and may in fact be more important in understanding both the current functioning and long term prognosis for children with this disorder (Ventner et al., 1992). There were some children, about 10% of the sample, who were unable to reach a basal on even the most basic language test (the vocabulary and articulation tests). Although it is not clear in each case why the children could not complete the test, in general it seemed that they had great difficulty understanding the task demands. These children tended to repeat the examiner's utterance, or perseverate across stimulus items. Some children would not attend to the examiner or the stimulus materials, and some exhibited severe behavior problems that interfered with the testing. These difficulties highlight some of the limitations of using standardized tests to assess language in children with autism (Tager-Flusberg, 2000). In order to understand the profiles of language skills across the range of children in this study, we looked at subgroups that were defined on the basis of those children whose performance on one of the major language measures (either the PPVT or CELF), was within the normal range, and those who fell more than one or two standard deviations below the mean. These divisions parallel the method taken in the SLI literature in defining children with this disorder. In general this approach indicated that there was a group of children representing about one quarter of the whole group participating in this study (22 children) with essentially normal language skills (see Figure 1). Thus deficits in language skills are not universal in autism, although they are found in the majority of children with this disorder. This contrasts with the universal impairments that are found in communication skills in this population, and which are among the defining features of autism (Tager-Flusberg, 1996). Because our participants were not selected on the basis of an unbiased population-based sample, we cannot provide exact estimates for the proportion of children with autism who have either normal language, as defined in this study, or have significant linguistic impairments. It is likely that we are underestimating the proportion of impaired children, given that our sample was biased in favor of children with some language skills. Interestingly, we did not find significant differences between the younger (defined as below age 7) and older children in this study in the numbers of children unable to complete the tests (see Table 3). Thus, the kinds of test-related problems that interfered with obtaining a basal score on the standardized tests did not change as the children got older. On the other hand, this may reflect a bias in the sample, in that our recruitment for children at the younger ages may have stressed the need for some spontaneous language. For the subgroup analysis that was conducted on the children who did complete the CELF, the impaired group included relatively more younger than older children: 54% compared to 38%. Table 4 also shows that the scores on the Preschool CELF (given to the younger children) were lower than the CELF III. It is not clear whether these differences reflect genuine differences in language abilities of younger children with autism, or whether they reflect test differences. There were differences in the numbers of children who completed the CELF at the different age levels, 56% of the younger children, compared to 41% of the older children. So it is possible that the subtests on Preschool version of the test are simpler to understand than the subtests on the CELF III, thus allowing more children to complete them. The problems with interpreting the differences between the different age groups reflects some of the limitations inherent in using standardized tests, especially with autistic children who are likely to be more prone to test-taking variables than other populations, on whom these tests were normed. Among the children whose language was defined as borderline (more than one standard deviation below the mean) or impaired (more than two standard deviations), systematic profiles were found across language domains. For the children who were able to complete the language battery, we found that vocabulary skills were higher than knowledge of syntax and semantics, as measured by the CELF (see Table 5). Although one must be cautious in comparing across these different tests, this finding does not replicate the results reported by Jarrold et al. (1997) who argued that vocabulary and grammatical skills (also measured on different tests, with different norms) were equivalent in children with autism. The differences between our studies may be related to a number of factors including the sample of children participating, the language tests used, and the methods for investigating language profiles. Because we created our profiles on the basis of standard scores, rather than age equivalents, our approach avoids the problems of comparing across non-equal growth rates in the language tests (cf. Mervis & Robinson, 1999). The profiles presented in Figure 2 do suggest that among children with normal language skills, vocabulary is equivalent to semantic and syntactic knowledge; it may be that Jarrold et al. (1997) included more of these children in their study. However, among children with autism with lower language abilities (either borderline or impaired), vocabulary tends to be relatively less impaired compared to higher order linguistic knowledge. Our profile analysis confirmed earlier studies suggesting that articulation skills, as measured here by the Goldman-Fristoe, are almost always spared in this population (e.g., Boucher 1976), despite severe deficits in vocabulary, semantic, and grammatical knowledge. In contrast, however, we found that in children with low vocabulary and CELF scores, children with autism also were impaired on a nonsense word repetition test. This finding is somewhat surprising given what has been observed regarding the echolalic abilities in children with autism. However, unlike tests of articulation skill, and echolalic language, the Repetition of nonsense words test does not depend on rote memory skills. Instead, it requires the child to analyze the acoustic and phonetic properties of the speech stream to derive the phonological representation, and hold the representation of the segments in working memory in order to reproduce them in a motor program. Our findings suggest that children with autism who have impaired language as measures on tests of vocabulary and higher order syntax and semantics, also have difficulty with this kind of phonological test. The profile of language performance found among the children with autism who have borderline or impaired language abilities mirrors what has been reported in the literature on SLI. Thus, studies of children with SLI, who are defined on the basis of the PPVT and/or an omnibus test such as the CELF suggest that this language disorder is characterized by poorer performance on tests of grammatical ability than vocabulary (e.g., Rice, 1999; Tomblin & Zhang, 1999). Furthermore, children with SLI, even when they have good articulation skills, show systematic difficulties on tests of non-word repetition (Bishop, North, & Donlan, 1996; Dollaghan & Campbell, 1998; Gathercole & Baddeley, 1990). This pattern of deficits has been viewed as defining the phenotype of SLI (Tager-Flusberg & Cooper, 1999). What is the significance of this SLI profile of language impairment that characterizes a subgroup of children with autism? On the one hand, the parallels in language deficits may simply be superficial ? that is, the language deficits in autism are fundamentally different from those in SLI, despite the similarity in profiles we have found. On the other hand, it may be that these similarities suggest something deeper that may be in common in SLI and a subgroup of autism. We would like to claim that our profile analysis may be taken as evidence for theoretically significant overlap between these disorders. Although, by definition, SLI may not be diagnosed in children who meet criteria for autism, in fact, our data suggest that some children with autism may have a parallel or overlapping SLI disorder, as indicated by their pattern of impaired performance on diagnostic language measures. Support for this argument may be derived not simply for the language data we have presented here, but also from evidence in the literature on the genetics of autism and SLI. Autism and SLI are complex genetic disorders that have very high heritability estimates, based on family and twin studies (for recent reviews, see Santangelo & Folstein, 1999; Tomblin & Zhang, 1999). Both disorders are thought to be caused by the interaction of several genes, and family studies have found that relatives of identified probands often have only parts of the syndrome (referred to as the ?broader phenotype?). Interestingly, among family members of probands with autism, there are significantly elevated rates of documented histories of language delay and language-based learning deficits (Bolton et al., 1994; Fombonne, Bolton, Prior, Jordan, & Rutter, 1997; Piven & Palmer 1997), and co-twins discordant for autism often have language deficits resembling what has been found in SLI children (Folstein & Rutter, 1977). Among family members of SLI probands, there are elevated rates of language disorder and reading difficulties (Tomblin, Freese, & Records, 1992). More recently, Hafeman & Tomblin (1999) found a significantly elevated risk of autism among siblings of SLI probands. Thus, these family studies of autism and SLI suggest that there is significant overlap between these disorders. Although no specific gene has yet been identified as the cause of either autism or SLI, genetic studies of both disorders have shown linkage to the same region on the long arm of chromosome 7 (Fisher, Vargha-Khadem, Watkins, Monaco, & Pembrey, 1998; The International Molecular Genetic Study of Autism, 1998). The cumulative evidence from both family and genetic linkage studies suggests that autism and SLI may involve one or more shared genes, arguing strongly for biological overlap between these disorders. The findings presented in this paper, suggesting parallels between the language phenotype of SLI and the profile of language impairment found in a subgroup of children with autism, are complemented by the data from genetic studies. This hypothesis, of overlapping or shared genetics and phenotypic characteristics among families with SLI and autism, clearly requires further research. Genetic studies are needed to pinpoint the specific gene or genes on 7q associated with these disorders; and epidemiological studies are needed to identify what proportion of the autistic population in fact shares the SLI language profile. Further research is needed to replicate and extend the findings reported here on the SLI profile found among a subgroup of children with autism. The next steps should include a wider range of language measures than those reported in this paper. In particular, we have highlighted numerous limitations in the use of standardized tests for assessing language profiles in children with autism, including the difficulties encountered by some children in understanding the demands of the tests, and difficulties comparing performance across different tests. Standardized tests also do not allow for fine-grained analyses of specific items that may cause problems for children with autism, or for separating out task demands and processing difficulty from deficits in linguistic knowledge. Future research should complement data collected from standardized tests with analyses of natural language samples, and experimental probes (Tager-Flusberg, 2000) in investigations of language impairment among children with autism. Our findings suggest that some children with autism also show the pattern of language deficits that defines SLI, which can be independent of IQ. What are the implications of these findings for considering the specificity of SLI? Is it possible that other children with neurodevelopmental disorders also show the same language profile as our language-impaired children with autism, and children with SLI? If so, this suggests that SLI may not be so specific, but can be found in different groups of language disordered individuals. To address these issues future studies will need to investigate the neurocognitive mechanisms underlying language processing in children with SLI, autism and perhaps other disorders, in much greater detail than we have done thus far. Such studies will help to advance our understanding of language disorder across a range of children, at both the clinical and theoretical level. \\n\"]"
      ]
     },
     "execution_count": 8,
     "metadata": {},
     "output_type": "execute_result"
    }
   ],
   "source": [
    "domainName = 'Autism'\n",
    "fileName = 'input/214Texts.txt'\n",
    "lines = LBD_01_data_acquisition.load_data_from_file(fileName)\n",
    "# display the first 7 lines of the document\n",
    "lines[:7]"
   ]
  },
  {
   "cell_type": "code",
   "execution_count": 7,
   "metadata": {},
   "outputs": [
    {
     "ename": "FileNotFoundError",
     "evalue": "The file 'input/demo_2.txt' does not exist.",
     "output_type": "error",
     "traceback": [
      "\u001b[1;31m---------------------------------------------------------------------------\u001b[0m",
      "\u001b[1;31mFileNotFoundError\u001b[0m                         Traceback (most recent call last)",
      "\u001b[1;32m~\\AppData\\Local\\Temp\\ipykernel_13792\\2089861855.py\u001b[0m in \u001b[0;36m<module>\u001b[1;34m\u001b[0m\n\u001b[0;32m      2\u001b[0m \u001b[0mdomainName\u001b[0m \u001b[1;33m=\u001b[0m \u001b[1;34m'Demo'\u001b[0m\u001b[1;33m\u001b[0m\u001b[1;33m\u001b[0m\u001b[0m\n\u001b[0;32m      3\u001b[0m \u001b[0mfileName\u001b[0m \u001b[1;33m=\u001b[0m \u001b[1;34m'input/demo_2.txt'\u001b[0m\u001b[1;33m\u001b[0m\u001b[1;33m\u001b[0m\u001b[0m\n\u001b[1;32m----> 4\u001b[1;33m \u001b[0mlines\u001b[0m \u001b[1;33m=\u001b[0m \u001b[0mLBD_01_data_acquisition\u001b[0m\u001b[1;33m.\u001b[0m\u001b[0mload_data_from_file\u001b[0m\u001b[1;33m(\u001b[0m\u001b[0mfileName\u001b[0m\u001b[1;33m)\u001b[0m\u001b[1;33m\u001b[0m\u001b[1;33m\u001b[0m\u001b[0m\n\u001b[0m\u001b[0;32m      5\u001b[0m \u001b[0mlines\u001b[0m\u001b[1;33m[\u001b[0m\u001b[1;33m:\u001b[0m\u001b[1;36m7\u001b[0m\u001b[1;33m]\u001b[0m\u001b[1;33m\u001b[0m\u001b[1;33m\u001b[0m\u001b[0m\n",
      "\u001b[1;32mc:\\Work\\LBD_book\\notebooks\\LBD_01_data_acquisition.ipynb\u001b[0m in \u001b[0;36mload_data_from_file\u001b[1;34m(file_path)\u001b[0m\n",
      "\u001b[1;31mFileNotFoundError\u001b[0m: The file 'input/demo_2.txt' does not exist."
     ]
    }
   ],
   "source": [
    "# remove before publishing\n",
    "domainName = 'Demo'\n",
    "fileName = 'input/demo_2.txt'\n",
    "lines = LBD_01_data_acquisition.load_data_from_file(fileName)\n",
    "lines[:7]"
   ]
  },
  {
   "cell_type": "code",
   "execution_count": null,
   "metadata": {},
   "outputs": [],
   "source": [
    "# for testing purposes - remove later\n",
    "lines = LBD_01_data_acquisition.load_data_from_file(\"input/Migraine_before1988.txt\")\n",
    "lines[:7]"
   ]
  },
  {
   "cell_type": "code",
   "execution_count": null,
   "metadata": {},
   "outputs": [],
   "source": [
    "# remove before publishing\n",
    "# plato's dialogues\n",
    "lines = LBD_01_data_acquisition.load_data_from_file(\"input/plato_dialogues_ontogen.txt\")\n",
    "lines[:7]"
   ]
  },
  {
   "cell_type": "markdown",
   "metadata": {},
   "source": [
    "Load and preprocess MESH words for Enzymes and Coenzymes [D08] and Amino Acids, Peptides, and Proteins [D12]. The input file MESH_D08_D12.txt after the preprocessing contains 3534 words that are used in further preprocessing of autism files."
   ]
  },
  {
   "cell_type": "code",
   "execution_count": 9,
   "metadata": {},
   "outputs": [
    {
     "name": "stderr",
     "output_type": "stream",
     "text": [
      "2024-08-11 10:07:40: INFO - Loaded 1 lines from \"input/MESH_D08_D12.txt\".\n",
      "2024-08-11 10:07:40: INFO - Text cleaning ...\n",
      "2024-08-11 10:07:40: INFO - Removing stopwords ...\n",
      "2024-08-11 10:07:40: INFO - Lematization ...\n",
      "2024-08-11 10:07:42: INFO - Keeping only longer words ...\n",
      "2024-08-11 10:07:42: INFO - Preprocessing finished.\n"
     ]
    },
    {
     "name": "stdout",
     "output_type": "stream",
     "text": [
      "Number of terms in MESH D08 and D12 vocabulary:  3534\n",
      "1984\n",
      "624\n",
      "750\n",
      "3216\n"
     ]
    }
   ],
   "source": [
    "mesh_lines = LBD_01_data_acquisition.load_data_from_file(\"input/MESH_D08_D12.txt\")\n",
    "\n",
    "mesh_docs_dict = LBD_02_data_preprocessing.construct_dict_from_list(mesh_lines)\n",
    "\n",
    "keep_list = []\n",
    "remove_list = []\n",
    "mesh_prep_docs_dict = LBD_02_data_preprocessing.preprocess_docs_dict(\n",
    "    mesh_docs_dict, keep_list = keep_list, remove_list = remove_list, mesh_word_list = [], \\\n",
    "    cleaning = True, remove_stopwords = True, lemmatization = True, \\\n",
    "    min_word_length = 5, keep_only_nouns = False, keep_only_mesh = False, stemming = False, stem_type = None)\n",
    "\n",
    "mesh_prep_docs_list = LBD_02_data_preprocessing.extract_preprocessed_documents_list(mesh_prep_docs_dict)\n",
    "\n",
    "mesh_word_list, mesh_bow_matrix = LBD_03_feature_extraction.create_bag_of_words(mesh_prep_docs_list, 1, 1)\n",
    "print('Number of terms in MESH D08 and D12 vocabulary: ', len(mesh_word_list))\n",
    "\n",
    "print(mesh_word_list.index('lactoylglutathione'))\n",
    "print(mesh_word_list.index('calcium'))\n",
    "print(mesh_word_list.index('channel'))\n",
    "print(mesh_word_list.index('synaptophysin'))\n",
    "\n"
   ]
  },
  {
   "cell_type": "markdown",
   "metadata": {},
   "source": [
    "Preprocess documents into a dictionary and extract documents as strings in a list."
   ]
  },
  {
   "cell_type": "code",
   "execution_count": 10,
   "metadata": {},
   "outputs": [
    {
     "name": "stderr",
     "output_type": "stream",
     "text": [
      "2024-08-11 10:07:45: INFO - Text cleaning ...\n",
      "2024-08-11 10:07:46: INFO - Removing stopwords ...\n",
      "2024-08-11 10:07:47: INFO - Lematization ...\n",
      "2024-08-11 10:07:49: INFO - Keeping only longer words ...\n",
      "2024-08-11 10:07:49: INFO - Keeping only nouns ...\n",
      "2024-08-11 10:09:07: INFO - Keeping only selected MeSH terms ...\n",
      "2024-08-11 10:09:17: INFO - Preprocessing finished.\n"
     ]
    }
   ],
   "source": [
    "docs_dict = LBD_02_data_preprocessing.construct_dict_from_list(lines)\n",
    "\n",
    "keep_list = []\n",
    "remove_list = []\n",
    "prep_docs_dict = LBD_02_data_preprocessing.preprocess_docs_dict(\n",
    "    docs_dict, keep_list = keep_list, remove_list = remove_list, mesh_word_list = mesh_word_list, \\\n",
    "    cleaning = True, remove_stopwords = True, lemmatization = True, \\\n",
    "    min_word_length = 5, keep_only_nouns = True, keep_only_mesh = True, stemming = False, stem_type = None)\n",
    "\n",
    "ids_list = LBD_02_data_preprocessing.extract_ids_list(prep_docs_dict)\n",
    "prep_docs_list = LBD_02_data_preprocessing.extract_preprocessed_documents_list(prep_docs_dict)"
   ]
  },
  {
   "cell_type": "markdown",
   "metadata": {},
   "source": [
    "Display the first dictionary items, document (pubmed) ids and preprocessed documents."
   ]
  },
  {
   "cell_type": "code",
   "execution_count": null,
   "metadata": {},
   "outputs": [],
   "source": [
    "dict(itertools.islice(prep_docs_dict.items(), 7))"
   ]
  },
  {
   "cell_type": "code",
   "execution_count": null,
   "metadata": {},
   "outputs": [],
   "source": [
    "ids_list[:7]"
   ]
  },
  {
   "cell_type": "code",
   "execution_count": null,
   "metadata": {},
   "outputs": [],
   "source": [
    "prep_docs_list[:7]"
   ]
  },
  {
   "cell_type": "markdown",
   "metadata": {},
   "source": [
    "Generate bag-of-words matrix from the list of preprocessed documents. Remove n-gram words that occur less than *min_ngram_count* times (3 in our case) in the whole corpus of documents. Remove also the words that are not pressent in the MESH list *mesh_word_list*."
   ]
  },
  {
   "cell_type": "code",
   "execution_count": null,
   "metadata": {},
   "outputs": [],
   "source": [
    "ngram_size = 2\n",
    "min_df = 1\n",
    "\n",
    "# BOW representation\n",
    "word_list, bow_matrix = LBD_03_feature_extraction.create_bag_of_words(prep_docs_list, ngram_size, min_df)\n",
    "print('Number of terms in initial vocabulary with all n-grams: ', len(word_list))\n",
    "# print(word_list)\n",
    "# print(bow_matrix)\n",
    "\n",
    "# remove nterms with frequency count less than min_count_ngram from vocabulary word_list and bow_matrix\n",
    "min_count_ngram = 3\n",
    "tmp_sum_count_docs_containing_word = LBD_03_feature_extraction.sum_count_documents_containing_each_word(word_list, bow_matrix)\n",
    "\n",
    "tmp_sum_count_word_in_docs = LBD_03_feature_extraction.sum_count_each_word_in_all_documents(word_list, bow_matrix)\n",
    "\n",
    "tmp_filter_columns = []\n",
    "for i, word in enumerate(word_list):\n",
    "    if not LBD_03_feature_extraction.word_is_nterm(word):\n",
    "        if word in mesh_word_list:\n",
    "            tmp_filter_columns.append(i)\n",
    "    else:\n",
    "        if tmp_sum_count_word_in_docs[word] >= min_count_ngram:\n",
    "            check_ngram = word.split()\n",
    "            passed = True\n",
    "            for check_word in check_ngram:\n",
    "                if check_word not in mesh_word_list:\n",
    "                    passed = False\n",
    "            if check_ngram[0] == check_ngram[1]:\n",
    "                passed = False\n",
    "            # passed = True\n",
    "            if passed:\n",
    "                tmp_filter_columns.append(i)\n",
    "\n",
    "tmp_filter_rows = []\n",
    "for i, id in enumerate(ids_list):\n",
    "    tmp_filter_rows.append(i)\n",
    "\n",
    "tmp_filtered_word_list, tmp_filtered_bow_matrix = LBD_03_feature_extraction.filter_matrix_columns(\n",
    "    word_list, bow_matrix, tmp_filter_rows, tmp_filter_columns)\n",
    "\n",
    "word_list = tmp_filtered_word_list\n",
    "bow_matrix = tmp_filtered_bow_matrix\n",
    "print('Number of terms in preprocessed vocabulary after removing infrequent n-grams and non MESH words: ', len(word_list))\n",
    "\n",
    "LBD_02_data_preprocessing.save_list_to_file(word_list, \"output/_list.txt\")\n",
    "LBD_02_data_preprocessing.save_list_to_file(prep_docs_list, \"output/_prep_list.txt\")\n"
   ]
  },
  {
   "cell_type": "markdown",
   "metadata": {},
   "source": [
    "Compute margins for bag-of-word matrix. Prepare also the dictionaries of words and documents sorted according to the sum of word count in BOW matrix (*bow_matrix*)."
   ]
  },
  {
   "cell_type": "code",
   "execution_count": null,
   "metadata": {},
   "outputs": [],
   "source": [
    "sum_count_docs_containing_word = LBD_03_feature_extraction.sum_count_documents_containing_each_word(word_list, bow_matrix)\n",
    "\n",
    "sum_count_word_in_docs = LBD_03_feature_extraction.sum_count_each_word_in_all_documents(word_list, bow_matrix)\n",
    "\n",
    "sum_count_words_in_doc = LBD_03_feature_extraction.sum_count_all_words_in_each_document(ids_list, bow_matrix)\n",
    "\n",
    "print('Number of documents in which each word is present: ', dict(itertools.islice(sum_count_docs_containing_word.items(), 7)))\n",
    "print('Number of occurences of each word in all documents: ', dict(itertools.islice(sum_count_word_in_docs.items(), 7)))\n",
    "print('Number of words in each document: ', dict(itertools.islice(sum_count_words_in_doc.items(), 7)))\n",
    "\n",
    "# Compute the order of rows (documents) and columns (words) in the bow matrix so that the most frequent words are in the top-left corner. \n",
    "filter_columns = LBD_02_data_preprocessing.get_index_list_of_dict1_keys(\n",
    "    LBD_02_data_preprocessing.sort_dict_by_value(sum_count_word_in_docs, reverse=True), word_list)\n",
    "filter_rows = LBD_02_data_preprocessing.get_index_list_of_dict1_keys(\n",
    "    LBD_02_data_preprocessing.sort_dict_by_value(sum_count_words_in_doc, reverse=True), ids_list) \n",
    "\n",
    "# Rearange (filter) the bow matrix according to the previously computed order.\n",
    "filtered_ids_list, filtered_word_list, filtered_bow_matrix = LBD_03_feature_extraction.filter_matrix(\n",
    "    ids_list, word_list, bow_matrix, filter_rows, filter_columns)\n",
    "print('The first few documents in the rows of the filtered bow matrix: ', filtered_ids_list[:7])\n",
    "print('The first few words in the columns of the filtered bow matrix: ', filtered_word_list[:7])"
   ]
  },
  {
   "cell_type": "markdown",
   "metadata": {},
   "source": [
    "Visualize bag-of-words matrix."
   ]
  },
  {
   "cell_type": "code",
   "execution_count": null,
   "metadata": {},
   "outputs": [],
   "source": [
    "first_row = 0\n",
    "last_row = 20\n",
    "first_column = 0\n",
    "last_column = 15\n",
    "LBD_06_visualization.plot_bow_tfidf_matrix('Filtered bag of words', \\\n",
    "                                           filtered_bow_matrix[first_row:last_row,first_column:last_column], \\\n",
    "                                           filtered_ids_list[first_row:last_row], \\\n",
    "                                           filtered_word_list[first_column:last_column], as_int = True)"
   ]
  },
  {
   "cell_type": "markdown",
   "metadata": {},
   "source": [
    "Generate tf-idf matrix from the list of preprocessed documents."
   ]
  },
  {
   "cell_type": "code",
   "execution_count": null,
   "metadata": {},
   "outputs": [],
   "source": [
    "# TF-IDF representation\n",
    "word_list, tfidf_matrix = LBD_03_feature_extraction.create_tfidf(prep_docs_list, ngram_size, min_df)\n",
    "print('Number of terms in initial vocabulary with all n-grams: ', len(word_list))\n",
    "# print(word_list)\n",
    "# print(tfidf_matrix)\n",
    "\n",
    "# Rearange (filter) the tfidf matrix according to the previously computed order from bow matrix.\n",
    "tmp_filtered_word_list, tmp_filtered_tfidf_matrix = LBD_03_feature_extraction.filter_matrix_columns(\n",
    "    word_list, tfidf_matrix, tmp_filter_rows, tmp_filter_columns)\n",
    "\n",
    "word_list = tmp_filtered_word_list\n",
    "tfidf_matrix = tmp_filtered_tfidf_matrix\n",
    "print('Number of terms in preprocessed vocabulary after removing infrequent n-grams and non MESH words: ', len(word_list))"
   ]
  },
  {
   "cell_type": "markdown",
   "metadata": {},
   "source": [
    "Compute margins for tf-idf matrix."
   ]
  },
  {
   "cell_type": "code",
   "execution_count": null,
   "metadata": {},
   "outputs": [],
   "source": [
    "sum_word_tfidf = LBD_03_feature_extraction.sum_count_each_word_in_all_documents(word_list, tfidf_matrix)\n",
    "max_word_tfidf = LBD_03_feature_extraction.max_tfidf_each_word_in_all_documents(word_list, tfidf_matrix)\n",
    "\n",
    "sum_doc_tfidf = LBD_03_feature_extraction.sum_count_all_words_in_each_document(ids_list, tfidf_matrix)\n",
    "max_doc_tfidf = LBD_03_feature_extraction.max_tfidf_all_words_in_each_document(ids_list, tfidf_matrix)\n",
    "\n",
    "print('Sum of tfidf for each word: ', dict(itertools.islice(sum_word_tfidf.items(), 7)))\n",
    "print('Max of tfidf for each word: ', dict(itertools.islice(max_word_tfidf.items(), 7)))\n",
    "\n",
    "print('Sum of tfidf for each document: ', dict(itertools.islice(sum_doc_tfidf.items(), 7)))\n",
    "print('Max of tfidf for each document: ', dict(itertools.islice(max_doc_tfidf.items(), 7)))\n",
    "\n",
    "# Compute the order of rows (documents) and columns (words) in the tfidf matrix so that the most important words are in the top-left corner. \n",
    "filter_columns = LBD_02_data_preprocessing.get_index_list_of_dict1_keys(\n",
    "    LBD_02_data_preprocessing.sort_dict_by_value(max_word_tfidf, reverse=True), word_list)\n",
    "filter_rows = LBD_02_data_preprocessing.get_index_list_of_dict1_keys(\n",
    "    LBD_02_data_preprocessing.sort_dict_by_value(max_doc_tfidf, reverse=True), ids_list) \n",
    "\n",
    "# Rearange (filter) the bow matrix according to the previously computed order.\n",
    "filtered_ids_list, filtered_word_list, filtered_tfidf_matrix = LBD_03_feature_extraction.filter_matrix(\n",
    "    ids_list, word_list, tfidf_matrix, filter_rows, filter_columns)"
   ]
  },
  {
   "cell_type": "markdown",
   "metadata": {},
   "source": [
    "Visualize tf-idf matrix."
   ]
  },
  {
   "cell_type": "code",
   "execution_count": null,
   "metadata": {},
   "outputs": [],
   "source": [
    "first_row = 0\n",
    "last_row = 20\n",
    "first_column = 0\n",
    "last_column = 25\n",
    "LBD_06_visualization.plot_bow_tfidf_matrix('Filtered TfIdf', filtered_tfidf_matrix[first_row:last_row,first_column:last_column], \\\n",
    "                                           filtered_ids_list[first_row:last_row], filtered_word_list[first_column:last_column], as_int = False)"
   ]
  },
  {
   "cell_type": "markdown",
   "metadata": {},
   "source": [
    "Generate a list of the domain names of all the documents and a list of unique domain names."
   ]
  },
  {
   "cell_type": "code",
   "execution_count": null,
   "metadata": {},
   "outputs": [],
   "source": [
    "domains_list = LBD_02_data_preprocessing.extract_domain_names_list(docs_dict)\n",
    "print('Domain names for the first few documents: ', domains_list[:7])\n",
    "unique_domains_list = LBD_02_data_preprocessing.extract_unique_domain_names_list(prep_docs_dict)\n",
    "print('A list of all uniques domain names in all the documents: ', unique_domains_list)\n"
   ]
  },
  {
   "cell_type": "markdown",
   "metadata": {},
   "source": [
    "Visualize the documents in 2D graph by reducing the dimensionality of tfidf matrix with PCA."
   ]
  },
  {
   "cell_type": "code",
   "execution_count": null,
   "metadata": {},
   "outputs": [],
   "source": [
    "LBD_06_visualization.visualize_tfidf_pca_interactive(ids_list, domains_list, tfidf_matrix, transpose = False)"
   ]
  },
  {
   "cell_type": "code",
   "execution_count": null,
   "metadata": {},
   "outputs": [],
   "source": [
    "from sklearn.cluster import KMeans\n",
    "\n",
    "# Cluster the documents using KMeans\n",
    "n_clusters = 2\n",
    "kmeans = KMeans(n_clusters=n_clusters, random_state=42).fit(tfidf_matrix)\n",
    "cluster_assignments = list(np.asarray(kmeans.labels_))\n",
    "cluster_assignments = [str(i) for i in cluster_assignments]\n",
    "type(cluster_assignments)"
   ]
  },
  {
   "cell_type": "code",
   "execution_count": null,
   "metadata": {},
   "outputs": [],
   "source": [
    "LBD_06_visualization.visualize_tfidf_pca_interactive(ids_list, cluster_assignments, tfidf_matrix, transpose = False)"
   ]
  },
  {
   "cell_type": "code",
   "execution_count": null,
   "metadata": {},
   "outputs": [],
   "source": [
    "domains_list = [LBD_02_data_preprocessing.strDomainDefault]*len(word_list)\n",
    "LBD_06_visualization.visualize_tfidf_pca_interactive(word_list, domains_list, tfidf_matrix, transpose = True)"
   ]
  },
  {
   "cell_type": "code",
   "execution_count": null,
   "metadata": {},
   "outputs": [],
   "source": []
  },
  {
   "cell_type": "code",
   "execution_count": null,
   "metadata": {},
   "outputs": [],
   "source": []
  },
  {
   "cell_type": "markdown",
   "metadata": {},
   "source": [
    "Generate a list of *rare* words. Use the max value of word tf-idf for sorting the list of rare words.\n",
    "\n",
    "TODO: describe the criterion for rare term selection"
   ]
  },
  {
   "cell_type": "code",
   "execution_count": null,
   "metadata": {},
   "outputs": [],
   "source": [
    "print(\"Dictionary of words, count and max(tfidf):\")\n",
    "\n",
    "max_word_tfidf_selected = {}\n",
    "for word in max_word_tfidf.keys():\n",
    "    if sum_count_docs_containing_word[word] <= 1:\n",
    "        max_word_tfidf_selected[word] = max_word_tfidf[word]\n",
    "         \n",
    "import itertools\n",
    "print('All the words in vocabulary: ', len(max_word_tfidf))\n",
    "print('Selected rare words: ', len(max_word_tfidf_selected), ' ', dict(itertools.islice(max_word_tfidf_selected.items(), 30)))\n",
    "\n",
    "max_word_tfidf_selected_sorted = LBD_02_data_preprocessing.sort_dict_by_value(max_word_tfidf_selected, True)\n",
    "\n",
    "print('Sorted rare words: ', len(max_word_tfidf_selected_sorted), ' ', dict(itertools.islice(max_word_tfidf_selected_sorted.items(), 30)))\n",
    "print('First and last sorted rare word: ', list(max_word_tfidf_selected_sorted.items())[0], ' ', list(max_word_tfidf_selected_sorted.items())[-1])\n",
    "print('Mean value of max tfidf values: ', np.array(list(max_word_tfidf_selected_sorted.values())).mean())"
   ]
  },
  {
   "cell_type": "markdown",
   "metadata": {},
   "source": [
    "Determine three rare terms for further analysis"
   ]
  },
  {
   "cell_type": "code",
   "execution_count": null,
   "metadata": {},
   "outputs": [],
   "source": [
    "rare_terms_list = list(max_word_tfidf_selected_sorted.keys())\n",
    "rare_terms_list_length = len(rare_terms_list)\n",
    "\n",
    "df = pd.DataFrame({'Rare term': rare_terms_list, 'max tfidf': list(max_word_tfidf_selected_sorted.values())})\n",
    "df[0:25]"
   ]
  },
  {
   "cell_type": "code",
   "execution_count": null,
   "metadata": {},
   "outputs": [],
   "source": [
    "term_display_first = 0\n",
    "term_display_length = 400 # 75\n",
    "print('Length: ', rare_terms_list_length, ', starting with: ', term_display_first)\n",
    "for i in range(term_display_first, term_display_first+term_display_length):\n",
    "    if i < rare_terms_list_length:\n",
    "        term = rare_terms_list[i]\n",
    "        print(i, ' ', term, ' ', max_word_tfidf_selected_sorted[term])"
   ]
  },
  {
   "cell_type": "code",
   "execution_count": null,
   "metadata": {},
   "outputs": [],
   "source": []
  },
  {
   "cell_type": "code",
   "execution_count": null,
   "metadata": {},
   "outputs": [],
   "source": [
    "name = 'calcium channel'\n",
    "print(name, ': ', 'position in the list of rare terms ', list(max_word_tfidf_selected_sorted.keys()).index(name), ' (', len(max_word_tfidf_selected_sorted), \\\n",
    "      '), max tfidf: ', format(max_word_tfidf_selected_sorted[name], '.3f'), sep='')"
   ]
  },
  {
   "cell_type": "code",
   "execution_count": null,
   "metadata": {},
   "outputs": [],
   "source": [
    "name = 'synaptophysin'\n",
    "print(name, ': ', 'position in the list of rare terms ', list(max_word_tfidf_selected_sorted.keys()).index(name), ' (', len(max_word_tfidf_selected_sorted), \\\n",
    "      '), max tfidf: ', format(max_word_tfidf_selected_sorted[name], '.3f'), sep='')"
   ]
  },
  {
   "cell_type": "code",
   "execution_count": null,
   "metadata": {},
   "outputs": [],
   "source": [
    "\n",
    "name = 'lactoylglutathione'\n",
    "print(name, ': ', 'position in the list of rare terms ', list(max_word_tfidf_selected_sorted.keys()).index(name), ' (', len(max_word_tfidf_selected_sorted), \\\n",
    "      '), max tfidf: ', format(max_word_tfidf_selected_sorted[name], '.3f'), sep='')"
   ]
  },
  {
   "cell_type": "markdown",
   "metadata": {},
   "source": [
    "In the last part of the step Ra we have identified three rare terms for further exploration: \n",
    "\n",
    "* *calcium channel*, \n",
    "* *synaptophysin*, \n",
    "* and *lactoylglutathione*."
   ]
  },
  {
   "cell_type": "code",
   "execution_count": null,
   "metadata": {},
   "outputs": [],
   "source": []
  },
  {
   "cell_type": "markdown",
   "metadata": {},
   "source": [
    "# Step Jo\n",
    "\n",
    "How the input files were prepared?"
   ]
  },
  {
   "cell_type": "code",
   "execution_count": null,
   "metadata": {},
   "outputs": [],
   "source": [
    "fileName = 'input/f_calcium_channels.txt'\n",
    "lines = LBD_01_data_acquisition.load_data_from_file(fileName)\n",
    "lines[:7]"
   ]
  },
  {
   "cell_type": "code",
   "execution_count": null,
   "metadata": {},
   "outputs": [],
   "source": [
    "fileName = 'input/f_synaptophysin.txt'\n",
    "lines2 = LBD_01_data_acquisition.load_data_from_file(fileName)\n",
    "lines2[:7]"
   ]
  },
  {
   "cell_type": "code",
   "execution_count": null,
   "metadata": {},
   "outputs": [],
   "source": [
    "fileName = 'input/f_lactoylglutathione.txt'\n",
    "lines3 = LBD_01_data_acquisition.load_data_from_file(fileName)\n",
    "lines3[:7]"
   ]
  },
  {
   "cell_type": "markdown",
   "metadata": {},
   "source": [
    "Combine all three input texts to a sinlge list."
   ]
  },
  {
   "cell_type": "code",
   "execution_count": null,
   "metadata": {},
   "outputs": [],
   "source": [
    "lines.extend(lines2)\n",
    "lines.extend(lines3)\n",
    "len(lines)"
   ]
  },
  {
   "cell_type": "markdown",
   "metadata": {},
   "source": [
    "Preprocess the list of input documents."
   ]
  },
  {
   "cell_type": "code",
   "execution_count": null,
   "metadata": {},
   "outputs": [],
   "source": [
    "docs_dict = LBD_02_data_preprocessing.construct_dict_from_list(lines)\n",
    "\n",
    "keep_list = []\n",
    "remove_list = []\n",
    "prep_docs_dict = LBD_02_data_preprocessing.preprocess_docs_dict(\n",
    "    docs_dict, keep_list = keep_list, remove_list = remove_list, mesh_word_list = mesh_word_list, \\\n",
    "    cleaning = True, remove_stopwords = True, lemmatization = True, \\\n",
    "    min_word_length = 5, keep_only_nouns = True, keep_only_mesh = True, stemming = False, stem_type = None)\n",
    "\n",
    "# \n",
    "\n",
    "ids_list = LBD_02_data_preprocessing.extract_ids_list(prep_docs_dict)\n",
    "domains_list = LBD_02_data_preprocessing.extract_domain_names_list(prep_docs_dict)\n",
    "unique_domains_list = LBD_02_data_preprocessing.extract_unique_domain_names_list(prep_docs_dict)\n",
    "prep_docs_list = LBD_02_data_preprocessing.extract_preprocessed_documents_list(prep_docs_dict)"
   ]
  },
  {
   "cell_type": "code",
   "execution_count": null,
   "metadata": {},
   "outputs": [],
   "source": [
    "dict(itertools.islice(prep_docs_dict.items(), 7))"
   ]
  },
  {
   "cell_type": "markdown",
   "metadata": {},
   "source": [
    "Generate Bag of Words matrix."
   ]
  },
  {
   "cell_type": "code",
   "execution_count": null,
   "metadata": {},
   "outputs": [],
   "source": [
    "ngram_size = 1\n",
    "min_df = 1\n",
    "\n",
    "# BOW representation\n",
    "word_list, bow_matrix = LBD_03_feature_extraction.create_bag_of_words(prep_docs_list, ngram_size, min_df)\n",
    "print('Number of terms in initial vocabulary: ', len(word_list))\n",
    "# print(word_list)\n",
    "# print(bow_matrix)\n",
    "\n",
    "# remove nterms with frequency count less than min_count_ngram from vocabulary word_list and bow_matrix\n",
    "min_count_ngram = 3\n",
    "tmp_sum_count_docs_containing_word = LBD_03_feature_extraction.sum_count_documents_containing_each_word(word_list, bow_matrix)\n",
    "\n",
    "tmp_sum_count_word_in_docs = LBD_03_feature_extraction.sum_count_each_word_in_all_documents(word_list, bow_matrix)\n",
    "\n",
    "tmp_filter_columns = []\n",
    "for i, word in enumerate(word_list):\n",
    "    if not LBD_03_feature_extraction.word_is_nterm(word):\n",
    "        if word in mesh_word_list:\n",
    "            tmp_filter_columns.append(i)\n",
    "    else:\n",
    "        if tmp_sum_count_word_in_docs[word] >= min_count_ngram:\n",
    "            check_ngram = word.split()\n",
    "            passed = True\n",
    "            for check_word in check_ngram:\n",
    "                if check_word not in mesh_word_list:\n",
    "                    passed = False\n",
    "            if check_ngram[0] == check_ngram[1]:\n",
    "                passed = False\n",
    "            # passed = True\n",
    "            if passed:\n",
    "                tmp_filter_columns.append(i)\n",
    "\n",
    "# keep the original order of rows\n",
    "tmp_filter_rows = []\n",
    "for i, id in enumerate(ids_list):\n",
    "    tmp_filter_rows.append(i)\n",
    "\n",
    "tmp_filtered_word_list, tmp_filtered_bow_matrix = LBD_03_feature_extraction.filter_matrix_columns(\n",
    "    word_list, bow_matrix, tmp_filter_rows, tmp_filter_columns)\n",
    "\n",
    "word_list = tmp_filtered_word_list\n",
    "bow_matrix = tmp_filtered_bow_matrix\n",
    "print('Number of terms in preprocessed vocabulary: ', len(word_list))\n"
   ]
  },
  {
   "cell_type": "code",
   "execution_count": null,
   "metadata": {},
   "outputs": [],
   "source": [
    "# Generate domains_bow_matrix from bow_matrix using domain_names list to add bow_matrix rows for each unique domain name into a single row\n",
    "domains_bow_matrix = np.empty((0, bow_matrix.shape[1]))\n",
    "for i, domain_name in enumerate(unique_domains_list):\n",
    "    domain_docs_indices = [i for i, label in enumerate(domains_list) if label == domain_name]\n",
    "    print(domain_docs_indices[:7])\n",
    "    tmp = (bow_matrix[domain_docs_indices,:]).sum(axis=0)\n",
    "    print(i, tmp)\n",
    "    domains_bow_matrix = np.vstack((domains_bow_matrix, tmp))\n",
    "    # Compute centroid for the current cluster\n",
    "    #centroid_x = np.mean(pca_result[cluster_docs_indices, 0])\n",
    "    #centroid_y = np.mean(pca_result[cluster_docs_indices, 1])\n",
    "print(domains_bow_matrix)"
   ]
  },
  {
   "cell_type": "code",
   "execution_count": null,
   "metadata": {},
   "outputs": [],
   "source": [
    "def cell_value_in_bow_matrix(bow_matrix, domain_name, word):\n",
    "    \"\"\"\n",
    "    \"\"\"\n",
    "    line_idx = unique_domains_list.index(domain_name)\n",
    "    column_idx = word_list.index(word)\n",
    "    return(bow_matrix[line_idx, column_idx])\n",
    "\n",
    "cell_value_in_bow_matrix(domains_bow_matrix, unique_domains_list[0], word_list[0])\n"
   ]
  },
  {
   "cell_type": "code",
   "execution_count": null,
   "metadata": {},
   "outputs": [],
   "source": [
    "sum_count_docs_containing_word = LBD_03_feature_extraction.sum_count_documents_containing_each_word(word_list, bow_matrix)\n",
    "\n",
    "sum_count_word_in_docs = LBD_03_feature_extraction.sum_count_each_word_in_all_documents(word_list, bow_matrix)\n",
    "\n",
    "sum_count_words_in_doc = LBD_03_feature_extraction.sum_count_all_words_in_each_document(ids_list, bow_matrix)\n",
    "\n",
    "print(dict(itertools.islice(sum_count_docs_containing_word.items(), 7)))\n",
    "print(dict(itertools.islice(sum_count_word_in_docs.items(), 7)))\n",
    "print(dict(itertools.islice(sum_count_words_in_doc.items(), 7)))\n",
    "\n",
    "filter_columns = LBD_02_data_preprocessing.get_index_list_of_dict1_keys(\n",
    "    LBD_02_data_preprocessing.sort_dict_by_value(sum_count_word_in_docs, reverse=True), word_list)\n",
    "filter_rows = LBD_02_data_preprocessing.get_index_list_of_dict1_keys(\n",
    "    LBD_02_data_preprocessing.sort_dict_by_value(sum_count_words_in_doc, reverse=True), ids_list) \n",
    "\n",
    "filtered_ids_list, filtered_word_list, filtered_bow_matrix = LBD_03_feature_extraction.filter_matrix(\n",
    "    ids_list, word_list, bow_matrix, filter_rows, filter_columns)\n",
    "print(filtered_ids_list[:7])"
   ]
  },
  {
   "cell_type": "code",
   "execution_count": null,
   "metadata": {},
   "outputs": [],
   "source": [
    "first_row = 0\n",
    "last_row = 20\n",
    "first_column = 0\n",
    "last_column = 15\n",
    "LBD_06_visualization.plot_bow_tfidf_matrix('Filtered bag of words', \\\n",
    "                                           filtered_bow_matrix[first_row:last_row,first_column:last_column], \\\n",
    "                                           filtered_ids_list[first_row:last_row], \\\n",
    "                                           filtered_word_list[first_column:last_column], as_int = True)"
   ]
  },
  {
   "cell_type": "code",
   "execution_count": null,
   "metadata": {},
   "outputs": [],
   "source": [
    "# TF-IDF representation\n",
    "word_list, tfidf_matrix = LBD_03_feature_extraction.create_tfidf(prep_docs_list, ngram_size, min_df)\n",
    "print('Number of terms in initial vocabulary: ', len(word_list))\n",
    "# print(word_list)\n",
    "# print(tfidf_matrix)\n",
    "\n",
    "tmp_filtered_word_list, tmp_filtered_tfidf_matrix = LBD_03_feature_extraction.filter_matrix_columns(\n",
    "    word_list, tfidf_matrix, tmp_filter_rows, tmp_filter_columns)\n",
    "\n",
    "word_list = tmp_filtered_word_list\n",
    "tfidf_matrix = tmp_filtered_tfidf_matrix\n",
    "print('Number of terms in preprocessed vocabulary: ',len(word_list))"
   ]
  },
  {
   "cell_type": "code",
   "execution_count": null,
   "metadata": {},
   "outputs": [],
   "source": [
    "sum_word_tfidf = LBD_03_feature_extraction.sum_count_each_word_in_all_documents(word_list, tfidf_matrix)\n",
    "max_word_tfidf = LBD_03_feature_extraction.max_tfidf_each_word_in_all_documents(word_list, tfidf_matrix)\n",
    "\n",
    "sum_doc_tfidf = LBD_03_feature_extraction.sum_count_all_words_in_each_document(ids_list, tfidf_matrix)\n",
    "max_doc_tfidf = LBD_03_feature_extraction.max_tfidf_all_words_in_each_document(ids_list, tfidf_matrix)\n",
    "\n",
    "print(dict(itertools.islice(sum_word_tfidf.items(), 7)))\n",
    "print(dict(itertools.islice(max_word_tfidf.items(), 7)))\n",
    "\n",
    "print(dict(itertools.islice(sum_doc_tfidf.items(), 7)))\n",
    "print(dict(itertools.islice(max_doc_tfidf.items(), 7)))\n",
    "\n",
    "filter_columns = LBD_02_data_preprocessing.get_index_list_of_dict1_keys(\n",
    "    LBD_02_data_preprocessing.sort_dict_by_value(max_word_tfidf, reverse=True), word_list)\n",
    "filter_rows = LBD_02_data_preprocessing.get_index_list_of_dict1_keys(\n",
    "    LBD_02_data_preprocessing.sort_dict_by_value(max_doc_tfidf, reverse=True), ids_list) \n",
    "\n",
    "filtered_ids_list, filtered_word_list, filtered_tfidf_matrix = LBD_03_feature_extraction.filter_matrix(\n",
    "    ids_list, word_list, tfidf_matrix, filter_rows, filter_columns)"
   ]
  },
  {
   "cell_type": "code",
   "execution_count": null,
   "metadata": {},
   "outputs": [],
   "source": [
    "first_row = 0\n",
    "last_row = 20\n",
    "first_column = 0\n",
    "last_column = 25\n",
    "LBD_06_visualization.plot_bow_tfidf_matrix('Filtered TfIdf', filtered_tfidf_matrix[first_row:last_row,first_column:last_column], \\\n",
    "                                           filtered_ids_list[first_row:last_row], filtered_word_list[first_column:last_column], as_int = False)"
   ]
  },
  {
   "cell_type": "code",
   "execution_count": null,
   "metadata": {},
   "outputs": [],
   "source": [
    "domains_list = LBD_02_data_preprocessing.extract_domain_names_list(docs_dict)\n",
    "print('Domain names for the first few documents: ', domains_list[:7])\n",
    "unique_domains_list = LBD_02_data_preprocessing.extract_unique_domain_names_list(prep_docs_dict)\n",
    "print('Unique domain names: ', unique_domains_list)\n",
    "print('Number of documents in each unique domain: ', )\n",
    "for unique_domain in unique_domains_list:\n",
    "    print('   ', unique_domain, ': ', domains_list.count(unique_domain), sep='')\n"
   ]
  },
  {
   "cell_type": "code",
   "execution_count": null,
   "metadata": {},
   "outputs": [],
   "source": [
    "LBD_06_visualization.visualize_tfidf_pca_interactive(ids_list, domains_list, tfidf_matrix, transpose = False)"
   ]
  },
  {
   "cell_type": "code",
   "execution_count": null,
   "metadata": {},
   "outputs": [],
   "source": [
    "domains_list = ['default']*len(word_list)\n",
    "LBD_06_visualization.visualize_tfidf_pca_interactive(word_list, domains_list, tfidf_matrix, transpose = True)"
   ]
  },
  {
   "cell_type": "code",
   "execution_count": null,
   "metadata": {},
   "outputs": [],
   "source": [
    "print(\"Dictionary of words, count and max(tfidf):\")\n",
    "\n",
    "max_word_tfidf_selected = {}\n",
    "for word in max_word_tfidf.keys():\n",
    "    if sum_count_docs_containing_word[word] >= 10:\n",
    "        passed = True\n",
    "        for domain_name in unique_domains_list:\n",
    "            if cell_value_in_bow_matrix(domains_bow_matrix, domain_name, word) <= 0:\n",
    "                passed = False\n",
    "        if passed:\n",
    "            max_word_tfidf_selected[word] = max_word_tfidf[word]\n",
    "         \n",
    "import itertools\n",
    "print('All the words in vocabulary: ', len(max_word_tfidf))\n",
    "print('Selected common words: ', len(max_word_tfidf_selected), ' ', dict(itertools.islice(max_word_tfidf_selected.items(), 30)))\n",
    "\n",
    "max_word_tfidf_selected_sorted = LBD_02_data_preprocessing.sort_dict_by_value(max_word_tfidf_selected, True)\n",
    "\n",
    "print('Sorted joint words: ', len(max_word_tfidf_selected_sorted), ' ', dict(itertools.islice(max_word_tfidf_selected_sorted.items(), 30)))\n",
    "print('First and last sorted joint word: ', list(max_word_tfidf_selected_sorted.items())[0], ' ', list(max_word_tfidf_selected_sorted.items())[-1])\n",
    "print('Mean value of max tfidf values: ', np.array(list(max_word_tfidf_selected_sorted.values())).mean())"
   ]
  },
  {
   "cell_type": "code",
   "execution_count": null,
   "metadata": {},
   "outputs": [],
   "source": [
    "joint_terms_list = list(max_word_tfidf_selected_sorted.keys())\n",
    "joint_terms_list_length = len(joint_terms_list)\n",
    "\n",
    "df = pd.DataFrame({'Joint term': joint_terms_list, 'max tfidf': list(max_word_tfidf_selected_sorted.values())})\n",
    "df[0:25]"
   ]
  },
  {
   "cell_type": "code",
   "execution_count": null,
   "metadata": {},
   "outputs": [],
   "source": [
    "name = 'calcineurin'\n",
    "print(name, ': ', 'position in the list of joint terms ', list(max_word_tfidf_selected_sorted.keys()).index(name), ' (', len(max_word_tfidf_selected_sorted), \\\n",
    "      '), max tfidf: ', format(max_word_tfidf_selected_sorted[name], '.3f'), sep='')"
   ]
  },
  {
   "cell_type": "code",
   "execution_count": null,
   "metadata": {},
   "outputs": [],
   "source": [
    "name = 'kappa'\n",
    "print(list(max_word_tfidf_selected_sorted.keys()))\n",
    "# print(name, ': ', 'position in the list of rare terms ', list(max_word_tfidf_selected_sorted.keys()).index(name), ' (', len(max_word_tfidf_selected_sorted), \\\n",
    "#      '), max tfidf: ', format(max_word_tfidf_selected_sorted[name], '.3f'), sep='')"
   ]
  },
  {
   "cell_type": "markdown",
   "metadata": {},
   "source": [
    "In the last part of the step Jo we have identified a joint term for further exploration: *calcineurin*.\n",
    "So, the Literature *C* is *autism* and the Literature *A* is *calcineurin*. In step Link the tesk is to search for linking b-terms that connect the two domains *C* and *A*."
   ]
  },
  {
   "cell_type": "markdown",
   "metadata": {},
   "source": [
    "# Step Link"
   ]
  },
  {
   "cell_type": "code",
   "execution_count": null,
   "metadata": {},
   "outputs": [],
   "source": []
  },
  {
   "cell_type": "code",
   "execution_count": null,
   "metadata": {},
   "outputs": [],
   "source": [
    "from sklearn.feature_extraction.text import CountVectorizer\n",
    "import numpy as np\n",
    "\n",
    "# Sample documents\n",
    "documents = [\n",
    "    \"apple banana fruit\",\n",
    "    \"apple orange juice\",\n",
    "    \"banana orange juice\",\n",
    "    \"apple apple orange\",\n",
    "    \"banana banana fruit\"\n",
    "]\n",
    "\n",
    "# Create a BoW matrix using CountVectorizer\n",
    "vectorizer = CountVectorizer(ngram_range=(1, 2))\n",
    "X = vectorizer.fit_transform(documents)\n",
    "\n",
    "# Convert BoW matrix to numpy array\n",
    "bow_matrix = X.toarray()\n",
    "\n",
    "# Compute in how many documents each word appears\n",
    "word_counts = (bow_matrix > 0).sum(axis=0)\n",
    "\n",
    "# Display the results\n",
    "words = vectorizer.get_feature_names_out()\n",
    "for word, count in zip(words, word_counts):\n",
    "    print(f\"The word '{word}' appears in {count} document(s).\")\n",
    "\n"
   ]
  },
  {
   "cell_type": "code",
   "execution_count": null,
   "metadata": {},
   "outputs": [],
   "source": [
    "import random\n",
    "from collections import defaultdict\n",
    "\n",
    "# Create a dictionary of 20 words with random integer values\n",
    "words = [\"word\" + str(i) for i in range(20)]\n",
    "values = [random.randint(1, 10) for _ in range(20)]  # random integers between 1 and 10\n",
    "dictionary = dict(zip(words, values))\n",
    "\n",
    "# Compute the frequency distribution of the integer numbers\n",
    "frequency_distribution = defaultdict(int)\n",
    "for value in dictionary.values():\n",
    "    frequency_distribution[value] += 1\n",
    "\n",
    "# Sort the frequency distribution by the integer numbers (keys) in ascending order\n",
    "sorted_distribution = dict(sorted(frequency_distribution.items()))\n",
    "\n",
    "# Display the dictionary and the frequency distribution\n",
    "print(\"Dictionary:\")\n",
    "for word, value in dictionary.items():\n",
    "    print(f\"{word}: {value}\")\n",
    "\n",
    "print(\"\\nFrequency Distribution:\")\n",
    "for number, count in sorted_distribution.items():\n",
    "    print(f\"Number {number} appears {count} time(s).\")\n",
    "\n"
   ]
  },
  {
   "cell_type": "code",
   "execution_count": null,
   "metadata": {},
   "outputs": [],
   "source": [
    "from sklearn.feature_extraction.text import CountVectorizer\n",
    "import numpy as np\n",
    "\n",
    "# Sample documents\n",
    "documents = [\n",
    "    \"pear banana fruit\",\n",
    "    \"pear orange juice\",\n",
    "    \"banana orange juice\",\n",
    "    \"apple apple orange\",\n",
    "    \"banana banana fruit\"\n",
    "]\n",
    "\n",
    "# Create a BoW matrix using CountVectorizer\n",
    "vectorizer = CountVectorizer()\n",
    "X = vectorizer.fit_transform(documents)\n",
    "\n",
    "# Convert BoW matrix to numpy array\n",
    "bow_matrix = X.toarray()\n",
    "\n",
    "# Compute in how many documents each word appears\n",
    "word_document_counts = (bow_matrix > 0).sum(axis=0)\n",
    "\n",
    "# Display the results for words appearing in multiple documents\n",
    "words = vectorizer.get_feature_names_out()\n",
    "for word, doc_count in zip(words, word_document_counts):\n",
    "    print(f\"The word '{word}' appears in {doc_count} document(s).\")\n",
    "\n",
    "# For words that appear in only one document, compute how many times they appear\n",
    "single_document_words = np.where(word_document_counts == 1)[0]\n",
    "for idx in single_document_words:\n",
    "    word = words[idx]\n",
    "    frequency = bow_matrix[:, idx].max()\n",
    "    print(f\"\\nThe word '{word}' appears in only one document, {frequency} time(s).\")\n"
   ]
  },
  {
   "cell_type": "code",
   "execution_count": null,
   "metadata": {},
   "outputs": [],
   "source": [
    "# remove - irrelevant\n",
    "import nltk\n",
    "word_pos_tag_list = []\n",
    "for word in word_list:\n",
    "    word_pos_tag_list.append(nltk.pos_tag([word]))\n",
    "word_pos_tag_list[:7]"
   ]
  },
  {
   "cell_type": "code",
   "execution_count": null,
   "metadata": {},
   "outputs": [],
   "source": [
    "x = nltk.pos_tag([name])\n",
    "x[0][1]"
   ]
  },
  {
   "cell_type": "code",
   "execution_count": null,
   "metadata": {},
   "outputs": [],
   "source": [
    "doc = nlpr(\"Apple is looking at buying U.K. startup for $1 billion\")\n",
    "\n",
    "for token in doc:\n",
    "    print(token.text, token.lemma_, token.pos_, token.tag_, token.dep_,\n",
    "            token.shape_, token.is_alpha, token.is_stop)"
   ]
  },
  {
   "cell_type": "code",
   "execution_count": null,
   "metadata": {},
   "outputs": [],
   "source": [
    "doc = nlpr(\"Apple is looking at buying U.K. startup for $1 billion\")\n",
    "\n",
    "for ent in doc.ents:\n",
    "    print(ent.text, ent.start_char, ent.end_char, ent.label_)"
   ]
  },
  {
   "cell_type": "code",
   "execution_count": null,
   "metadata": {},
   "outputs": [],
   "source": [
    "tokens = nlpr(\"dog cat banana afskfsd\")\n",
    "\n",
    "for token in tokens:\n",
    "    print(token.text, token.has_vector, token.vector_norm, token.is_oov)"
   ]
  },
  {
   "cell_type": "code",
   "execution_count": null,
   "metadata": {},
   "outputs": [],
   "source": [
    "doc1 = nlpr(\"I like salty fries and hamburgers.\")\n",
    "doc2 = nlpr(\"Fast food tastes very good.\")\n",
    "\n",
    "# Similarity of two documents\n",
    "print(doc1, \"<->\", doc2, doc1.similarity(doc2))\n",
    "# Similarity of tokens and spans\n",
    "french_fries = doc1[2:4]\n",
    "burgers = doc1[5]\n",
    "print(french_fries, \"<->\", burgers, french_fries.similarity(burgers))"
   ]
  },
  {
   "cell_type": "code",
   "execution_count": null,
   "metadata": {},
   "outputs": [],
   "source": [
    "def get_pos_tags(text):\n",
    "    \"\"\"Return POS tags for individual terms in the given text.\"\"\"\n",
    "    doc = nlpr(text)\n",
    "    return [(token.text, token.pos_) for token in doc]\n",
    "\n",
    "# Example\n",
    "text = \"calcineurin calcium channels lactoyglutathione The quick brown fox jumps over the lazy dog.\"\n",
    "tags = get_pos_tags(text)\n",
    "print(tags)"
   ]
  },
  {
   "cell_type": "code",
   "execution_count": null,
   "metadata": {},
   "outputs": [],
   "source": [
    "def generate_ngrams(tokens, n):\n",
    "    \"\"\"Generate n-grams from tokens.\"\"\"\n",
    "    return [tokens[i:i+n] for i in range(len(tokens)-n+1)]\n",
    "\n",
    "def get_pos_tags_for_ngrams(text, n=2):\n",
    "    \"\"\"Return POS tags for individual n-grams in the given text.\"\"\"\n",
    "    doc = nlpr(text)\n",
    "    \n",
    "    # Convert Doc into a list of tokens\n",
    "    tokens = [token for token in doc]\n",
    "    \n",
    "    # Generate n-grams from the list of tokens\n",
    "    ngrams = generate_ngrams(tokens, n)\n",
    "    \n",
    "    # Return n-grams and their POS tags\n",
    "    return [(\" \".join([token.text for token in ngram]), [token.pos_ for token in ngram]) for ngram in ngrams]\n",
    "\n",
    "# Example\n",
    "text = \"cr256abc aa b df mrs. 00000 0234g 111234 red green calcium channel The quick brown fox jumps over the lazy dog Apple bojan Nada Andrej.\"\n",
    "tags = get_pos_tags(text)\n",
    "bigrams = get_pos_tags_for_ngrams(text, 2)\n",
    "trigrams = get_pos_tags_for_ngrams(text, 3)\n",
    "\n",
    "print(tags)\n",
    "print(\"Unigrams:\")\n",
    "for uni in tags:\n",
    "    print(uni)\n",
    "    # print(uni[0], ' ', uni[1])\n",
    "\n",
    "print(\"Bigrams:\")\n",
    "for bi in bigrams:\n",
    "    print(bi)\n",
    "\n",
    "print(\"\\nTrigrams:\")\n",
    "for tri in trigrams:\n",
    "    print(tri)"
   ]
  },
  {
   "cell_type": "code",
   "execution_count": null,
   "metadata": {},
   "outputs": [],
   "source": []
  },
  {
   "cell_type": "code",
   "execution_count": null,
   "metadata": {},
   "outputs": [],
   "source": []
  }
 ],
 "metadata": {
  "kernelspec": {
   "display_name": "Python 3 (ipykernel)",
   "language": "python",
   "name": "python3"
  },
  "language_info": {
   "codemirror_mode": {
    "name": "ipython",
    "version": 3
   },
   "file_extension": ".py",
   "mimetype": "text/x-python",
   "name": "python",
   "nbconvert_exporter": "python",
   "pygments_lexer": "ipython3",
   "version": "3.7.9"
  }
 },
 "nbformat": 4,
 "nbformat_minor": 2
}
