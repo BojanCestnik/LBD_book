{
 "cells": [
  {
   "cell_type": "markdown",
   "metadata": {},
   "source": [
    "# Unit testing of LBD_02_data_preprocessing.ipynb with pytest and ipytest\n",
    "\n",
    "Unit testing is a good practice in software development with the pupose to improve the reliability and quality of code by verifying that individual components (units) of a program code work as expected. It enables the code to be more maintainable, scalable, and robust.\n",
    "\n",
    "In this notebook we use `pytest` library, which is a popular testing framework for Python that is best known for its simplicity and flexibility. `ipytest` is an extension of `pytest` designed specifically for use in Jupyter notebooks. It enables running `pytest` tests directly within a notebook, making it ideal for environments where data exploration, interactive analysis, and incremental development are common."
   ]
  },
  {
   "cell_type": "code",
   "execution_count": 3,
   "metadata": {},
   "outputs": [],
   "source": [
    "import logging\n",
    "\n",
    "# Initialize logging with a basic configuration\n",
    "logging.basicConfig(level=logging.INFO,\n",
    "                    format='%(asctime)s: %(levelname)s - %(message)s',\n",
    "                    datefmt='%Y-%m-%d %H:%M:%S')"
   ]
  },
  {
   "cell_type": "code",
   "execution_count": 4,
   "metadata": {},
   "outputs": [
    {
     "name": "stdout",
     "output_type": "stream",
     "text": [
      "importing Jupyter notebook from LBD_01_data_acquisition.ipynb\n",
      "importing Jupyter notebook from LBD_02_data_preprocessing.ipynb\n"
     ]
    },
    {
     "name": "stderr",
     "output_type": "stream",
     "text": [
      "[nltk_data] Downloading package stopwords to\n",
      "[nltk_data]     C:\\Users\\bojan\\AppData\\Roaming\\nltk_data...\n",
      "[nltk_data]   Package stopwords is already up-to-date!\n",
      "[nltk_data] Downloading package wordnet to\n",
      "[nltk_data]     C:\\Users\\bojan\\AppData\\Roaming\\nltk_data...\n",
      "[nltk_data]   Package wordnet is already up-to-date!\n"
     ]
    }
   ],
   "source": [
    "import import_ipynb\n",
    "import LBD_01_data_acquisition\n",
    "import LBD_02_data_preprocessing"
   ]
  },
  {
   "cell_type": "code",
   "execution_count": 5,
   "metadata": {},
   "outputs": [],
   "source": [
    "import nltk\n",
    "import numpy as np\n",
    "import itertools\n",
    "import pandas as pd\n",
    "# import pickle\n",
    "# import json\n",
    "import spacy\n",
    "from typing import List, Dict\n",
    "import re"
   ]
  },
  {
   "cell_type": "code",
   "execution_count": 6,
   "metadata": {},
   "outputs": [],
   "source": [
    "import ipytest\n",
    "ipytest.autoconfig()"
   ]
  },
  {
   "cell_type": "code",
   "execution_count": 10,
   "metadata": {},
   "outputs": [
    {
     "name": "stdout",
     "output_type": "stream",
     "text": [
      "\u001b[32m.\u001b[0m\u001b[32m.\u001b[0m\u001b[32m.\u001b[0m\u001b[32m.\u001b[0m\u001b[32m.\u001b[0m\u001b[32m.\u001b[0m\u001b[32m.\u001b[0m\u001b[32m.\u001b[0m\u001b[32m.\u001b[0m\u001b[32m.\u001b[0m\u001b[32m                                                                                   [100%]\u001b[0m\n",
      "\u001b[32m\u001b[32m\u001b[1m10 passed\u001b[0m\u001b[32m in 0.02s\u001b[0m\u001b[0m\n"
     ]
    },
    {
     "data": {
      "text/plain": [
       "<ExitCode.OK: 0>"
      ]
     },
     "execution_count": 10,
     "metadata": {},
     "output_type": "execute_result"
    }
   ],
   "source": [
    "# Test suite for the function LBD_02_data_preprocessing.do_clean_text(corpus, keep_list, remove_list)\n",
    "\n",
    "def test_do_clean_text_empty_corpus():\n",
    "    # Test with an empty corpus\n",
    "    corpus = []\n",
    "    keep_list = []\n",
    "    remove_list = []\n",
    "    expected = []\n",
    "    assert LBD_02_data_preprocessing.do_clean_text(corpus, keep_list, remove_list) == expected\n",
    "\n",
    "def test_do_clean_text_empty_strings_in_corpus():\n",
    "    # Test with a corpus containing empty strings\n",
    "    corpus = [\"\", \"   \"]\n",
    "    keep_list = []\n",
    "    remove_list = []\n",
    "    expected = [\"\", \"\"]\n",
    "    assert LBD_02_data_preprocessing.do_clean_text(corpus, keep_list, remove_list) == expected\n",
    "\n",
    "def test_do_clean_text_basic_cleaning():\n",
    "    # Test basic cleaning without keep_list or remove_list\n",
    "    corpus = [\"This   is, a   sentence! And     another;    one.\"]\n",
    "    keep_list = []\n",
    "    remove_list = []\n",
    "    expected = [\"this is sentence and another one\"]\n",
    "    assert LBD_02_data_preprocessing.do_clean_text(corpus, keep_list, remove_list) == expected\n",
    "\n",
    "def test_do_clean_text_basic_cleaning_foreign_language():\n",
    "    # Test basic cleaning without keep_list or remove_list\n",
    "    corpus = [\"Tole je, stavek z ločili! Še eden stavek; in ponovno nov stavek. Posebni znaki čšž ČŠŽ.\"]\n",
    "    keep_list = []\n",
    "    remove_list = []\n",
    "    expected = [\"tole je stavek ločili še eden stavek in ponovno nov stavek posebni znaki čšž čšž\"]\n",
    "    assert LBD_02_data_preprocessing.do_clean_text(corpus, keep_list, remove_list) == expected\n",
    "\n",
    "def test_do_clean_text_keep_list():\n",
    "    # Test with a keep_list\n",
    "    corpus = [\"This is, a sentence! I keep a book and remove the desk.\"]\n",
    "    keep_list = [\"i\", \"a\"]\n",
    "    remove_list = []\n",
    "    expected = [\"this is a sentence i keep a book and remove the desk\"]\n",
    "    assert LBD_02_data_preprocessing.do_clean_text(corpus, keep_list, remove_list) == expected\n",
    "\n",
    "def test_do_clean_text_remove_list():\n",
    "    # Test with a remove_list\n",
    "    corpus = [\"This is, a sentence! Keep a book and remove the desk.\"]\n",
    "    keep_list = []\n",
    "    remove_list = [\"book\", \"the\", \"desk\"]\n",
    "    expected = [\"this is sentence keep and remove\"]\n",
    "    assert LBD_02_data_preprocessing.do_clean_text(corpus, keep_list, remove_list) == expected\n",
    "\n",
    "def test_do_clean_text_keep_and_remove_list():\n",
    "    # Test with both keep_list and remove_list\n",
    "    corpus = [\"This is, a sentence! I keep a book and remove the desk.\"]\n",
    "    keep_list = [\"i\"]\n",
    "    remove_list = [\"book\", \"desk\"]\n",
    "    expected = [\"this is sentence i keep and remove the\"]\n",
    "    assert LBD_02_data_preprocessing.do_clean_text(corpus, keep_list, remove_list) == expected\n",
    "\n",
    "def test_do_clean_text_numeric_values():\n",
    "    # Test with numeric values in the corpus\n",
    "    corpus = [\"Hello123 123 world456 456, I would like to 789keep 789 this.\"]\n",
    "    keep_list = [\"789\"]\n",
    "    remove_list = []\n",
    "    expected = [\"hello123 world456 would like to 789keep 789 this\"]\n",
    "    assert LBD_02_data_preprocessing.do_clean_text(corpus, keep_list, remove_list) == expected\n",
    "\n",
    "def test_do_clean_text_short_words():\n",
    "    # Test with short words that should be removed\n",
    "    corpus = [\"I saw a quick brown fox.\"]\n",
    "    keep_list = [\"i\"]\n",
    "    remove_list = [\"brown\"]\n",
    "    expected = [\"i saw quick fox\"]\n",
    "    assert LBD_02_data_preprocessing.do_clean_text(corpus, keep_list, remove_list) == expected\n",
    "\n",
    "def test_do_clean_text_mixed_case():\n",
    "    # Test with mixed case words\n",
    "    corpus = [\"This IS, a SENTENCE! I KEEP a book and REMOVE the desk.!\"]\n",
    "    keep_list = ['sentence']\n",
    "    remove_list = ['remove']\n",
    "    expected = [\"this is sentence keep book and the desk\"]\n",
    "    assert LBD_02_data_preprocessing.do_clean_text(corpus, keep_list, remove_list) == expected\n",
    "\n",
    "ipytest.run()"
   ]
  },
  {
   "cell_type": "code",
   "execution_count": 11,
   "metadata": {},
   "outputs": [
    {
     "name": "stdout",
     "output_type": "stream",
     "text": [
      "The stow word list:  {'ve', 'most', \"wouldn't\", 'being', 'because', 'more', 'shouldn', 'your', 're', 'ours', 'while', 'her', 'should', \"should've\", 'isn', 'his', \"shan't\", \"aren't\", 'was', 'our', 'for', 'other', 'again', 'yours', 'myself', 'it', 'had', 'will', \"doesn't\", \"shouldn't\", 'few', 'you', 'themselves', 'above', 'under', 'be', 'only', 'into', 'am', 'did', 'shan', 'this', 'can', 'hasn', 'too', 'hadn', 'needn', \"it's\", 'then', \"didn't\", 'doesn', 'were', 'from', 'the', 'wouldn', \"haven't\", \"needn't\", 'down', 'such', \"won't\", 'wasn', 'ma', 'him', 'to', 'didn', 'does', 'a', 'herself', 'is', \"you'd\", 'during', 'she', 'off', 'out', 'and', 'mightn', 'these', 's', 'aren', \"that'll\", 'are', 'm', \"hasn't\", 'himself', 'below', 'been', 'y', 'all', \"wasn't\", \"isn't\", 'at', 'he', 'doing', 'up', \"mustn't\", 'against', 'me', 'on', 'own', 'here', 'don', 'until', 'has', 'haven', 'not', 'between', 'nor', 'mustn', \"couldn't\", 'ourselves', 'll', 'we', \"don't\", 'so', 'in', \"you're\", 'but', 'won', 'yourself', 'o', 'those', 'theirs', 'no', 'that', 'they', 'through', 'each', \"she's\", 'by', \"weren't\", \"mightn't\", 'hers', 'itself', 'couldn', 'with', 'further', 'some', 'weren', 'before', 'ain', \"you've\", 'an', 'my', 'about', 'than', 'd', 'once', \"you'll\", 'as', 'both', \"hadn't\", 'its', 'their', 'just', 't', 'yourselves', 'having', 'there', 'now', 'have', 'over', 'very', 'any', 'them', 'if', 'do', 'same', 'of', 'after', 'or', 'i'}\n"
     ]
    }
   ],
   "source": [
    "from nltk.corpus import stopwords\n",
    "wh_words = ['who', 'what', 'when', 'why', 'how', 'which', 'where', 'whom']\n",
    "stop = set(stopwords.words('english'))\n",
    "for word in wh_words:\n",
    "    stop.remove(word)\n",
    "print(\"The stow word list: \", stop)"
   ]
  },
  {
   "cell_type": "code",
   "execution_count": 12,
   "metadata": {},
   "outputs": [
    {
     "name": "stdout",
     "output_type": "stream",
     "text": [
      "\u001b[32m.\u001b[0m\u001b[32m.\u001b[0m\u001b[32m.\u001b[0m\u001b[32m.\u001b[0m\u001b[32m.\u001b[0m\u001b[32m.\u001b[0m\u001b[32m.\u001b[0m\u001b[32m.\u001b[0m\u001b[32m.\u001b[0m\u001b[32m.\u001b[0m\u001b[32m.\u001b[0m\u001b[32m.\u001b[0m\u001b[32m.\u001b[0m\u001b[32m.\u001b[0m\u001b[32m.\u001b[0m\u001b[32m.\u001b[0m\u001b[32m.\u001b[0m\u001b[32m                                                                            [100%]\u001b[0m\n",
      "\u001b[32m\u001b[32m\u001b[1m17 passed\u001b[0m\u001b[32m in 0.03s\u001b[0m\u001b[0m\n"
     ]
    },
    {
     "data": {
      "text/plain": [
       "<ExitCode.OK: 0>"
      ]
     },
     "execution_count": 12,
     "metadata": {},
     "output_type": "execute_result"
    }
   ],
   "source": [
    "# Test suite for the function LBD_02_data_preprocessing.do_remove_stopwords(corpus)\n",
    "\n",
    "def test_do_remove_stopwords_empty_corpus():\n",
    "    # Test with an empty corpus\n",
    "    corpus = LBD_02_data_preprocessing.do_clean_text([], [], [])\n",
    "    expected = []\n",
    "    assert LBD_02_data_preprocessing.do_remove_stopwords(corpus) == expected\n",
    "\n",
    "def test_do_remove_stopwords_no_stopwords_in_corpus():\n",
    "    # Test when the corpus has no stopwords\n",
    "    corpus = LBD_02_data_preprocessing.do_clean_text([\"Python programming\", \"Machine Learning\"], [], [])\n",
    "    expected = [[\"python\", \"programming\"], [\"machine\", \"learning\"]]\n",
    "    assert LBD_02_data_preprocessing.do_remove_stopwords(corpus) == expected\n",
    "\n",
    "def test_do_remove_stopwords_all_stopwords_in_corpus():\n",
    "    # Test when the corpus is filled with stopwords\n",
    "    corpus = LBD_02_data_preprocessing.do_clean_text([\"the a in on\", \"and but if or\"], [], [])\n",
    "    expected = [[], []]\n",
    "    assert LBD_02_data_preprocessing.do_remove_stopwords(corpus) == expected\n",
    "\n",
    "def test_do_remove_stopwords_mixed_corpus_with_stopwords():\n",
    "    # Test with a mixed corpus containing stopwords and non-stopwords\n",
    "    corpus = LBD_02_data_preprocessing.do_clean_text([\"This is a test\", \"I am learning Python\"], [\"i\"], [])\n",
    "    expected = [[\"test\"], [\"learning\", \"python\"]]\n",
    "    assert LBD_02_data_preprocessing.do_remove_stopwords(corpus) == expected\n",
    "\n",
    "def test_do_remove_stopwords_wh_words_preserved():\n",
    "    # Test to ensure wh-words are preserved\n",
    "    corpus = LBD_02_data_preprocessing.do_clean_text([\"Who are you\", \"Why is this happening\", \"Where is Python used\"], [], [])\n",
    "    expected = [[\"who\"], [\"why\", \"happening\"], [\"where\", \"python\", \"used\"]]\n",
    "    assert LBD_02_data_preprocessing.do_remove_stopwords(corpus) == expected\n",
    "\n",
    "def test_do_remove_stopwords_case_insensitivity():\n",
    "    # Test to ensure the function handles mixed case correctly\n",
    "    corpus = LBD_02_data_preprocessing.do_clean_text([\"This is A Test\", \"Who Knows Why\"], [], [])\n",
    "    expected = [[\"test\"], [\"who\", \"knows\", \"why\"]]\n",
    "    assert LBD_02_data_preprocessing.do_remove_stopwords(corpus) == expected\n",
    "\n",
    "def test_do_remove_stopwords_numbers_and_symbols():\n",
    "    # Test to ensure numbers and symbols are not considered stopwords\n",
    "    corpus = LBD_02_data_preprocessing.do_clean_text([\"100 dollars\", \"Python is #1\"], [], [])\n",
    "    expected = [[\"dollars\"], [\"python\"]]\n",
    "    assert LBD_02_data_preprocessing.do_remove_stopwords(corpus) == expected\n",
    "\n",
    "ipytest.run()\n"
   ]
  },
  {
   "cell_type": "code",
   "execution_count": null,
   "metadata": {},
   "outputs": [],
   "source": []
  },
  {
   "cell_type": "code",
   "execution_count": 2,
   "metadata": {},
   "outputs": [
    {
     "name": "stdout",
     "output_type": "stream",
     "text": [
      "Cleaned Text: helloworld1234welcometopython2024\n"
     ]
    }
   ],
   "source": [
    "#remove later\n",
    "import re\n",
    "\n",
    "def remove_unwanted_characters(text):\n",
    "    # Define the regex pattern to match any character that is not a-z or 0-9\n",
    "    pattern = '[^a-z0-9]'\n",
    "    # Replace all characters that match the pattern with an empty string\n",
    "    cleaned_text = re.sub(pattern, '', text)\n",
    "    return cleaned_text\n",
    "\n",
    "# Example usage:\n",
    "text = \"Hello, World! 1234. Welcome to Python @2024.!\"\n",
    "cleaned_text = remove_unwanted_characters(text.lower())  # Convert to lowercase before filtering\n",
    "print(\"Cleaned Text:\", cleaned_text)\n"
   ]
  },
  {
   "cell_type": "code",
   "execution_count": null,
   "metadata": {},
   "outputs": [],
   "source": []
  },
  {
   "cell_type": "code",
   "execution_count": null,
   "metadata": {},
   "outputs": [],
   "source": [
    "# Cell 2: Write a test\n",
    "def test_addition():\n",
    "    assert 1 + 1 == 2\n",
    "    \n",
    "# Cell 3: Run tests\n",
    "ipytest.run('-vv')\n",
    "\n",
    "# https://medium.com/@mefengl/using-pytest-in-jupyter-notebooks-a-practical-guide-1ba8e02af288\n",
    "\n",
    "def my_func(x):\n",
    "    return x // 2 * 2 \n",
    "\n",
    "%%ipytest\n",
    "#To execute test, just decorate the cells containing tests with the %%ipytest magic:\n",
    "\n",
    "# define the tests\n",
    "\n",
    "def test_my_func():\n",
    "    assert my_func(0) == 0\n",
    "    assert my_func(1) == 0\n",
    "    assert my_func(2) == 2\n",
    "    assert my_func(3) == 2\n",
    "\n",
    "#To execute tests without IPython magics use the ipytest.run function\n",
    "ipytest.run()\n",
    "\n",
    "%%ipytest\n",
    "#Using pytest fixtures - Common pytest features, such as fixtures and parametrize, are supported out of the box:\n",
    "\n",
    "import pytest\n",
    "\n",
    "@pytest.mark.parametrize('input,expected', [\n",
    "    (0, 0),\n",
    "    (1, 0),\n",
    "    (2, 2),\n",
    "    (3, 2),\n",
    "])\n",
    "\n",
    "def test_parametrized(input, expected):\n",
    "    assert my_func(input) == expected\n",
    "\n",
    "@pytest.fixture\n",
    "def my_fixture():\n",
    "    return 42\n",
    "    \n",
    "def test_fixture(my_fixture):\n",
    "    assert my_fixture == 42   "
   ]
  }
 ],
 "metadata": {
  "kernelspec": {
   "display_name": "venv",
   "language": "python",
   "name": "python3"
  },
  "language_info": {
   "codemirror_mode": {
    "name": "ipython",
    "version": 3
   },
   "file_extension": ".py",
   "mimetype": "text/x-python",
   "name": "python",
   "nbconvert_exporter": "python",
   "pygments_lexer": "ipython3",
   "version": "3.7.9"
  }
 },
 "nbformat": 4,
 "nbformat_minor": 2
}
